{
 "cells": [
  {
   "cell_type": "code",
   "execution_count": 1,
   "metadata": {
    "execution": {
     "iopub.execute_input": "2022-11-25T04:49:06.350017Z",
     "iopub.status.busy": "2022-11-25T04:49:06.349601Z",
     "iopub.status.idle": "2022-11-25T04:49:11.765093Z",
     "shell.execute_reply": "2022-11-25T04:49:11.764270Z",
     "shell.execute_reply.started": "2022-11-25T04:49:06.349944Z"
    },
    "id": "tahYWlMtUgtO",
    "tags": []
   },
   "outputs": [
    {
     "name": "stderr",
     "output_type": "stream",
     "text": [
      "2022-11-24 20:49:07.709987: I tensorflow/core/platform/cpu_feature_guard.cc:193] This TensorFlow binary is optimized with oneAPI Deep Neural Network Library (oneDNN) to use the following CPU instructions in performance-critical operations:  AVX2 FMA\n",
      "To enable them in other operations, rebuild TensorFlow with the appropriate compiler flags.\n"
     ]
    }
   ],
   "source": [
    "import pandas as pd\n",
    "import numpy as np \n",
    "import matplotlib.pyplot as plt\n",
    "import tensorflow as tf"
   ]
  },
  {
   "cell_type": "code",
   "execution_count": 2,
   "metadata": {
    "execution": {
     "iopub.execute_input": "2022-11-25T04:49:11.768804Z",
     "iopub.status.busy": "2022-11-25T04:49:11.768465Z",
     "iopub.status.idle": "2022-11-25T04:49:11.782220Z",
     "shell.execute_reply": "2022-11-25T04:49:11.780967Z",
     "shell.execute_reply.started": "2022-11-25T04:49:11.768763Z"
    },
    "id": "iot_sfavpTjS",
    "tags": []
   },
   "outputs": [],
   "source": [
    "from tensorflow.keras.preprocessing.sequence import pad_sequences\n",
    "from tensorflow.keras.utils import to_categorical\n",
    "from tensorflow.keras.layers import Flatten, GRU, Dense, Flatten, Embedding, LSTM\n",
    "from tensorflow.keras.models import Sequential"
   ]
  },
  {
   "cell_type": "code",
   "execution_count": 3,
   "metadata": {
    "colab": {
     "base_uri": "https://localhost:8080/"
    },
    "execution": {
     "iopub.execute_input": "2022-11-25T04:49:11.785067Z",
     "iopub.status.busy": "2022-11-25T04:49:11.784476Z",
     "iopub.status.idle": "2022-11-25T04:49:12.701951Z",
     "shell.execute_reply": "2022-11-25T04:49:12.701317Z",
     "shell.execute_reply.started": "2022-11-25T04:49:11.785014Z"
    },
    "id": "9iiU80KsUgv-",
    "outputId": "9b49cc08-0bb1-4311-8b5e-06c01c8e98ff",
    "tags": []
   },
   "outputs": [
    {
     "name": "stderr",
     "output_type": "stream",
     "text": [
      "[nltk_data] Downloading package stopwords to\n",
      "[nltk_data]     /Users/yasamanemami/nltk_data...\n",
      "[nltk_data]   Package stopwords is already up-to-date!\n"
     ]
    }
   ],
   "source": [
    "from nltk.corpus import stopwords\n",
    "import nltk\n",
    "nltk.download('stopwords')\n",
    "# stopwords removing\n",
    "sw = stopwords.words(\"english\")"
   ]
  },
  {
   "cell_type": "code",
   "execution_count": 4,
   "metadata": {
    "colab": {
     "base_uri": "https://localhost:8080/"
    },
    "execution": {
     "iopub.execute_input": "2022-11-25T04:49:12.703601Z",
     "iopub.status.busy": "2022-11-25T04:49:12.703181Z",
     "iopub.status.idle": "2022-11-25T04:49:12.709396Z",
     "shell.execute_reply": "2022-11-25T04:49:12.706471Z",
     "shell.execute_reply.started": "2022-11-25T04:49:12.703577Z"
    },
    "id": "rSvM6qWqUgzP",
    "outputId": "4a2945db-ccc6-47b6-93fa-d3c8b6e48d22",
    "tags": []
   },
   "outputs": [],
   "source": [
    "# from google.colab import drive\n",
    "# drive.mount(\"/content/gdrive\")"
   ]
  },
  {
   "cell_type": "code",
   "execution_count": 5,
   "metadata": {
    "execution": {
     "iopub.execute_input": "2022-11-25T04:49:12.711783Z",
     "iopub.status.busy": "2022-11-25T04:49:12.711153Z",
     "iopub.status.idle": "2022-11-25T04:49:13.298612Z",
     "shell.execute_reply": "2022-11-25T04:49:13.297805Z",
     "shell.execute_reply.started": "2022-11-25T04:49:12.711743Z"
    },
    "id": "ks9FJuJgX-0h",
    "tags": []
   },
   "outputs": [],
   "source": [
    "import pandas as pd\n",
    "df = pd.read_csv('imdb_db.csv')"
   ]
  },
  {
   "cell_type": "code",
   "execution_count": 6,
   "metadata": {
    "colab": {
     "base_uri": "https://localhost:8080/",
     "height": 206
    },
    "execution": {
     "iopub.execute_input": "2022-11-25T04:49:13.299877Z",
     "iopub.status.busy": "2022-11-25T04:49:13.299608Z",
     "iopub.status.idle": "2022-11-25T04:49:13.323890Z",
     "shell.execute_reply": "2022-11-25T04:49:13.319660Z",
     "shell.execute_reply.started": "2022-11-25T04:49:13.299849Z"
    },
    "id": "VBAGozG6Uzc1",
    "outputId": "44f18dd3-acc0-41d0-cbe2-94c7213e2328",
    "tags": []
   },
   "outputs": [
    {
     "data": {
      "text/html": [
       "<div>\n",
       "<style scoped>\n",
       "    .dataframe tbody tr th:only-of-type {\n",
       "        vertical-align: middle;\n",
       "    }\n",
       "\n",
       "    .dataframe tbody tr th {\n",
       "        vertical-align: top;\n",
       "    }\n",
       "\n",
       "    .dataframe thead th {\n",
       "        text-align: right;\n",
       "    }\n",
       "</style>\n",
       "<table border=\"1\" class=\"dataframe\">\n",
       "  <thead>\n",
       "    <tr style=\"text-align: right;\">\n",
       "      <th></th>\n",
       "      <th>review</th>\n",
       "      <th>sentiment</th>\n",
       "    </tr>\n",
       "  </thead>\n",
       "  <tbody>\n",
       "    <tr>\n",
       "      <th>0</th>\n",
       "      <td>One of the other reviewers has mentioned that ...</td>\n",
       "      <td>positive</td>\n",
       "    </tr>\n",
       "    <tr>\n",
       "      <th>1</th>\n",
       "      <td>A wonderful little production. &lt;br /&gt;&lt;br /&gt;The...</td>\n",
       "      <td>positive</td>\n",
       "    </tr>\n",
       "    <tr>\n",
       "      <th>2</th>\n",
       "      <td>I thought this was a wonderful way to spend ti...</td>\n",
       "      <td>positive</td>\n",
       "    </tr>\n",
       "    <tr>\n",
       "      <th>3</th>\n",
       "      <td>Basically there's a family where a little boy ...</td>\n",
       "      <td>negative</td>\n",
       "    </tr>\n",
       "    <tr>\n",
       "      <th>4</th>\n",
       "      <td>Petter Mattei's \"Love in the Time of Money\" is...</td>\n",
       "      <td>positive</td>\n",
       "    </tr>\n",
       "  </tbody>\n",
       "</table>\n",
       "</div>"
      ],
      "text/plain": [
       "                                              review sentiment\n",
       "0  One of the other reviewers has mentioned that ...  positive\n",
       "1  A wonderful little production. <br /><br />The...  positive\n",
       "2  I thought this was a wonderful way to spend ti...  positive\n",
       "3  Basically there's a family where a little boy ...  negative\n",
       "4  Petter Mattei's \"Love in the Time of Money\" is...  positive"
      ]
     },
     "execution_count": 6,
     "metadata": {},
     "output_type": "execute_result"
    }
   ],
   "source": [
    "df.head()"
   ]
  },
  {
   "cell_type": "code",
   "execution_count": 7,
   "metadata": {
    "colab": {
     "base_uri": "https://localhost:8080/"
    },
    "execution": {
     "iopub.execute_input": "2022-11-25T04:49:13.330423Z",
     "iopub.status.busy": "2022-11-25T04:49:13.329888Z",
     "iopub.status.idle": "2022-11-25T04:49:13.336031Z",
     "shell.execute_reply": "2022-11-25T04:49:13.335133Z",
     "shell.execute_reply.started": "2022-11-25T04:49:13.330358Z"
    },
    "id": "zEhZj4j9b0UE",
    "outputId": "6fbf95e7-d2f4-40f0-ed0d-e7c429ab28a0",
    "tags": []
   },
   "outputs": [
    {
     "data": {
      "text/plain": [
       "(50000, 2)"
      ]
     },
     "execution_count": 7,
     "metadata": {},
     "output_type": "execute_result"
    }
   ],
   "source": [
    "df.shape\n"
   ]
  },
  {
   "cell_type": "code",
   "execution_count": 8,
   "metadata": {
    "colab": {
     "base_uri": "https://localhost:8080/"
    },
    "execution": {
     "iopub.execute_input": "2022-11-25T04:49:13.339138Z",
     "iopub.status.busy": "2022-11-25T04:49:13.338140Z",
     "iopub.status.idle": "2022-11-25T04:49:13.344275Z",
     "shell.execute_reply": "2022-11-25T04:49:13.343509Z",
     "shell.execute_reply.started": "2022-11-25T04:49:13.339066Z"
    },
    "id": "uHWIt2RwYuVM",
    "outputId": "6d7a3725-fdd5-49d9-d2a9-fb848a2d2ae5",
    "tags": []
   },
   "outputs": [
    {
     "name": "stdout",
     "output_type": "stream",
     "text": [
      "Basically there's a family where a little boy (Jake) thinks there's a zombie in his closet & his parents are fighting all the time.<br /><br />This movie is slower than a soap opera... and suddenly, Jake decides to become Rambo and kill the zombie.<br /><br />OK, first of all when you're going to make a film you must Decide if its a thriller or a drama! As a drama the movie is watchable. Parents are divorcing & arguing like in real life. And then we have Jake with his closet which totally ruins all the film! I expected to see a BOOGEYMAN similar movie, and instead i watched a drama with some meaningless thriller spots.<br /><br />3 out of 10 just for the well playing parents & descent dialogs. As for the shots with Jake: just ignore them.\n"
     ]
    }
   ],
   "source": [
    "print(df[\"review\"][3])"
   ]
  },
  {
   "cell_type": "code",
   "execution_count": 9,
   "metadata": {
    "execution": {
     "iopub.execute_input": "2022-11-25T04:49:13.346066Z",
     "iopub.status.busy": "2022-11-25T04:49:13.345612Z",
     "iopub.status.idle": "2022-11-25T04:49:13.351821Z",
     "shell.execute_reply": "2022-11-25T04:49:13.350672Z",
     "shell.execute_reply.started": "2022-11-25T04:49:13.346040Z"
    },
    "id": "aZXeFEENaAoh",
    "tags": []
   },
   "outputs": [],
   "source": [
    "# Implement preprocessing function\n",
    "import re\n",
    "\n",
    "def clean(text):\n",
    "    text = text.lower()\n",
    "    text = re.sub(\"https?://\\w+\\.\\w+\\.\\w+\", \" \", text)\n",
    "    text = re.sub(r\"\\s+[a-zA-Z]\\s+\", ' ', text)\n",
    "    result = []\n",
    "    for word in text.split():\n",
    "        if word not in sw:\n",
    "            result.append(word)\n",
    "    return \" \".join(result)"
   ]
  },
  {
   "cell_type": "code",
   "execution_count": 10,
   "metadata": {
    "execution": {
     "iopub.execute_input": "2022-11-25T04:49:13.354812Z",
     "iopub.status.busy": "2022-11-25T04:49:13.354140Z",
     "iopub.status.idle": "2022-11-25T04:49:37.141690Z",
     "shell.execute_reply": "2022-11-25T04:49:37.141004Z",
     "shell.execute_reply.started": "2022-11-25T04:49:13.354703Z"
    },
    "id": "-pLEFmerhaet",
    "tags": []
   },
   "outputs": [],
   "source": [
    "X = df[\"review\"].apply(clean)"
   ]
  },
  {
   "cell_type": "code",
   "execution_count": 11,
   "metadata": {
    "execution": {
     "iopub.execute_input": "2022-11-25T04:49:37.143247Z",
     "iopub.status.busy": "2022-11-25T04:49:37.142873Z",
     "iopub.status.idle": "2022-11-25T04:49:37.150158Z",
     "shell.execute_reply": "2022-11-25T04:49:37.149340Z",
     "shell.execute_reply.started": "2022-11-25T04:49:37.143222Z"
    }
   },
   "outputs": [
    {
     "data": {
      "text/plain": [
       "0        one reviewers mentioned watching 1 oz episode ...\n",
       "1        wonderful little production. <br /><br />the f...\n",
       "2        thought wonderful way spend time hot summer we...\n",
       "3        basically there's family little boy (jake) thi...\n",
       "4        petter mattei's \"love time money\" visually stu...\n",
       "                               ...                        \n",
       "49995    thought movie right good job. creative origina...\n",
       "49996    bad plot, bad dialogue, bad acting, idiotic di...\n",
       "49997    catholic taught parochial elementary schools n...\n",
       "49998    i'm going disagree previous comment side malti...\n",
       "49999    one expects star trek movies high art, fans ex...\n",
       "Name: review, Length: 50000, dtype: object"
      ]
     },
     "execution_count": 11,
     "metadata": {},
     "output_type": "execute_result"
    }
   ],
   "source": [
    "X"
   ]
  },
  {
   "cell_type": "code",
   "execution_count": 12,
   "metadata": {
    "execution": {
     "iopub.execute_input": "2022-11-25T04:49:37.151629Z",
     "iopub.status.busy": "2022-11-25T04:49:37.151270Z",
     "iopub.status.idle": "2022-11-25T04:49:37.162143Z",
     "shell.execute_reply": "2022-11-25T04:49:37.160955Z",
     "shell.execute_reply.started": "2022-11-25T04:49:37.151590Z"
    },
    "id": "gCIDsyoikjzd",
    "tags": []
   },
   "outputs": [],
   "source": [
    "y = np.where(df[\"sentiment\"] == \"positive\", 1, 0)"
   ]
  },
  {
   "cell_type": "code",
   "execution_count": 13,
   "metadata": {
    "execution": {
     "iopub.execute_input": "2022-11-25T04:49:37.165493Z",
     "iopub.status.busy": "2022-11-25T04:49:37.163780Z",
     "iopub.status.idle": "2022-11-25T04:49:37.172517Z",
     "shell.execute_reply": "2022-11-25T04:49:37.171867Z",
     "shell.execute_reply.started": "2022-11-25T04:49:37.165428Z"
    },
    "id": "EPwfiXf8iX0b",
    "tags": []
   },
   "outputs": [],
   "source": [
    "from sklearn.model_selection import train_test_split"
   ]
  },
  {
   "cell_type": "code",
   "execution_count": 14,
   "metadata": {
    "execution": {
     "iopub.execute_input": "2022-11-25T04:49:37.173696Z",
     "iopub.status.busy": "2022-11-25T04:49:37.173405Z",
     "iopub.status.idle": "2022-11-25T04:49:37.190175Z",
     "shell.execute_reply": "2022-11-25T04:49:37.188849Z",
     "shell.execute_reply.started": "2022-11-25T04:49:37.173670Z"
    },
    "id": "9P0-w8TajCWs",
    "tags": []
   },
   "outputs": [],
   "source": [
    "X_train, X_test, y_train, y_test = train_test_split(X, y, test_size=0.20)"
   ]
  },
  {
   "cell_type": "code",
   "execution_count": 15,
   "metadata": {
    "colab": {
     "base_uri": "https://localhost:8080/"
    },
    "execution": {
     "iopub.execute_input": "2022-11-25T04:49:37.192579Z",
     "iopub.status.busy": "2022-11-25T04:49:37.191942Z",
     "iopub.status.idle": "2022-11-25T04:49:37.206005Z",
     "shell.execute_reply": "2022-11-25T04:49:37.204828Z",
     "shell.execute_reply.started": "2022-11-25T04:49:37.192548Z"
    },
    "id": "UhBdKQP7jCY3",
    "outputId": "892a70b0-87d2-45dc-f474-ed2dd93c12cc",
    "tags": []
   },
   "outputs": [
    {
     "data": {
      "text/plain": [
       "4109     film evil breed: legend samhain contains littl...\n",
       "30907    film's tagline \"you think know are. idea.\" rej...\n",
       "23798    12th animated disney classic reasonable movie ...\n",
       "12454    can't believe bad \"film\" is. starters, movie d...\n",
       "34525    wanting see cut since day heard it, sometime l...\n",
       "                               ...                        \n",
       "40238    appears there's middle ground movie! takes pla...\n",
       "1242     high hopes movie. theater monologue great nic ...\n",
       "36375    stated countless times, \"the hills eyes 2\" rem...\n",
       "47693    read 100 nancy drew books, bright enough catch...\n",
       "29534    coltrane idle members bank robbery gang double...\n",
       "Name: review, Length: 40000, dtype: object"
      ]
     },
     "execution_count": 15,
     "metadata": {},
     "output_type": "execute_result"
    }
   ],
   "source": [
    "X_train"
   ]
  },
  {
   "cell_type": "code",
   "execution_count": 16,
   "metadata": {
    "execution": {
     "iopub.execute_input": "2022-11-25T04:49:37.207610Z",
     "iopub.status.busy": "2022-11-25T04:49:37.207186Z",
     "iopub.status.idle": "2022-11-25T04:49:38.689370Z",
     "shell.execute_reply": "2022-11-25T04:49:38.688492Z",
     "shell.execute_reply.started": "2022-11-25T04:49:37.207582Z"
    },
    "id": "uPT6cCNpjCb3",
    "tags": []
   },
   "outputs": [],
   "source": [
    "X_train=np.array(X_train.values.tolist())\n",
    "X_test=np.array(X_test.values.tolist())"
   ]
  },
  {
   "cell_type": "code",
   "execution_count": 17,
   "metadata": {
    "execution": {
     "iopub.execute_input": "2022-11-25T04:49:38.691122Z",
     "iopub.status.busy": "2022-11-25T04:49:38.690832Z",
     "iopub.status.idle": "2022-11-25T04:49:38.696963Z",
     "shell.execute_reply": "2022-11-25T04:49:38.696075Z",
     "shell.execute_reply.started": "2022-11-25T04:49:38.691095Z"
    },
    "id": "1kCKQ7qciX9a",
    "tags": []
   },
   "outputs": [],
   "source": [
    "from keras_preprocessing.text import Tokenizer"
   ]
  },
  {
   "cell_type": "code",
   "execution_count": 18,
   "metadata": {
    "execution": {
     "iopub.execute_input": "2022-11-25T04:49:38.699771Z",
     "iopub.status.busy": "2022-11-25T04:49:38.698797Z",
     "iopub.status.idle": "2022-11-25T04:49:38.704329Z",
     "shell.execute_reply": "2022-11-25T04:49:38.703688Z",
     "shell.execute_reply.started": "2022-11-25T04:49:38.699726Z"
    },
    "id": "x_1PRmaqiYAd",
    "tags": []
   },
   "outputs": [],
   "source": [
    "tokenizer = Tokenizer()"
   ]
  },
  {
   "cell_type": "code",
   "execution_count": 19,
   "metadata": {
    "execution": {
     "iopub.execute_input": "2022-11-25T04:49:38.705801Z",
     "iopub.status.busy": "2022-11-25T04:49:38.705453Z",
     "iopub.status.idle": "2022-11-25T04:49:45.757922Z",
     "shell.execute_reply": "2022-11-25T04:49:45.757150Z",
     "shell.execute_reply.started": "2022-11-25T04:49:38.705772Z"
    },
    "id": "woUfOIG7iYDa",
    "tags": []
   },
   "outputs": [],
   "source": [
    "tokenizer.fit_on_texts(X_train)"
   ]
  },
  {
   "cell_type": "code",
   "execution_count": 20,
   "metadata": {
    "execution": {
     "iopub.execute_input": "2022-11-25T04:49:45.759565Z",
     "iopub.status.busy": "2022-11-25T04:49:45.759155Z",
     "iopub.status.idle": "2022-11-25T04:49:45.765042Z",
     "shell.execute_reply": "2022-11-25T04:49:45.763333Z",
     "shell.execute_reply.started": "2022-11-25T04:49:45.759504Z"
    },
    "id": "hp_JKBali1I4",
    "tags": []
   },
   "outputs": [],
   "source": [
    "word_index=tokenizer.word_index"
   ]
  },
  {
   "cell_type": "code",
   "execution_count": 21,
   "metadata": {
    "colab": {
     "base_uri": "https://localhost:8080/"
    },
    "collapsed": true,
    "execution": {
     "iopub.execute_input": "2022-11-25T04:49:45.767224Z",
     "iopub.status.busy": "2022-11-25T04:49:45.766860Z",
     "iopub.status.idle": "2022-11-25T04:49:45.839069Z",
     "shell.execute_reply": "2022-11-25T04:49:45.838044Z",
     "shell.execute_reply.started": "2022-11-25T04:49:45.767197Z"
    },
    "id": "yHmcmAgRmYMv",
    "jupyter": {
     "outputs_hidden": true
    },
    "outputId": "19f1a802-9700-418f-9267-871822c6361d",
    "tags": []
   },
   "outputs": [
    {
     "data": {
      "text/plain": [
       "{'br': 1,\n",
       " 'movie': 2,\n",
       " 'film': 3,\n",
       " 'one': 4,\n",
       " 'like': 5,\n",
       " 'good': 6,\n",
       " 'the': 7,\n",
       " 'it': 8,\n",
       " 'time': 9,\n",
       " 'even': 10,\n",
       " 'would': 11,\n",
       " 'see': 12,\n",
       " 'story': 13,\n",
       " 'really': 14,\n",
       " 'well': 15,\n",
       " 'much': 16,\n",
       " 'bad': 17,\n",
       " 'get': 18,\n",
       " 'great': 19,\n",
       " 'also': 20,\n",
       " 'people': 21,\n",
       " 'first': 22,\n",
       " 'made': 23,\n",
       " 'make': 24,\n",
       " 'way': 25,\n",
       " 'movies': 26,\n",
       " 'could': 27,\n",
       " 'think': 28,\n",
       " 'characters': 29,\n",
       " 'watch': 30,\n",
       " 'films': 31,\n",
       " 'many': 32,\n",
       " 'two': 33,\n",
       " 'seen': 34,\n",
       " 'character': 35,\n",
       " 'i': 36,\n",
       " 'never': 37,\n",
       " 'love': 38,\n",
       " 'plot': 39,\n",
       " 'acting': 40,\n",
       " 'life': 41,\n",
       " 'best': 42,\n",
       " 'know': 43,\n",
       " 'little': 44,\n",
       " 'show': 45,\n",
       " 'this': 46,\n",
       " 'ever': 47,\n",
       " 'better': 48,\n",
       " 'man': 49,\n",
       " 'end': 50,\n",
       " 'scene': 51,\n",
       " 'still': 52,\n",
       " 'and': 53,\n",
       " 'say': 54,\n",
       " 'scenes': 55,\n",
       " 'something': 56,\n",
       " 'go': 57,\n",
       " 'back': 58,\n",
       " \"i'm\": 59,\n",
       " 'real': 60,\n",
       " 'watching': 61,\n",
       " 'thing': 62,\n",
       " 'actors': 63,\n",
       " 'funny': 64,\n",
       " 'old': 65,\n",
       " 'though': 66,\n",
       " 'years': 67,\n",
       " 'another': 68,\n",
       " '10': 69,\n",
       " 'work': 70,\n",
       " 'actually': 71,\n",
       " 'nothing': 72,\n",
       " 'all': 73,\n",
       " 'makes': 74,\n",
       " 'director': 75,\n",
       " 'new': 76,\n",
       " 'look': 77,\n",
       " 'find': 78,\n",
       " 'going': 79,\n",
       " 'lot': 80,\n",
       " 'every': 81,\n",
       " 'part': 82,\n",
       " 'cast': 83,\n",
       " 'us': 84,\n",
       " 'want': 85,\n",
       " 'quite': 86,\n",
       " 'things': 87,\n",
       " 'world': 88,\n",
       " 'horror': 89,\n",
       " 'pretty': 90,\n",
       " 'seems': 91,\n",
       " 'around': 92,\n",
       " 'young': 93,\n",
       " \"can't\": 94,\n",
       " 'take': 95,\n",
       " 'however': 96,\n",
       " 'in': 97,\n",
       " 'fact': 98,\n",
       " 'big': 99,\n",
       " 'enough': 100,\n",
       " 'thought': 101,\n",
       " 'long': 102,\n",
       " 'got': 103,\n",
       " 'that': 104,\n",
       " \"that's\": 105,\n",
       " 'give': 106,\n",
       " 'may': 107,\n",
       " 'right': 108,\n",
       " \"i've\": 109,\n",
       " 'comedy': 110,\n",
       " 'must': 111,\n",
       " 'action': 112,\n",
       " 'series': 113,\n",
       " 'without': 114,\n",
       " 'music': 115,\n",
       " 'times': 116,\n",
       " 'saw': 117,\n",
       " 'original': 118,\n",
       " 'always': 119,\n",
       " 'role': 120,\n",
       " 'a': 121,\n",
       " 'gets': 122,\n",
       " 'come': 123,\n",
       " 'interesting': 124,\n",
       " 'almost': 125,\n",
       " 'is': 126,\n",
       " 'guy': 127,\n",
       " 'done': 128,\n",
       " 'whole': 129,\n",
       " 'least': 130,\n",
       " 'point': 131,\n",
       " \"there's\": 132,\n",
       " 'bit': 133,\n",
       " 'far': 134,\n",
       " 'script': 135,\n",
       " 'me': 136,\n",
       " 'minutes': 137,\n",
       " 'feel': 138,\n",
       " \"he's\": 139,\n",
       " 'making': 140,\n",
       " 'since': 141,\n",
       " '2': 142,\n",
       " 'family': 143,\n",
       " 'anything': 144,\n",
       " 'might': 145,\n",
       " 'last': 146,\n",
       " 'tv': 147,\n",
       " 'but': 148,\n",
       " 'performance': 149,\n",
       " 'kind': 150,\n",
       " 'yet': 151,\n",
       " 'probably': 152,\n",
       " 'away': 153,\n",
       " 'fun': 154,\n",
       " 'rather': 155,\n",
       " 'worst': 156,\n",
       " 'hard': 157,\n",
       " 'there': 158,\n",
       " 'played': 159,\n",
       " 'anyone': 160,\n",
       " 'girl': 161,\n",
       " 'sure': 162,\n",
       " 'found': 163,\n",
       " 'on': 164,\n",
       " 'day': 165,\n",
       " 'out': 166,\n",
       " 'woman': 167,\n",
       " 'looking': 168,\n",
       " 'them': 169,\n",
       " 'although': 170,\n",
       " 'believe': 171,\n",
       " 'especially': 172,\n",
       " 'him': 173,\n",
       " 'screen': 174,\n",
       " 'up': 175,\n",
       " 'trying': 176,\n",
       " 'so': 177,\n",
       " 'course': 178,\n",
       " 'everything': 179,\n",
       " 'dvd': 180,\n",
       " 'comes': 181,\n",
       " 'set': 182,\n",
       " 'goes': 183,\n",
       " 'put': 184,\n",
       " 'different': 185,\n",
       " 'shows': 186,\n",
       " 'book': 187,\n",
       " 'here': 188,\n",
       " 'you': 189,\n",
       " 'maybe': 190,\n",
       " 'place': 191,\n",
       " 'ending': 192,\n",
       " 'worth': 193,\n",
       " 'three': 194,\n",
       " 'main': 195,\n",
       " 'true': 196,\n",
       " 'actor': 197,\n",
       " 'watched': 198,\n",
       " 'money': 199,\n",
       " 'american': 200,\n",
       " 'reason': 201,\n",
       " 'sense': 202,\n",
       " 'play': 203,\n",
       " 'effects': 204,\n",
       " 'looks': 205,\n",
       " 'together': 206,\n",
       " 'war': 207,\n",
       " 'job': 208,\n",
       " 'again': 209,\n",
       " 'someone': 210,\n",
       " 'plays': 211,\n",
       " 'later': 212,\n",
       " 'high': 213,\n",
       " 'said': 214,\n",
       " 'half': 215,\n",
       " 'year': 216,\n",
       " 'everyone': 217,\n",
       " 'audience': 218,\n",
       " 'beautiful': 219,\n",
       " 'instead': 220,\n",
       " 'takes': 221,\n",
       " 'seem': 222,\n",
       " 'left': 223,\n",
       " 'special': 224,\n",
       " '1': 225,\n",
       " 'version': 226,\n",
       " 'seeing': 227,\n",
       " 'black': 228,\n",
       " 'idea': 229,\n",
       " 'john': 230,\n",
       " 'excellent': 231,\n",
       " 'night': 232,\n",
       " 'shot': 233,\n",
       " 'death': 234,\n",
       " 'wife': 235,\n",
       " 'house': 236,\n",
       " 'star': 237,\n",
       " 'mind': 238,\n",
       " 'not': 239,\n",
       " 'used': 240,\n",
       " 'fan': 241,\n",
       " 'else': 242,\n",
       " 'poor': 243,\n",
       " 'nice': 244,\n",
       " 'simply': 245,\n",
       " 'completely': 246,\n",
       " 'read': 247,\n",
       " 'second': 248,\n",
       " 'short': 249,\n",
       " '3': 250,\n",
       " 'budget': 251,\n",
       " 'less': 252,\n",
       " 'along': 253,\n",
       " 'top': 254,\n",
       " 'home': 255,\n",
       " 'men': 256,\n",
       " 'help': 257,\n",
       " 'boring': 258,\n",
       " 'either': 259,\n",
       " 'line': 260,\n",
       " 'friends': 261,\n",
       " 'use': 262,\n",
       " 'kids': 263,\n",
       " 'dead': 264,\n",
       " 'given': 265,\n",
       " 'try': 266,\n",
       " 'production': 267,\n",
       " 'classic': 268,\n",
       " 'camera': 269,\n",
       " 'wrong': 270,\n",
       " 'father': 271,\n",
       " 'to': 272,\n",
       " 'next': 273,\n",
       " 'enjoy': 274,\n",
       " 'performances': 275,\n",
       " 'truly': 276,\n",
       " 'low': 277,\n",
       " 'full': 278,\n",
       " 'as': 279,\n",
       " 'school': 280,\n",
       " 'hollywood': 281,\n",
       " 'stupid': 282,\n",
       " 'need': 283,\n",
       " 'her': 284,\n",
       " 'women': 285,\n",
       " 'video': 286,\n",
       " 'rest': 287,\n",
       " 'start': 288,\n",
       " 'awful': 289,\n",
       " 'let': 290,\n",
       " 'too': 291,\n",
       " 'sex': 292,\n",
       " 'tell': 293,\n",
       " 'came': 294,\n",
       " 'recommend': 295,\n",
       " 'terrible': 296,\n",
       " 'remember': 297,\n",
       " 'keep': 298,\n",
       " 'wonderful': 299,\n",
       " 'couple': 300,\n",
       " 'getting': 301,\n",
       " 'perhaps': 302,\n",
       " 'playing': 303,\n",
       " 'moments': 304,\n",
       " 'name': 305,\n",
       " 'face': 306,\n",
       " 'understand': 307,\n",
       " 'episode': 308,\n",
       " 'mean': 309,\n",
       " 'human': 310,\n",
       " 'small': 311,\n",
       " 'style': 312,\n",
       " 'stars': 313,\n",
       " 'lines': 314,\n",
       " 'others': 315,\n",
       " 'early': 316,\n",
       " 'person': 317,\n",
       " 'head': 318,\n",
       " 'if': 319,\n",
       " 'now': 320,\n",
       " 'perfect': 321,\n",
       " 'often': 322,\n",
       " 'definitely': 323,\n",
       " 'written': 324,\n",
       " 'gives': 325,\n",
       " 'live': 326,\n",
       " 'boy': 327,\n",
       " 'piece': 328,\n",
       " 'mother': 329,\n",
       " 'certainly': 330,\n",
       " 'dialogue': 331,\n",
       " 'title': 332,\n",
       " 'went': 333,\n",
       " 'laugh': 334,\n",
       " 'yes': 335,\n",
       " 'absolutely': 336,\n",
       " 'liked': 337,\n",
       " 'become': 338,\n",
       " 'off': 339,\n",
       " 'case': 340,\n",
       " 'hope': 341,\n",
       " 'for': 342,\n",
       " 'entertaining': 343,\n",
       " 'picture': 344,\n",
       " 'lost': 345,\n",
       " 'sort': 346,\n",
       " 'felt': 347,\n",
       " 'loved': 348,\n",
       " 'worse': 349,\n",
       " 'called': 350,\n",
       " 'finally': 351,\n",
       " 'oh': 352,\n",
       " 'overall': 353,\n",
       " 'based': 354,\n",
       " 'mr': 355,\n",
       " 'entire': 356,\n",
       " 'no': 357,\n",
       " 'cinema': 358,\n",
       " 'drama': 359,\n",
       " 'several': 360,\n",
       " 'white': 361,\n",
       " 'supposed': 362,\n",
       " 'beginning': 363,\n",
       " '5': 364,\n",
       " 'guys': 365,\n",
       " 'sound': 366,\n",
       " 'problem': 367,\n",
       " 'waste': 368,\n",
       " 'friend': 369,\n",
       " 'with': 370,\n",
       " 'care': 371,\n",
       " 'direction': 372,\n",
       " 'dark': 373,\n",
       " 'of': 374,\n",
       " 'fans': 375,\n",
       " 'totally': 376,\n",
       " '4': 377,\n",
       " 'example': 378,\n",
       " 'despite': 379,\n",
       " 'lives': 380,\n",
       " 'game': 381,\n",
       " 'children': 382,\n",
       " 'humor': 383,\n",
       " 'lead': 384,\n",
       " 'wanted': 385,\n",
       " 'evil': 386,\n",
       " 'seemed': 387,\n",
       " 'already': 388,\n",
       " 'final': 389,\n",
       " 'guess': 390,\n",
       " 'throughout': 391,\n",
       " 'quality': 392,\n",
       " 'unfortunately': 393,\n",
       " 'becomes': 394,\n",
       " 'turn': 395,\n",
       " 'able': 396,\n",
       " \"i'd\": 397,\n",
       " 'what': 398,\n",
       " 'over': 399,\n",
       " 'fine': 400,\n",
       " 'days': 401,\n",
       " 'history': 402,\n",
       " 'amazing': 403,\n",
       " 'wants': 404,\n",
       " 'writing': 405,\n",
       " 'side': 406,\n",
       " 'heart': 407,\n",
       " 'killer': 408,\n",
       " 'flick': 409,\n",
       " 'son': 410,\n",
       " \"they're\": 411,\n",
       " 'run': 412,\n",
       " 'kill': 413,\n",
       " 'close': 414,\n",
       " 'act': 415,\n",
       " 'be': 416,\n",
       " 'works': 417,\n",
       " 'enjoyed': 418,\n",
       " 'or': 419,\n",
       " 'art': 420,\n",
       " 'horrible': 421,\n",
       " 'etc': 422,\n",
       " 'past': 423,\n",
       " 'michael': 424,\n",
       " 'tries': 425,\n",
       " 'town': 426,\n",
       " 'do': 427,\n",
       " 'turns': 428,\n",
       " 'matter': 429,\n",
       " 'gave': 430,\n",
       " 'brilliant': 431,\n",
       " 'eyes': 432,\n",
       " 'hand': 433,\n",
       " 'parts': 434,\n",
       " 'favorite': 435,\n",
       " 'car': 436,\n",
       " '\\x96': 437,\n",
       " 'genre': 438,\n",
       " 'behind': 439,\n",
       " 'stuff': 440,\n",
       " 'late': 441,\n",
       " 'hour': 442,\n",
       " 'obviously': 443,\n",
       " 'soon': 444,\n",
       " 'directed': 445,\n",
       " 'starts': 446,\n",
       " 'was': 447,\n",
       " 'city': 448,\n",
       " 'sometimes': 449,\n",
       " 'viewer': 450,\n",
       " 'child': 451,\n",
       " 'thinking': 452,\n",
       " 'actress': 453,\n",
       " 'expect': 454,\n",
       " 'who': 455,\n",
       " 'self': 456,\n",
       " 'girls': 457,\n",
       " 'killed': 458,\n",
       " 'type': 459,\n",
       " 'voice': 460,\n",
       " \"it's\": 461,\n",
       " 'decent': 462,\n",
       " 'stop': 463,\n",
       " 'kid': 464,\n",
       " 'god': 465,\n",
       " 'happens': 466,\n",
       " 'then': 467,\n",
       " 'highly': 468,\n",
       " 'anyway': 469,\n",
       " 'which': 470,\n",
       " 'group': 471,\n",
       " 'says': 472,\n",
       " 'coming': 473,\n",
       " 'known': 474,\n",
       " 'heard': 475,\n",
       " 'except': 476,\n",
       " 'slow': 477,\n",
       " 'took': 478,\n",
       " 'experience': 479,\n",
       " 'fight': 480,\n",
       " 'blood': 481,\n",
       " 'daughter': 482,\n",
       " 'stories': 483,\n",
       " 'writer': 484,\n",
       " 'feeling': 485,\n",
       " 'leave': 486,\n",
       " 'more': 487,\n",
       " 'violence': 488,\n",
       " 'told': 489,\n",
       " 'extremely': 490,\n",
       " 'cannot': 491,\n",
       " 'lack': 492,\n",
       " 'score': 493,\n",
       " 'moment': 494,\n",
       " 'police': 495,\n",
       " 'roles': 496,\n",
       " 'strong': 497,\n",
       " 'wonder': 498,\n",
       " 'chance': 499,\n",
       " 'hilarious': 500,\n",
       " 'happen': 501,\n",
       " 'particularly': 502,\n",
       " 'james': 503,\n",
       " 'simple': 504,\n",
       " 'ok': 505,\n",
       " 'involved': 506,\n",
       " 'b': 507,\n",
       " 'hit': 508,\n",
       " 'serious': 509,\n",
       " 'complete': 510,\n",
       " 'english': 511,\n",
       " 'please': 512,\n",
       " 'including': 513,\n",
       " 'cool': 514,\n",
       " 'living': 515,\n",
       " 'save': 516,\n",
       " 'crap': 517,\n",
       " 'taken': 518,\n",
       " 'reality': 519,\n",
       " 'age': 520,\n",
       " 'cut': 521,\n",
       " 'attempt': 522,\n",
       " 'robert': 523,\n",
       " 'obvious': 524,\n",
       " 'murder': 525,\n",
       " 's': 526,\n",
       " 'looked': 527,\n",
       " 'ago': 528,\n",
       " 'david': 529,\n",
       " 'exactly': 530,\n",
       " 'happened': 531,\n",
       " 'song': 532,\n",
       " 'jokes': 533,\n",
       " 'opening': 534,\n",
       " 'gore': 535,\n",
       " 'sad': 536,\n",
       " 'hell': 537,\n",
       " 'view': 538,\n",
       " 'shown': 539,\n",
       " 'released': 540,\n",
       " 'none': 541,\n",
       " 'number': 542,\n",
       " 'seriously': 543,\n",
       " 'across': 544,\n",
       " 'hero': 545,\n",
       " 'today': 546,\n",
       " 'saying': 547,\n",
       " 'alone': 548,\n",
       " \"film's\": 549,\n",
       " 'usually': 550,\n",
       " 'hours': 551,\n",
       " 'brother': 552,\n",
       " 'interest': 553,\n",
       " 'career': 554,\n",
       " 'order': 555,\n",
       " 'wish': 556,\n",
       " 'whose': 557,\n",
       " 'cinematography': 558,\n",
       " 'possible': 559,\n",
       " 'relationship': 560,\n",
       " 'ridiculous': 561,\n",
       " 'four': 562,\n",
       " 'important': 563,\n",
       " 'running': 564,\n",
       " 'talent': 565,\n",
       " 'huge': 566,\n",
       " 'middle': 567,\n",
       " 'body': 568,\n",
       " 'shots': 569,\n",
       " 'light': 570,\n",
       " 'annoying': 571,\n",
       " 'taking': 572,\n",
       " 'husband': 573,\n",
       " 'turned': 574,\n",
       " 'female': 575,\n",
       " 'usual': 576,\n",
       " 'word': 577,\n",
       " 'ends': 578,\n",
       " 'started': 579,\n",
       " 'opinion': 580,\n",
       " 'level': 581,\n",
       " 'change': 582,\n",
       " 'documentary': 583,\n",
       " 'scary': 584,\n",
       " 'major': 585,\n",
       " 'happy': 586,\n",
       " 'call': 587,\n",
       " \"i'll\": 588,\n",
       " 'ones': 589,\n",
       " 'somewhat': 590,\n",
       " 'country': 591,\n",
       " 'novel': 592,\n",
       " 'words': 593,\n",
       " 'room': 594,\n",
       " 'rating': 595,\n",
       " 'beyond': 596,\n",
       " 'talking': 597,\n",
       " 'mostly': 598,\n",
       " 'television': 599,\n",
       " 'silly': 600,\n",
       " 'upon': 601,\n",
       " 'knows': 602,\n",
       " 'disappointed': 603,\n",
       " 'power': 604,\n",
       " 'attention': 605,\n",
       " 'non': 606,\n",
       " 'strange': 607,\n",
       " 'apparently': 608,\n",
       " 'why': 609,\n",
       " 'finds': 610,\n",
       " 'basically': 611,\n",
       " 'modern': 612,\n",
       " 'problems': 613,\n",
       " 'knew': 614,\n",
       " 'clearly': 615,\n",
       " 'jack': 616,\n",
       " 'local': 617,\n",
       " 'episodes': 618,\n",
       " 'single': 619,\n",
       " 'cheap': 620,\n",
       " 'about': 621,\n",
       " 'musical': 622,\n",
       " 'five': 623,\n",
       " 'events': 624,\n",
       " 'due': 625,\n",
       " 'comic': 626,\n",
       " 'moving': 627,\n",
       " 'miss': 628,\n",
       " 'die': 629,\n",
       " 'other': 630,\n",
       " 'thriller': 631,\n",
       " '7': 632,\n",
       " 'earth': 633,\n",
       " 'british': 634,\n",
       " 'french': 635,\n",
       " 'sequence': 636,\n",
       " 'before': 637,\n",
       " 'talk': 638,\n",
       " 'tells': 639,\n",
       " 'dialog': 640,\n",
       " 'entertainment': 641,\n",
       " 'review': 642,\n",
       " 'lots': 643,\n",
       " 'team': 644,\n",
       " 'fast': 645,\n",
       " 'message': 646,\n",
       " 'similar': 647,\n",
       " 'add': 648,\n",
       " 'class': 649,\n",
       " 'soundtrack': 650,\n",
       " 'near': 651,\n",
       " 'predictable': 652,\n",
       " 'ten': 653,\n",
       " 'space': 654,\n",
       " 'hate': 655,\n",
       " 'appears': 656,\n",
       " '8': 657,\n",
       " 'romantic': 658,\n",
       " 'straight': 659,\n",
       " 'giving': 660,\n",
       " 'supporting': 661,\n",
       " 'bring': 662,\n",
       " 'songs': 663,\n",
       " 'suspense': 664,\n",
       " 'clear': 665,\n",
       " 'down': 666,\n",
       " 'filmed': 667,\n",
       " 'enjoyable': 668,\n",
       " 'easily': 669,\n",
       " 'whether': 670,\n",
       " 'future': 671,\n",
       " 'mention': 672,\n",
       " 'easy': 673,\n",
       " 'dull': 674,\n",
       " 'tried': 675,\n",
       " 'sorry': 676,\n",
       " 'bunch': 677,\n",
       " 'sets': 678,\n",
       " 'sequel': 679,\n",
       " 'george': 680,\n",
       " 'certain': 681,\n",
       " 'needs': 682,\n",
       " 'working': 683,\n",
       " 'ways': 684,\n",
       " 'within': 685,\n",
       " 'minute': 686,\n",
       " 'release': 687,\n",
       " 'falls': 688,\n",
       " 'storyline': 689,\n",
       " 'showing': 690,\n",
       " 'named': 691,\n",
       " 'surprised': 692,\n",
       " 'dr': 693,\n",
       " 'among': 694,\n",
       " 'king': 695,\n",
       " 'theater': 696,\n",
       " 'at': 697,\n",
       " 'stand': 698,\n",
       " \"what's\": 699,\n",
       " 'theme': 700,\n",
       " 'oscar': 701,\n",
       " 'did': 702,\n",
       " 'rock': 703,\n",
       " 'fall': 704,\n",
       " 'monster': 705,\n",
       " 'feature': 706,\n",
       " 'gone': 707,\n",
       " 'greatest': 708,\n",
       " 'typical': 709,\n",
       " 'crime': 710,\n",
       " 'points': 711,\n",
       " 'effort': 712,\n",
       " 'buy': 713,\n",
       " 'sister': 714,\n",
       " 'stay': 715,\n",
       " 'doubt': 716,\n",
       " 'tale': 717,\n",
       " '9': 718,\n",
       " 'deal': 719,\n",
       " \"'\": 720,\n",
       " 'mystery': 721,\n",
       " 'using': 722,\n",
       " 'realistic': 723,\n",
       " 'nearly': 724,\n",
       " 'parents': 725,\n",
       " 'editing': 726,\n",
       " 'avoid': 727,\n",
       " 'material': 728,\n",
       " 'means': 729,\n",
       " 'kept': 730,\n",
       " 'feels': 731,\n",
       " 'fantastic': 732,\n",
       " 'richard': 733,\n",
       " 'comments': 734,\n",
       " 'eye': 735,\n",
       " 'check': 736,\n",
       " 'he': 737,\n",
       " 'subject': 738,\n",
       " 'brought': 739,\n",
       " 'famous': 740,\n",
       " 'rent': 741,\n",
       " 'elements': 742,\n",
       " 'believable': 743,\n",
       " 'lady': 744,\n",
       " 'period': 745,\n",
       " 'okay': 746,\n",
       " 'form': 747,\n",
       " 'red': 748,\n",
       " 'move': 749,\n",
       " 'viewing': 750,\n",
       " 'viewers': 751,\n",
       " 'begins': 752,\n",
       " 'imagine': 753,\n",
       " 'paul': 754,\n",
       " 'peter': 755,\n",
       " 'actual': 756,\n",
       " 'general': 757,\n",
       " 'weak': 758,\n",
       " 'somehow': 759,\n",
       " 'follow': 760,\n",
       " 'surprise': 761,\n",
       " 'figure': 762,\n",
       " 'deep': 763,\n",
       " 'tom': 764,\n",
       " 'my': 765,\n",
       " 'average': 766,\n",
       " 'animation': 767,\n",
       " 'reviews': 768,\n",
       " 'leads': 769,\n",
       " 'killing': 770,\n",
       " 'fi': 771,\n",
       " 're': 772,\n",
       " 'forget': 773,\n",
       " 'dog': 774,\n",
       " 'sci': 775,\n",
       " 'premise': 776,\n",
       " 'wait': 777,\n",
       " 'learn': 778,\n",
       " 'eventually': 779,\n",
       " 'poorly': 780,\n",
       " 't': 781,\n",
       " 'open': 782,\n",
       " 'note': 783,\n",
       " 'indeed': 784,\n",
       " 'expected': 785,\n",
       " 'hear': 786,\n",
       " 'sequences': 787,\n",
       " 'whatever': 788,\n",
       " 'lame': 789,\n",
       " 'situation': 790,\n",
       " 'particular': 791,\n",
       " 'sit': 792,\n",
       " 'atmosphere': 793,\n",
       " 'shame': 794,\n",
       " \"who's\": 795,\n",
       " 'dance': 796,\n",
       " '20': 797,\n",
       " 'difficult': 798,\n",
       " 'forced': 799,\n",
       " 'season': 800,\n",
       " 'footage': 801,\n",
       " 'box': 802,\n",
       " 'third': 803,\n",
       " 'leaves': 804,\n",
       " 'free': 805,\n",
       " 'imdb': 806,\n",
       " 'decided': 807,\n",
       " 'needed': 808,\n",
       " 'hot': 809,\n",
       " 'possibly': 810,\n",
       " 'western': 811,\n",
       " 'are': 812,\n",
       " 'romance': 813,\n",
       " 'society': 814,\n",
       " 'boys': 815,\n",
       " 'acted': 816,\n",
       " 'doctor': 817,\n",
       " 'write': 818,\n",
       " 'york': 819,\n",
       " 'emotional': 820,\n",
       " 'otherwise': 821,\n",
       " 'question': 822,\n",
       " 'meet': 823,\n",
       " 'sexual': 824,\n",
       " 'begin': 825,\n",
       " 'unless': 826,\n",
       " 'de': 827,\n",
       " 'became': 828,\n",
       " 'memorable': 829,\n",
       " 'crew': 830,\n",
       " 'cheesy': 831,\n",
       " 'air': 832,\n",
       " 'hands': 833,\n",
       " 'plus': 834,\n",
       " 'truth': 835,\n",
       " 'street': 836,\n",
       " \"let's\": 837,\n",
       " 'meets': 838,\n",
       " 'perfectly': 839,\n",
       " 'comment': 840,\n",
       " 'laughs': 841,\n",
       " 'credits': 842,\n",
       " 'masterpiece': 843,\n",
       " 'weird': 844,\n",
       " 'nature': 845,\n",
       " 'previous': 846,\n",
       " 'effect': 847,\n",
       " 'features': 848,\n",
       " 'america': 849,\n",
       " 'reading': 850,\n",
       " 'male': 851,\n",
       " 'beauty': 852,\n",
       " 'stage': 853,\n",
       " 'superb': 854,\n",
       " 'keeps': 855,\n",
       " 'forward': 856,\n",
       " 'earlier': 857,\n",
       " 'interested': 858,\n",
       " 'total': 859,\n",
       " 'inside': 860,\n",
       " 'screenplay': 861,\n",
       " 'japanese': 862,\n",
       " 'lee': 863,\n",
       " 'personal': 864,\n",
       " 'quickly': 865,\n",
       " 'badly': 866,\n",
       " 'incredibly': 867,\n",
       " 'himself': 868,\n",
       " 'battle': 869,\n",
       " 'dumb': 870,\n",
       " 'towards': 871,\n",
       " 'mark': 872,\n",
       " 'setting': 873,\n",
       " 'result': 874,\n",
       " 'copy': 875,\n",
       " 'gay': 876,\n",
       " 'background': 877,\n",
       " 'realize': 878,\n",
       " 'sounds': 879,\n",
       " 'island': 880,\n",
       " 'mess': 881,\n",
       " 'pay': 882,\n",
       " 'e': 883,\n",
       " 'directors': 884,\n",
       " 'dramatic': 885,\n",
       " 'fire': 886,\n",
       " 'girlfriend': 887,\n",
       " 'crazy': 888,\n",
       " 'worked': 889,\n",
       " 'business': 890,\n",
       " 'directing': 891,\n",
       " 'writers': 892,\n",
       " 'brings': 893,\n",
       " 'powerful': 894,\n",
       " 'rate': 895,\n",
       " 'cop': 896,\n",
       " 'following': 897,\n",
       " 'older': 898,\n",
       " 'cover': 899,\n",
       " 'plenty': 900,\n",
       " 'joke': 901,\n",
       " 'era': 902,\n",
       " \"'the\": 903,\n",
       " 'portrayed': 904,\n",
       " 'leading': 905,\n",
       " 'from': 906,\n",
       " 'outside': 907,\n",
       " 'political': 908,\n",
       " 'unique': 909,\n",
       " 'creepy': 910,\n",
       " 'while': 911,\n",
       " 'ask': 912,\n",
       " 'manages': 913,\n",
       " 'rich': 914,\n",
       " 'appear': 915,\n",
       " 'various': 916,\n",
       " 'spent': 917,\n",
       " 'success': 918,\n",
       " 'water': 919,\n",
       " 'front': 920,\n",
       " 'gun': 921,\n",
       " 'admit': 922,\n",
       " 'fairly': 923,\n",
       " 'create': 924,\n",
       " 'party': 925,\n",
       " 'telling': 926,\n",
       " 'development': 927,\n",
       " 'bill': 928,\n",
       " 'meant': 929,\n",
       " 'ideas': 930,\n",
       " 'fighting': 931,\n",
       " 'joe': 932,\n",
       " 'apart': 933,\n",
       " 'baby': 934,\n",
       " 'deserves': 935,\n",
       " 'twist': 936,\n",
       " 'when': 937,\n",
       " 'dream': 938,\n",
       " 'reasons': 939,\n",
       " 'break': 940,\n",
       " 'fails': 941,\n",
       " 'wasted': 942,\n",
       " 'william': 943,\n",
       " 'cute': 944,\n",
       " 'match': 945,\n",
       " 'attempts': 946,\n",
       " 'agree': 947,\n",
       " 'unlike': 948,\n",
       " 'list': 949,\n",
       " 'missing': 950,\n",
       " 'clever': 951,\n",
       " 'present': 952,\n",
       " 'zombie': 953,\n",
       " 'expecting': 954,\n",
       " 'talented': 955,\n",
       " 'secret': 956,\n",
       " 'recently': 957,\n",
       " 'large': 958,\n",
       " 'fantasy': 959,\n",
       " 'caught': 960,\n",
       " 'return': 961,\n",
       " 'odd': 962,\n",
       " 'produced': 963,\n",
       " 'german': 964,\n",
       " 'cartoon': 965,\n",
       " 'members': 966,\n",
       " 'villain': 967,\n",
       " 'italian': 968,\n",
       " \"don't\": 969,\n",
       " 'pure': 970,\n",
       " 'laughing': 971,\n",
       " 'hardly': 972,\n",
       " 'remake': 973,\n",
       " 'by': 974,\n",
       " 'pace': 975,\n",
       " \"we're\": 976,\n",
       " 'spoilers': 977,\n",
       " 'potential': 978,\n",
       " 'ended': 979,\n",
       " 'nudity': 980,\n",
       " 'cold': 981,\n",
       " 'flat': 982,\n",
       " 'familiar': 983,\n",
       " 'plain': 984,\n",
       " 'hold': 985,\n",
       " 'itself': 986,\n",
       " 'wrote': 987,\n",
       " 'casting': 988,\n",
       " 'created': 989,\n",
       " 'escape': 990,\n",
       " 'office': 991,\n",
       " 'state': 992,\n",
       " 'century': 993,\n",
       " 'disney': 994,\n",
       " 'co': 995,\n",
       " 'missed': 996,\n",
       " 'public': 997,\n",
       " 'married': 998,\n",
       " 'waiting': 999,\n",
       " 'slightly': 1000,\n",
       " ...}"
      ]
     },
     "execution_count": 21,
     "metadata": {},
     "output_type": "execute_result"
    }
   ],
   "source": [
    "word_index"
   ]
  },
  {
   "cell_type": "code",
   "execution_count": 22,
   "metadata": {
    "execution": {
     "iopub.execute_input": "2022-11-25T04:49:45.848032Z",
     "iopub.status.busy": "2022-11-25T04:49:45.847738Z",
     "iopub.status.idle": "2022-11-25T04:49:45.852764Z",
     "shell.execute_reply": "2022-11-25T04:49:45.851506Z",
     "shell.execute_reply.started": "2022-11-25T04:49:45.848005Z"
    },
    "id": "hX3JmxVpiYGq",
    "tags": []
   },
   "outputs": [],
   "source": [
    "vocab_size = len(word_index)+1"
   ]
  },
  {
   "cell_type": "code",
   "execution_count": 23,
   "metadata": {
    "colab": {
     "base_uri": "https://localhost:8080/"
    },
    "execution": {
     "iopub.execute_input": "2022-11-25T04:49:45.855058Z",
     "iopub.status.busy": "2022-11-25T04:49:45.854477Z",
     "iopub.status.idle": "2022-11-25T04:49:45.859282Z",
     "shell.execute_reply": "2022-11-25T04:49:45.858560Z",
     "shell.execute_reply.started": "2022-11-25T04:49:45.855002Z"
    },
    "id": "AfAPtV0Ai4Oi",
    "outputId": "af645507-d7c5-48c3-9106-d8c842ab99cd",
    "tags": []
   },
   "outputs": [
    {
     "name": "stdout",
     "output_type": "stream",
     "text": [
      "111479\n"
     ]
    }
   ],
   "source": [
    "print(vocab_size)"
   ]
  },
  {
   "cell_type": "code",
   "execution_count": 24,
   "metadata": {
    "execution": {
     "iopub.execute_input": "2022-11-25T04:49:45.860925Z",
     "iopub.status.busy": "2022-11-25T04:49:45.860520Z",
     "iopub.status.idle": "2022-11-25T04:49:52.014782Z",
     "shell.execute_reply": "2022-11-25T04:49:52.014027Z",
     "shell.execute_reply.started": "2022-11-25T04:49:45.860899Z"
    },
    "id": "XMqmMrkMi5DY",
    "tags": []
   },
   "outputs": [],
   "source": [
    "X_train = tokenizer.texts_to_sequences(X_train)\n",
    "X_test = tokenizer.texts_to_sequences(X_test)"
   ]
  },
  {
   "cell_type": "markdown",
   "metadata": {
    "id": "QoBQpIi4GkkP"
   },
   "source": [
    "# Keras Embedding Layer"
   ]
  },
  {
   "cell_type": "code",
   "execution_count": 25,
   "metadata": {
    "execution": {
     "iopub.execute_input": "2022-11-25T04:49:52.016006Z",
     "iopub.status.busy": "2022-11-25T04:49:52.015714Z",
     "iopub.status.idle": "2022-11-25T04:49:52.408117Z",
     "shell.execute_reply": "2022-11-25T04:49:52.407137Z",
     "shell.execute_reply.started": "2022-11-25T04:49:52.015979Z"
    },
    "id": "riffkB_4mnx9",
    "tags": []
   },
   "outputs": [],
   "source": [
    "maxlen = 100\n",
    "X_train_pad = pad_sequences(X_train, padding='post', maxlen=maxlen)\n",
    "X_test_pad = pad_sequences(X_test, padding='post', maxlen=maxlen)"
   ]
  },
  {
   "cell_type": "code",
   "execution_count": 26,
   "metadata": {
    "execution": {
     "iopub.execute_input": "2022-11-25T04:49:52.409770Z",
     "iopub.status.busy": "2022-11-25T04:49:52.409307Z",
     "iopub.status.idle": "2022-11-25T04:49:52.473282Z",
     "shell.execute_reply": "2022-11-25T04:49:52.472532Z",
     "shell.execute_reply.started": "2022-11-25T04:49:52.409741Z"
    },
    "id": "Tk3s_9s8zb0k",
    "tags": []
   },
   "outputs": [
    {
     "name": "stderr",
     "output_type": "stream",
     "text": [
      "2022-11-24 20:49:52.415363: I tensorflow/core/platform/cpu_feature_guard.cc:193] This TensorFlow binary is optimized with oneAPI Deep Neural Network Library (oneDNN) to use the following CPU instructions in performance-critical operations:  AVX2 FMA\n",
      "To enable them in other operations, rebuild TensorFlow with the appropriate compiler flags.\n"
     ]
    }
   ],
   "source": [
    "model = Sequential()\n",
    "# all words in the vocub will have 30-dimensional vector (word embedding)\n",
    "# you can initialize the weights of embedding parameters as we did for ANN/CNN\n",
    "embedding_layer = Embedding(vocab_size, 30,\n",
    "                            input_length=maxlen, \n",
    "                            embeddings_initializer='ones')\n",
    "\n",
    "model.add(embedding_layer)"
   ]
  },
  {
   "cell_type": "code",
   "execution_count": 27,
   "metadata": {
    "execution": {
     "iopub.execute_input": "2022-11-25T04:49:52.475248Z",
     "iopub.status.busy": "2022-11-25T04:49:52.474722Z",
     "iopub.status.idle": "2022-11-25T04:49:52.481773Z",
     "shell.execute_reply": "2022-11-25T04:49:52.480537Z",
     "shell.execute_reply.started": "2022-11-25T04:49:52.475218Z"
    },
    "id": "pE1vb_ygCWZ-",
    "tags": []
   },
   "outputs": [],
   "source": [
    "#example: embedding the first review \n",
    "first_review_without_pad = X_train[0]\n",
    "first_review_with_pad = X_train_pad[0]"
   ]
  },
  {
   "cell_type": "code",
   "execution_count": 28,
   "metadata": {
    "colab": {
     "base_uri": "https://localhost:8080/"
    },
    "execution": {
     "iopub.execute_input": "2022-11-25T04:49:52.483836Z",
     "iopub.status.busy": "2022-11-25T04:49:52.483405Z",
     "iopub.status.idle": "2022-11-25T04:49:52.493019Z",
     "shell.execute_reply": "2022-11-25T04:49:52.489938Z",
     "shell.execute_reply.started": "2022-11-25T04:49:52.483806Z"
    },
    "id": "cM9b4kaLC8Y6",
    "outputId": "98ba560b-4a64-4758-917f-7f72b27bd40f",
    "tags": []
   },
   "outputs": [
    {
     "data": {
      "text/plain": [
       "[3,\n",
       " 386,\n",
       " 5801,\n",
       " 1885,\n",
       " 21649,\n",
       " 1333,\n",
       " 44,\n",
       " 101,\n",
       " 712,\n",
       " 12829,\n",
       " 27734,\n",
       " 3188,\n",
       " 645,\n",
       " 1210,\n",
       " 312,\n",
       " 234,\n",
       " 984,\n",
       " 2163,\n",
       " 1314,\n",
       " 234,\n",
       " 40,\n",
       " 1137,\n",
       " 63,\n",
       " 45,\n",
       " 44,\n",
       " 1144,\n",
       " 2724,\n",
       " 3,\n",
       " 4795,\n",
       " 25,\n",
       " 904,\n",
       " 21,\n",
       " 2088,\n",
       " 415,\n",
       " 5,\n",
       " 867,\n",
       " 185,\n",
       " 962,\n",
       " 3278,\n",
       " 1437,\n",
       " 1058,\n",
       " 101,\n",
       " 14,\n",
       " 1401,\n",
       " 16,\n",
       " 1531,\n",
       " 5283,\n",
       " 86,\n",
       " 865,\n",
       " 412,\n",
       " 1532,\n",
       " 5411,\n",
       " 5888,\n",
       " 234,\n",
       " 378,\n",
       " 243,\n",
       " 1556,\n",
       " 50915,\n",
       " 22579,\n",
       " 51,\n",
       " 6367,\n",
       " 364,\n",
       " 137,\n",
       " 1891,\n",
       " 524,\n",
       " 44,\n",
       " 480,\n",
       " 263,\n",
       " 184,\n",
       " 175,\n",
       " 3,\n",
       " 6,\n",
       " 1063,\n",
       " 210,\n",
       " 1104,\n",
       " 30,\n",
       " 289,\n",
       " 2552,\n",
       " 2410,\n",
       " 1598]"
      ]
     },
     "execution_count": 28,
     "metadata": {},
     "output_type": "execute_result"
    }
   ],
   "source": [
    "first_review_without_pad"
   ]
  },
  {
   "cell_type": "code",
   "execution_count": 29,
   "metadata": {
    "colab": {
     "base_uri": "https://localhost:8080/"
    },
    "execution": {
     "iopub.execute_input": "2022-11-25T04:49:52.494515Z",
     "iopub.status.busy": "2022-11-25T04:49:52.494206Z",
     "iopub.status.idle": "2022-11-25T04:49:52.503004Z",
     "shell.execute_reply": "2022-11-25T04:49:52.501741Z",
     "shell.execute_reply.started": "2022-11-25T04:49:52.494487Z"
    },
    "id": "8orPI7TYC_cn",
    "outputId": "4b2a5181-246f-4d8d-8a3d-9f77511b3829",
    "tags": []
   },
   "outputs": [
    {
     "data": {
      "text/plain": [
       "array([    3,   386,  5801,  1885, 21649,  1333,    44,   101,   712,\n",
       "       12829, 27734,  3188,   645,  1210,   312,   234,   984,  2163,\n",
       "        1314,   234,    40,  1137,    63,    45,    44,  1144,  2724,\n",
       "           3,  4795,    25,   904,    21,  2088,   415,     5,   867,\n",
       "         185,   962,  3278,  1437,  1058,   101,    14,  1401,    16,\n",
       "        1531,  5283,    86,   865,   412,  1532,  5411,  5888,   234,\n",
       "         378,   243,  1556, 50915, 22579,    51,  6367,   364,   137,\n",
       "        1891,   524,    44,   480,   263,   184,   175,     3,     6,\n",
       "        1063,   210,  1104,    30,   289,  2552,  2410,  1598,     0,\n",
       "           0,     0,     0,     0,     0,     0,     0,     0,     0,\n",
       "           0,     0,     0,     0,     0,     0,     0,     0,     0,\n",
       "           0], dtype=int32)"
      ]
     },
     "execution_count": 29,
     "metadata": {},
     "output_type": "execute_result"
    }
   ],
   "source": [
    "first_review_with_pad"
   ]
  },
  {
   "cell_type": "code",
   "execution_count": 30,
   "metadata": {
    "colab": {
     "base_uri": "https://localhost:8080/"
    },
    "execution": {
     "iopub.execute_input": "2022-11-25T04:49:52.504405Z",
     "iopub.status.busy": "2022-11-25T04:49:52.504089Z",
     "iopub.status.idle": "2022-11-25T04:49:52.750882Z",
     "shell.execute_reply": "2022-11-25T04:49:52.750164Z",
     "shell.execute_reply.started": "2022-11-25T04:49:52.504379Z"
    },
    "id": "o5maezs4Cpak",
    "outputId": "3dcdf046-e776-4442-9dfd-8b08b0bd0bc3",
    "tags": []
   },
   "outputs": [
    {
     "name": "stdout",
     "output_type": "stream",
     "text": [
      "WARNING:tensorflow:Model was constructed with shape (None, 100) for input KerasTensor(type_spec=TensorSpec(shape=(None, 100), dtype=tf.float32, name='embedding_input'), name='embedding_input', description=\"created by layer 'embedding_input'\"), but it was called on an input with incompatible shape (None,).\n",
      "3/3 [==============================] - 0s 1ms/step\n",
      "WARNING:tensorflow:Model was constructed with shape (None, 100) for input KerasTensor(type_spec=TensorSpec(shape=(None, 100), dtype=tf.float32, name='embedding_input'), name='embedding_input', description=\"created by layer 'embedding_input'\"), but it was called on an input with incompatible shape (None,).\n",
      "4/4 [==============================] - 0s 2ms/step\n"
     ]
    }
   ],
   "source": [
    "output_1st_review_without_pad = model.predict(first_review_without_pad)\n",
    "output_1st_review_with_pad = model.predict(first_review_with_pad)"
   ]
  },
  {
   "cell_type": "code",
   "execution_count": 31,
   "metadata": {
    "colab": {
     "base_uri": "https://localhost:8080/",
     "height": 1000
    },
    "execution": {
     "iopub.execute_input": "2022-11-25T04:49:52.752182Z",
     "iopub.status.busy": "2022-11-25T04:49:52.751874Z",
     "iopub.status.idle": "2022-11-25T04:49:52.793555Z",
     "shell.execute_reply": "2022-11-25T04:49:52.792910Z",
     "shell.execute_reply.started": "2022-11-25T04:49:52.752155Z"
    },
    "id": "zJoh4UxKCJpu",
    "outputId": "717546a4-f3c9-44a5-816c-9d539e5387b2",
    "tags": []
   },
   "outputs": [
    {
     "data": {
      "text/html": [
       "<div>\n",
       "<style scoped>\n",
       "    .dataframe tbody tr th:only-of-type {\n",
       "        vertical-align: middle;\n",
       "    }\n",
       "\n",
       "    .dataframe tbody tr th {\n",
       "        vertical-align: top;\n",
       "    }\n",
       "\n",
       "    .dataframe thead th {\n",
       "        text-align: right;\n",
       "    }\n",
       "</style>\n",
       "<table border=\"1\" class=\"dataframe\">\n",
       "  <thead>\n",
       "    <tr style=\"text-align: right;\">\n",
       "      <th></th>\n",
       "      <th>0</th>\n",
       "      <th>1</th>\n",
       "      <th>2</th>\n",
       "      <th>3</th>\n",
       "      <th>4</th>\n",
       "      <th>5</th>\n",
       "      <th>6</th>\n",
       "      <th>7</th>\n",
       "      <th>8</th>\n",
       "      <th>9</th>\n",
       "      <th>...</th>\n",
       "      <th>20</th>\n",
       "      <th>21</th>\n",
       "      <th>22</th>\n",
       "      <th>23</th>\n",
       "      <th>24</th>\n",
       "      <th>25</th>\n",
       "      <th>26</th>\n",
       "      <th>27</th>\n",
       "      <th>28</th>\n",
       "      <th>29</th>\n",
       "    </tr>\n",
       "  </thead>\n",
       "  <tbody>\n",
       "    <tr>\n",
       "      <th>0</th>\n",
       "      <td>1.0</td>\n",
       "      <td>1.0</td>\n",
       "      <td>1.0</td>\n",
       "      <td>1.0</td>\n",
       "      <td>1.0</td>\n",
       "      <td>1.0</td>\n",
       "      <td>1.0</td>\n",
       "      <td>1.0</td>\n",
       "      <td>1.0</td>\n",
       "      <td>1.0</td>\n",
       "      <td>...</td>\n",
       "      <td>1.0</td>\n",
       "      <td>1.0</td>\n",
       "      <td>1.0</td>\n",
       "      <td>1.0</td>\n",
       "      <td>1.0</td>\n",
       "      <td>1.0</td>\n",
       "      <td>1.0</td>\n",
       "      <td>1.0</td>\n",
       "      <td>1.0</td>\n",
       "      <td>1.0</td>\n",
       "    </tr>\n",
       "    <tr>\n",
       "      <th>1</th>\n",
       "      <td>1.0</td>\n",
       "      <td>1.0</td>\n",
       "      <td>1.0</td>\n",
       "      <td>1.0</td>\n",
       "      <td>1.0</td>\n",
       "      <td>1.0</td>\n",
       "      <td>1.0</td>\n",
       "      <td>1.0</td>\n",
       "      <td>1.0</td>\n",
       "      <td>1.0</td>\n",
       "      <td>...</td>\n",
       "      <td>1.0</td>\n",
       "      <td>1.0</td>\n",
       "      <td>1.0</td>\n",
       "      <td>1.0</td>\n",
       "      <td>1.0</td>\n",
       "      <td>1.0</td>\n",
       "      <td>1.0</td>\n",
       "      <td>1.0</td>\n",
       "      <td>1.0</td>\n",
       "      <td>1.0</td>\n",
       "    </tr>\n",
       "    <tr>\n",
       "      <th>2</th>\n",
       "      <td>1.0</td>\n",
       "      <td>1.0</td>\n",
       "      <td>1.0</td>\n",
       "      <td>1.0</td>\n",
       "      <td>1.0</td>\n",
       "      <td>1.0</td>\n",
       "      <td>1.0</td>\n",
       "      <td>1.0</td>\n",
       "      <td>1.0</td>\n",
       "      <td>1.0</td>\n",
       "      <td>...</td>\n",
       "      <td>1.0</td>\n",
       "      <td>1.0</td>\n",
       "      <td>1.0</td>\n",
       "      <td>1.0</td>\n",
       "      <td>1.0</td>\n",
       "      <td>1.0</td>\n",
       "      <td>1.0</td>\n",
       "      <td>1.0</td>\n",
       "      <td>1.0</td>\n",
       "      <td>1.0</td>\n",
       "    </tr>\n",
       "    <tr>\n",
       "      <th>3</th>\n",
       "      <td>1.0</td>\n",
       "      <td>1.0</td>\n",
       "      <td>1.0</td>\n",
       "      <td>1.0</td>\n",
       "      <td>1.0</td>\n",
       "      <td>1.0</td>\n",
       "      <td>1.0</td>\n",
       "      <td>1.0</td>\n",
       "      <td>1.0</td>\n",
       "      <td>1.0</td>\n",
       "      <td>...</td>\n",
       "      <td>1.0</td>\n",
       "      <td>1.0</td>\n",
       "      <td>1.0</td>\n",
       "      <td>1.0</td>\n",
       "      <td>1.0</td>\n",
       "      <td>1.0</td>\n",
       "      <td>1.0</td>\n",
       "      <td>1.0</td>\n",
       "      <td>1.0</td>\n",
       "      <td>1.0</td>\n",
       "    </tr>\n",
       "    <tr>\n",
       "      <th>4</th>\n",
       "      <td>1.0</td>\n",
       "      <td>1.0</td>\n",
       "      <td>1.0</td>\n",
       "      <td>1.0</td>\n",
       "      <td>1.0</td>\n",
       "      <td>1.0</td>\n",
       "      <td>1.0</td>\n",
       "      <td>1.0</td>\n",
       "      <td>1.0</td>\n",
       "      <td>1.0</td>\n",
       "      <td>...</td>\n",
       "      <td>1.0</td>\n",
       "      <td>1.0</td>\n",
       "      <td>1.0</td>\n",
       "      <td>1.0</td>\n",
       "      <td>1.0</td>\n",
       "      <td>1.0</td>\n",
       "      <td>1.0</td>\n",
       "      <td>1.0</td>\n",
       "      <td>1.0</td>\n",
       "      <td>1.0</td>\n",
       "    </tr>\n",
       "    <tr>\n",
       "      <th>...</th>\n",
       "      <td>...</td>\n",
       "      <td>...</td>\n",
       "      <td>...</td>\n",
       "      <td>...</td>\n",
       "      <td>...</td>\n",
       "      <td>...</td>\n",
       "      <td>...</td>\n",
       "      <td>...</td>\n",
       "      <td>...</td>\n",
       "      <td>...</td>\n",
       "      <td>...</td>\n",
       "      <td>...</td>\n",
       "      <td>...</td>\n",
       "      <td>...</td>\n",
       "      <td>...</td>\n",
       "      <td>...</td>\n",
       "      <td>...</td>\n",
       "      <td>...</td>\n",
       "      <td>...</td>\n",
       "      <td>...</td>\n",
       "      <td>...</td>\n",
       "    </tr>\n",
       "    <tr>\n",
       "      <th>75</th>\n",
       "      <td>1.0</td>\n",
       "      <td>1.0</td>\n",
       "      <td>1.0</td>\n",
       "      <td>1.0</td>\n",
       "      <td>1.0</td>\n",
       "      <td>1.0</td>\n",
       "      <td>1.0</td>\n",
       "      <td>1.0</td>\n",
       "      <td>1.0</td>\n",
       "      <td>1.0</td>\n",
       "      <td>...</td>\n",
       "      <td>1.0</td>\n",
       "      <td>1.0</td>\n",
       "      <td>1.0</td>\n",
       "      <td>1.0</td>\n",
       "      <td>1.0</td>\n",
       "      <td>1.0</td>\n",
       "      <td>1.0</td>\n",
       "      <td>1.0</td>\n",
       "      <td>1.0</td>\n",
       "      <td>1.0</td>\n",
       "    </tr>\n",
       "    <tr>\n",
       "      <th>76</th>\n",
       "      <td>1.0</td>\n",
       "      <td>1.0</td>\n",
       "      <td>1.0</td>\n",
       "      <td>1.0</td>\n",
       "      <td>1.0</td>\n",
       "      <td>1.0</td>\n",
       "      <td>1.0</td>\n",
       "      <td>1.0</td>\n",
       "      <td>1.0</td>\n",
       "      <td>1.0</td>\n",
       "      <td>...</td>\n",
       "      <td>1.0</td>\n",
       "      <td>1.0</td>\n",
       "      <td>1.0</td>\n",
       "      <td>1.0</td>\n",
       "      <td>1.0</td>\n",
       "      <td>1.0</td>\n",
       "      <td>1.0</td>\n",
       "      <td>1.0</td>\n",
       "      <td>1.0</td>\n",
       "      <td>1.0</td>\n",
       "    </tr>\n",
       "    <tr>\n",
       "      <th>77</th>\n",
       "      <td>1.0</td>\n",
       "      <td>1.0</td>\n",
       "      <td>1.0</td>\n",
       "      <td>1.0</td>\n",
       "      <td>1.0</td>\n",
       "      <td>1.0</td>\n",
       "      <td>1.0</td>\n",
       "      <td>1.0</td>\n",
       "      <td>1.0</td>\n",
       "      <td>1.0</td>\n",
       "      <td>...</td>\n",
       "      <td>1.0</td>\n",
       "      <td>1.0</td>\n",
       "      <td>1.0</td>\n",
       "      <td>1.0</td>\n",
       "      <td>1.0</td>\n",
       "      <td>1.0</td>\n",
       "      <td>1.0</td>\n",
       "      <td>1.0</td>\n",
       "      <td>1.0</td>\n",
       "      <td>1.0</td>\n",
       "    </tr>\n",
       "    <tr>\n",
       "      <th>78</th>\n",
       "      <td>1.0</td>\n",
       "      <td>1.0</td>\n",
       "      <td>1.0</td>\n",
       "      <td>1.0</td>\n",
       "      <td>1.0</td>\n",
       "      <td>1.0</td>\n",
       "      <td>1.0</td>\n",
       "      <td>1.0</td>\n",
       "      <td>1.0</td>\n",
       "      <td>1.0</td>\n",
       "      <td>...</td>\n",
       "      <td>1.0</td>\n",
       "      <td>1.0</td>\n",
       "      <td>1.0</td>\n",
       "      <td>1.0</td>\n",
       "      <td>1.0</td>\n",
       "      <td>1.0</td>\n",
       "      <td>1.0</td>\n",
       "      <td>1.0</td>\n",
       "      <td>1.0</td>\n",
       "      <td>1.0</td>\n",
       "    </tr>\n",
       "    <tr>\n",
       "      <th>79</th>\n",
       "      <td>1.0</td>\n",
       "      <td>1.0</td>\n",
       "      <td>1.0</td>\n",
       "      <td>1.0</td>\n",
       "      <td>1.0</td>\n",
       "      <td>1.0</td>\n",
       "      <td>1.0</td>\n",
       "      <td>1.0</td>\n",
       "      <td>1.0</td>\n",
       "      <td>1.0</td>\n",
       "      <td>...</td>\n",
       "      <td>1.0</td>\n",
       "      <td>1.0</td>\n",
       "      <td>1.0</td>\n",
       "      <td>1.0</td>\n",
       "      <td>1.0</td>\n",
       "      <td>1.0</td>\n",
       "      <td>1.0</td>\n",
       "      <td>1.0</td>\n",
       "      <td>1.0</td>\n",
       "      <td>1.0</td>\n",
       "    </tr>\n",
       "  </tbody>\n",
       "</table>\n",
       "<p>80 rows × 30 columns</p>\n",
       "</div>"
      ],
      "text/plain": [
       "     0    1    2    3    4    5    6    7    8    9   ...   20   21   22   23  \\\n",
       "0   1.0  1.0  1.0  1.0  1.0  1.0  1.0  1.0  1.0  1.0  ...  1.0  1.0  1.0  1.0   \n",
       "1   1.0  1.0  1.0  1.0  1.0  1.0  1.0  1.0  1.0  1.0  ...  1.0  1.0  1.0  1.0   \n",
       "2   1.0  1.0  1.0  1.0  1.0  1.0  1.0  1.0  1.0  1.0  ...  1.0  1.0  1.0  1.0   \n",
       "3   1.0  1.0  1.0  1.0  1.0  1.0  1.0  1.0  1.0  1.0  ...  1.0  1.0  1.0  1.0   \n",
       "4   1.0  1.0  1.0  1.0  1.0  1.0  1.0  1.0  1.0  1.0  ...  1.0  1.0  1.0  1.0   \n",
       "..  ...  ...  ...  ...  ...  ...  ...  ...  ...  ...  ...  ...  ...  ...  ...   \n",
       "75  1.0  1.0  1.0  1.0  1.0  1.0  1.0  1.0  1.0  1.0  ...  1.0  1.0  1.0  1.0   \n",
       "76  1.0  1.0  1.0  1.0  1.0  1.0  1.0  1.0  1.0  1.0  ...  1.0  1.0  1.0  1.0   \n",
       "77  1.0  1.0  1.0  1.0  1.0  1.0  1.0  1.0  1.0  1.0  ...  1.0  1.0  1.0  1.0   \n",
       "78  1.0  1.0  1.0  1.0  1.0  1.0  1.0  1.0  1.0  1.0  ...  1.0  1.0  1.0  1.0   \n",
       "79  1.0  1.0  1.0  1.0  1.0  1.0  1.0  1.0  1.0  1.0  ...  1.0  1.0  1.0  1.0   \n",
       "\n",
       "     24   25   26   27   28   29  \n",
       "0   1.0  1.0  1.0  1.0  1.0  1.0  \n",
       "1   1.0  1.0  1.0  1.0  1.0  1.0  \n",
       "2   1.0  1.0  1.0  1.0  1.0  1.0  \n",
       "3   1.0  1.0  1.0  1.0  1.0  1.0  \n",
       "4   1.0  1.0  1.0  1.0  1.0  1.0  \n",
       "..  ...  ...  ...  ...  ...  ...  \n",
       "75  1.0  1.0  1.0  1.0  1.0  1.0  \n",
       "76  1.0  1.0  1.0  1.0  1.0  1.0  \n",
       "77  1.0  1.0  1.0  1.0  1.0  1.0  \n",
       "78  1.0  1.0  1.0  1.0  1.0  1.0  \n",
       "79  1.0  1.0  1.0  1.0  1.0  1.0  \n",
       "\n",
       "[80 rows x 30 columns]"
      ]
     },
     "execution_count": 31,
     "metadata": {},
     "output_type": "execute_result"
    }
   ],
   "source": [
    "pd.DataFrame(output_1st_review_without_pad)"
   ]
  },
  {
   "cell_type": "code",
   "execution_count": 32,
   "metadata": {
    "execution": {
     "iopub.execute_input": "2022-11-25T04:49:52.794796Z",
     "iopub.status.busy": "2022-11-25T04:49:52.794636Z",
     "iopub.status.idle": "2022-11-25T04:49:52.797805Z",
     "shell.execute_reply": "2022-11-25T04:49:52.797059Z",
     "shell.execute_reply.started": "2022-11-25T04:49:52.794775Z"
    },
    "id": "PDDtlvX7DWY4",
    "tags": []
   },
   "outputs": [],
   "source": [
    "# pd.DataFrame(output_1st_review_with_pad)"
   ]
  },
  {
   "cell_type": "code",
   "execution_count": 33,
   "metadata": {
    "colab": {
     "base_uri": "https://localhost:8080/"
    },
    "execution": {
     "iopub.execute_input": "2022-11-25T04:49:52.799182Z",
     "iopub.status.busy": "2022-11-25T04:49:52.798711Z",
     "iopub.status.idle": "2022-11-25T04:49:52.955378Z",
     "shell.execute_reply": "2022-11-25T04:49:52.954528Z",
     "shell.execute_reply.started": "2022-11-25T04:49:52.799156Z"
    },
    "id": "fZxS9shnzjQS",
    "outputId": "5df39035-8be7-4775-aa1c-af09a91072d8",
    "tags": []
   },
   "outputs": [],
   "source": [
    "model.add(LSTM(units=32, dropout=0.7, recurrent_dropout=0.7))\n",
    "model.add(Dense(1, activation='sigmoid'))"
   ]
  },
  {
   "cell_type": "code",
   "execution_count": 34,
   "metadata": {
    "execution": {
     "iopub.execute_input": "2022-11-25T04:49:52.957122Z",
     "iopub.status.busy": "2022-11-25T04:49:52.956868Z",
     "iopub.status.idle": "2022-11-25T04:49:52.978550Z",
     "shell.execute_reply": "2022-11-25T04:49:52.977726Z",
     "shell.execute_reply.started": "2022-11-25T04:49:52.957094Z"
    },
    "id": "BSAFGFvxznqN",
    "tags": []
   },
   "outputs": [],
   "source": [
    "model.compile(optimizer='adam', \n",
    "              loss='binary_crossentropy', \n",
    "              metrics=['acc'])"
   ]
  },
  {
   "cell_type": "code",
   "execution_count": 35,
   "metadata": {
    "colab": {
     "base_uri": "https://localhost:8080/"
    },
    "execution": {
     "iopub.execute_input": "2022-11-25T04:49:52.980237Z",
     "iopub.status.busy": "2022-11-25T04:49:52.979748Z",
     "iopub.status.idle": "2022-11-25T04:49:53.001454Z",
     "shell.execute_reply": "2022-11-25T04:49:53.000075Z",
     "shell.execute_reply.started": "2022-11-25T04:49:52.980193Z"
    },
    "id": "MeFwI-QLzsJL",
    "outputId": "51b689ae-3361-49e8-8934-e0c61ca5b265",
    "tags": []
   },
   "outputs": [
    {
     "name": "stdout",
     "output_type": "stream",
     "text": [
      "Model: \"sequential\"\n",
      "_________________________________________________________________\n",
      " Layer (type)                Output Shape              Param #   \n",
      "=================================================================\n",
      " embedding (Embedding)       (None, 100, 30)           3344370   \n",
      "                                                                 \n",
      " lstm (LSTM)                 (None, 32)                8064      \n",
      "                                                                 \n",
      " dense (Dense)               (None, 1)                 33        \n",
      "                                                                 \n",
      "=================================================================\n",
      "Total params: 3,352,467\n",
      "Trainable params: 3,352,467\n",
      "Non-trainable params: 0\n",
      "_________________________________________________________________\n",
      "None\n"
     ]
    }
   ],
   "source": [
    "print(model.summary())"
   ]
  },
  {
   "cell_type": "code",
   "execution_count": 36,
   "metadata": {
    "colab": {
     "base_uri": "https://localhost:8080/"
    },
    "execution": {
     "iopub.execute_input": "2022-11-25T04:49:53.003297Z",
     "iopub.status.busy": "2022-11-25T04:49:53.002943Z",
     "iopub.status.idle": "2022-11-25T04:56:49.569230Z",
     "shell.execute_reply": "2022-11-25T04:56:49.568163Z",
     "shell.execute_reply.started": "2022-11-25T04:49:53.003272Z"
    },
    "id": "2phuS2yizuwL",
    "outputId": "b3bc84a5-fa8a-4451-98a6-38086c34106a",
    "tags": []
   },
   "outputs": [
    {
     "name": "stdout",
     "output_type": "stream",
     "text": [
      "Epoch 1/20\n",
      "313/313 [==============================] - 43s 130ms/step - loss: 0.6972 - acc: 0.5019 - val_loss: 0.6941 - val_acc: 0.4914\n",
      "Epoch 2/20\n",
      "313/313 [==============================] - 39s 126ms/step - loss: 0.6948 - acc: 0.5001 - val_loss: 0.6931 - val_acc: 0.4914\n",
      "Epoch 3/20\n",
      "313/313 [==============================] - 40s 127ms/step - loss: 0.6936 - acc: 0.5047 - val_loss: 0.6924 - val_acc: 0.5454\n",
      "Epoch 4/20\n",
      "313/313 [==============================] - 39s 125ms/step - loss: 0.6928 - acc: 0.5130 - val_loss: 0.6912 - val_acc: 0.5532\n",
      "Epoch 5/20\n",
      "313/313 [==============================] - 40s 128ms/step - loss: 0.6908 - acc: 0.5266 - val_loss: 0.6848 - val_acc: 0.5966\n",
      "Epoch 6/20\n",
      "313/313 [==============================] - 39s 126ms/step - loss: 0.6797 - acc: 0.5652 - val_loss: 0.5898 - val_acc: 0.7524\n",
      "Epoch 7/20\n",
      "313/313 [==============================] - 39s 126ms/step - loss: 0.5764 - acc: 0.7056 - val_loss: 0.4351 - val_acc: 0.8088\n",
      "Epoch 8/20\n",
      "313/313 [==============================] - 39s 125ms/step - loss: 0.4447 - acc: 0.7991 - val_loss: 0.3982 - val_acc: 0.8415\n",
      "Epoch 9/20\n",
      "313/313 [==============================] - 39s 125ms/step - loss: 0.3807 - acc: 0.8341 - val_loss: 0.3805 - val_acc: 0.8465\n",
      "Epoch 10/20\n",
      "313/313 [==============================] - 39s 123ms/step - loss: 0.3383 - acc: 0.8575 - val_loss: 0.3347 - val_acc: 0.8670\n",
      "Epoch 11/20\n",
      "145/313 [============>.................] - ETA: 21s - loss: 0.3203 - acc: 0.8651"
     ]
    },
    {
     "ename": "KeyboardInterrupt",
     "evalue": "",
     "output_type": "error",
     "traceback": [
      "\u001b[0;31m---------------------------------------------------------------------------\u001b[0m",
      "\u001b[0;31mKeyboardInterrupt\u001b[0m                         Traceback (most recent call last)",
      "\u001b[0;32m/var/folders/zj/spcsc56s579cl_l9rxnsxv0m0000gq/T/ipykernel_2392/717906036.py\u001b[0m in \u001b[0;36m<module>\u001b[0;34m\u001b[0m\n\u001b[0;32m----> 1\u001b[0;31m model.fit(X_train_pad, y_train, \n\u001b[0m\u001b[1;32m      2\u001b[0m           \u001b[0mbatch_size\u001b[0m\u001b[0;34m=\u001b[0m\u001b[0;36m128\u001b[0m\u001b[0;34m,\u001b[0m\u001b[0;34m\u001b[0m\u001b[0;34m\u001b[0m\u001b[0m\n\u001b[1;32m      3\u001b[0m           \u001b[0mepochs\u001b[0m\u001b[0;34m=\u001b[0m\u001b[0;36m20\u001b[0m\u001b[0;34m,\u001b[0m\u001b[0;34m\u001b[0m\u001b[0;34m\u001b[0m\u001b[0m\n\u001b[1;32m      4\u001b[0m           \u001b[0mverbose\u001b[0m\u001b[0;34m=\u001b[0m\u001b[0;36m1\u001b[0m\u001b[0;34m,\u001b[0m\u001b[0;34m\u001b[0m\u001b[0;34m\u001b[0m\u001b[0m\n\u001b[1;32m      5\u001b[0m           validation_data=(X_test_pad, y_test))\n",
      "\u001b[0;32m/usr/local/lib/python3.9/site-packages/keras/utils/traceback_utils.py\u001b[0m in \u001b[0;36merror_handler\u001b[0;34m(*args, **kwargs)\u001b[0m\n\u001b[1;32m     63\u001b[0m         \u001b[0mfiltered_tb\u001b[0m \u001b[0;34m=\u001b[0m \u001b[0;32mNone\u001b[0m\u001b[0;34m\u001b[0m\u001b[0;34m\u001b[0m\u001b[0m\n\u001b[1;32m     64\u001b[0m         \u001b[0;32mtry\u001b[0m\u001b[0;34m:\u001b[0m\u001b[0;34m\u001b[0m\u001b[0;34m\u001b[0m\u001b[0m\n\u001b[0;32m---> 65\u001b[0;31m             \u001b[0;32mreturn\u001b[0m \u001b[0mfn\u001b[0m\u001b[0;34m(\u001b[0m\u001b[0;34m*\u001b[0m\u001b[0margs\u001b[0m\u001b[0;34m,\u001b[0m \u001b[0;34m**\u001b[0m\u001b[0mkwargs\u001b[0m\u001b[0;34m)\u001b[0m\u001b[0;34m\u001b[0m\u001b[0;34m\u001b[0m\u001b[0m\n\u001b[0m\u001b[1;32m     66\u001b[0m         \u001b[0;32mexcept\u001b[0m \u001b[0mException\u001b[0m \u001b[0;32mas\u001b[0m \u001b[0me\u001b[0m\u001b[0;34m:\u001b[0m\u001b[0;34m\u001b[0m\u001b[0;34m\u001b[0m\u001b[0m\n\u001b[1;32m     67\u001b[0m             \u001b[0mfiltered_tb\u001b[0m \u001b[0;34m=\u001b[0m \u001b[0m_process_traceback_frames\u001b[0m\u001b[0;34m(\u001b[0m\u001b[0me\u001b[0m\u001b[0;34m.\u001b[0m\u001b[0m__traceback__\u001b[0m\u001b[0;34m)\u001b[0m\u001b[0;34m\u001b[0m\u001b[0;34m\u001b[0m\u001b[0m\n",
      "\u001b[0;32m/usr/local/lib/python3.9/site-packages/keras/engine/training.py\u001b[0m in \u001b[0;36mfit\u001b[0;34m(self, x, y, batch_size, epochs, verbose, callbacks, validation_split, validation_data, shuffle, class_weight, sample_weight, initial_epoch, steps_per_epoch, validation_steps, validation_batch_size, validation_freq, max_queue_size, workers, use_multiprocessing)\u001b[0m\n\u001b[1;32m   1562\u001b[0m                         ):\n\u001b[1;32m   1563\u001b[0m                             \u001b[0mcallbacks\u001b[0m\u001b[0;34m.\u001b[0m\u001b[0mon_train_batch_begin\u001b[0m\u001b[0;34m(\u001b[0m\u001b[0mstep\u001b[0m\u001b[0;34m)\u001b[0m\u001b[0;34m\u001b[0m\u001b[0;34m\u001b[0m\u001b[0m\n\u001b[0;32m-> 1564\u001b[0;31m                             \u001b[0mtmp_logs\u001b[0m \u001b[0;34m=\u001b[0m \u001b[0mself\u001b[0m\u001b[0;34m.\u001b[0m\u001b[0mtrain_function\u001b[0m\u001b[0;34m(\u001b[0m\u001b[0miterator\u001b[0m\u001b[0;34m)\u001b[0m\u001b[0;34m\u001b[0m\u001b[0;34m\u001b[0m\u001b[0m\n\u001b[0m\u001b[1;32m   1565\u001b[0m                             \u001b[0;32mif\u001b[0m \u001b[0mdata_handler\u001b[0m\u001b[0;34m.\u001b[0m\u001b[0mshould_sync\u001b[0m\u001b[0;34m:\u001b[0m\u001b[0;34m\u001b[0m\u001b[0;34m\u001b[0m\u001b[0m\n\u001b[1;32m   1566\u001b[0m                                 \u001b[0mcontext\u001b[0m\u001b[0;34m.\u001b[0m\u001b[0masync_wait\u001b[0m\u001b[0;34m(\u001b[0m\u001b[0;34m)\u001b[0m\u001b[0;34m\u001b[0m\u001b[0;34m\u001b[0m\u001b[0m\n",
      "\u001b[0;32m/usr/local/lib/python3.9/site-packages/tensorflow/python/util/traceback_utils.py\u001b[0m in \u001b[0;36merror_handler\u001b[0;34m(*args, **kwargs)\u001b[0m\n\u001b[1;32m    148\u001b[0m     \u001b[0mfiltered_tb\u001b[0m \u001b[0;34m=\u001b[0m \u001b[0;32mNone\u001b[0m\u001b[0;34m\u001b[0m\u001b[0;34m\u001b[0m\u001b[0m\n\u001b[1;32m    149\u001b[0m     \u001b[0;32mtry\u001b[0m\u001b[0;34m:\u001b[0m\u001b[0;34m\u001b[0m\u001b[0;34m\u001b[0m\u001b[0m\n\u001b[0;32m--> 150\u001b[0;31m       \u001b[0;32mreturn\u001b[0m \u001b[0mfn\u001b[0m\u001b[0;34m(\u001b[0m\u001b[0;34m*\u001b[0m\u001b[0margs\u001b[0m\u001b[0;34m,\u001b[0m \u001b[0;34m**\u001b[0m\u001b[0mkwargs\u001b[0m\u001b[0;34m)\u001b[0m\u001b[0;34m\u001b[0m\u001b[0;34m\u001b[0m\u001b[0m\n\u001b[0m\u001b[1;32m    151\u001b[0m     \u001b[0;32mexcept\u001b[0m \u001b[0mException\u001b[0m \u001b[0;32mas\u001b[0m \u001b[0me\u001b[0m\u001b[0;34m:\u001b[0m\u001b[0;34m\u001b[0m\u001b[0;34m\u001b[0m\u001b[0m\n\u001b[1;32m    152\u001b[0m       \u001b[0mfiltered_tb\u001b[0m \u001b[0;34m=\u001b[0m \u001b[0m_process_traceback_frames\u001b[0m\u001b[0;34m(\u001b[0m\u001b[0me\u001b[0m\u001b[0;34m.\u001b[0m\u001b[0m__traceback__\u001b[0m\u001b[0;34m)\u001b[0m\u001b[0;34m\u001b[0m\u001b[0;34m\u001b[0m\u001b[0m\n",
      "\u001b[0;32m/usr/local/lib/python3.9/site-packages/tensorflow/python/eager/def_function.py\u001b[0m in \u001b[0;36m__call__\u001b[0;34m(self, *args, **kwds)\u001b[0m\n\u001b[1;32m    913\u001b[0m \u001b[0;34m\u001b[0m\u001b[0m\n\u001b[1;32m    914\u001b[0m       \u001b[0;32mwith\u001b[0m \u001b[0mOptionalXlaContext\u001b[0m\u001b[0;34m(\u001b[0m\u001b[0mself\u001b[0m\u001b[0;34m.\u001b[0m\u001b[0m_jit_compile\u001b[0m\u001b[0;34m)\u001b[0m\u001b[0;34m:\u001b[0m\u001b[0;34m\u001b[0m\u001b[0;34m\u001b[0m\u001b[0m\n\u001b[0;32m--> 915\u001b[0;31m         \u001b[0mresult\u001b[0m \u001b[0;34m=\u001b[0m \u001b[0mself\u001b[0m\u001b[0;34m.\u001b[0m\u001b[0m_call\u001b[0m\u001b[0;34m(\u001b[0m\u001b[0;34m*\u001b[0m\u001b[0margs\u001b[0m\u001b[0;34m,\u001b[0m \u001b[0;34m**\u001b[0m\u001b[0mkwds\u001b[0m\u001b[0;34m)\u001b[0m\u001b[0;34m\u001b[0m\u001b[0;34m\u001b[0m\u001b[0m\n\u001b[0m\u001b[1;32m    916\u001b[0m \u001b[0;34m\u001b[0m\u001b[0m\n\u001b[1;32m    917\u001b[0m       \u001b[0mnew_tracing_count\u001b[0m \u001b[0;34m=\u001b[0m \u001b[0mself\u001b[0m\u001b[0;34m.\u001b[0m\u001b[0mexperimental_get_tracing_count\u001b[0m\u001b[0;34m(\u001b[0m\u001b[0;34m)\u001b[0m\u001b[0;34m\u001b[0m\u001b[0;34m\u001b[0m\u001b[0m\n",
      "\u001b[0;32m/usr/local/lib/python3.9/site-packages/tensorflow/python/eager/def_function.py\u001b[0m in \u001b[0;36m_call\u001b[0;34m(self, *args, **kwds)\u001b[0m\n\u001b[1;32m    945\u001b[0m       \u001b[0;31m# In this case we have created variables on the first call, so we run the\u001b[0m\u001b[0;34m\u001b[0m\u001b[0;34m\u001b[0m\u001b[0m\n\u001b[1;32m    946\u001b[0m       \u001b[0;31m# defunned version which is guaranteed to never create variables.\u001b[0m\u001b[0;34m\u001b[0m\u001b[0;34m\u001b[0m\u001b[0m\n\u001b[0;32m--> 947\u001b[0;31m       \u001b[0;32mreturn\u001b[0m \u001b[0mself\u001b[0m\u001b[0;34m.\u001b[0m\u001b[0m_stateless_fn\u001b[0m\u001b[0;34m(\u001b[0m\u001b[0;34m*\u001b[0m\u001b[0margs\u001b[0m\u001b[0;34m,\u001b[0m \u001b[0;34m**\u001b[0m\u001b[0mkwds\u001b[0m\u001b[0;34m)\u001b[0m  \u001b[0;31m# pylint: disable=not-callable\u001b[0m\u001b[0;34m\u001b[0m\u001b[0;34m\u001b[0m\u001b[0m\n\u001b[0m\u001b[1;32m    948\u001b[0m     \u001b[0;32melif\u001b[0m \u001b[0mself\u001b[0m\u001b[0;34m.\u001b[0m\u001b[0m_stateful_fn\u001b[0m \u001b[0;32mis\u001b[0m \u001b[0;32mnot\u001b[0m \u001b[0;32mNone\u001b[0m\u001b[0;34m:\u001b[0m\u001b[0;34m\u001b[0m\u001b[0;34m\u001b[0m\u001b[0m\n\u001b[1;32m    949\u001b[0m       \u001b[0;31m# Release the lock early so that multiple threads can perform the call\u001b[0m\u001b[0;34m\u001b[0m\u001b[0;34m\u001b[0m\u001b[0m\n",
      "\u001b[0;32m/usr/local/lib/python3.9/site-packages/tensorflow/python/eager/function.py\u001b[0m in \u001b[0;36m__call__\u001b[0;34m(self, *args, **kwargs)\u001b[0m\n\u001b[1;32m   2494\u001b[0m       (graph_function,\n\u001b[1;32m   2495\u001b[0m        filtered_flat_args) = self._maybe_define_function(args, kwargs)\n\u001b[0;32m-> 2496\u001b[0;31m     return graph_function._call_flat(\n\u001b[0m\u001b[1;32m   2497\u001b[0m         filtered_flat_args, captured_inputs=graph_function.captured_inputs)  # pylint: disable=protected-access\n\u001b[1;32m   2498\u001b[0m \u001b[0;34m\u001b[0m\u001b[0m\n",
      "\u001b[0;32m/usr/local/lib/python3.9/site-packages/tensorflow/python/eager/function.py\u001b[0m in \u001b[0;36m_call_flat\u001b[0;34m(self, args, captured_inputs, cancellation_manager)\u001b[0m\n\u001b[1;32m   1860\u001b[0m         and executing_eagerly):\n\u001b[1;32m   1861\u001b[0m       \u001b[0;31m# No tape is watching; skip to running the function.\u001b[0m\u001b[0;34m\u001b[0m\u001b[0;34m\u001b[0m\u001b[0m\n\u001b[0;32m-> 1862\u001b[0;31m       return self._build_call_outputs(self._inference_function.call(\n\u001b[0m\u001b[1;32m   1863\u001b[0m           ctx, args, cancellation_manager=cancellation_manager))\n\u001b[1;32m   1864\u001b[0m     forward_backward = self._select_forward_and_backward_functions(\n",
      "\u001b[0;32m/usr/local/lib/python3.9/site-packages/tensorflow/python/eager/function.py\u001b[0m in \u001b[0;36mcall\u001b[0;34m(self, ctx, args, cancellation_manager)\u001b[0m\n\u001b[1;32m    497\u001b[0m       \u001b[0;32mwith\u001b[0m \u001b[0m_InterpolateFunctionError\u001b[0m\u001b[0;34m(\u001b[0m\u001b[0mself\u001b[0m\u001b[0;34m)\u001b[0m\u001b[0;34m:\u001b[0m\u001b[0;34m\u001b[0m\u001b[0;34m\u001b[0m\u001b[0m\n\u001b[1;32m    498\u001b[0m         \u001b[0;32mif\u001b[0m \u001b[0mcancellation_manager\u001b[0m \u001b[0;32mis\u001b[0m \u001b[0;32mNone\u001b[0m\u001b[0;34m:\u001b[0m\u001b[0;34m\u001b[0m\u001b[0;34m\u001b[0m\u001b[0m\n\u001b[0;32m--> 499\u001b[0;31m           outputs = execute.execute(\n\u001b[0m\u001b[1;32m    500\u001b[0m               \u001b[0mstr\u001b[0m\u001b[0;34m(\u001b[0m\u001b[0mself\u001b[0m\u001b[0;34m.\u001b[0m\u001b[0msignature\u001b[0m\u001b[0;34m.\u001b[0m\u001b[0mname\u001b[0m\u001b[0;34m)\u001b[0m\u001b[0;34m,\u001b[0m\u001b[0;34m\u001b[0m\u001b[0;34m\u001b[0m\u001b[0m\n\u001b[1;32m    501\u001b[0m               \u001b[0mnum_outputs\u001b[0m\u001b[0;34m=\u001b[0m\u001b[0mself\u001b[0m\u001b[0;34m.\u001b[0m\u001b[0m_num_outputs\u001b[0m\u001b[0;34m,\u001b[0m\u001b[0;34m\u001b[0m\u001b[0;34m\u001b[0m\u001b[0m\n",
      "\u001b[0;32m/usr/local/lib/python3.9/site-packages/tensorflow/python/eager/execute.py\u001b[0m in \u001b[0;36mquick_execute\u001b[0;34m(op_name, num_outputs, inputs, attrs, ctx, name)\u001b[0m\n\u001b[1;32m     52\u001b[0m   \u001b[0;32mtry\u001b[0m\u001b[0;34m:\u001b[0m\u001b[0;34m\u001b[0m\u001b[0;34m\u001b[0m\u001b[0m\n\u001b[1;32m     53\u001b[0m     \u001b[0mctx\u001b[0m\u001b[0;34m.\u001b[0m\u001b[0mensure_initialized\u001b[0m\u001b[0;34m(\u001b[0m\u001b[0;34m)\u001b[0m\u001b[0;34m\u001b[0m\u001b[0;34m\u001b[0m\u001b[0m\n\u001b[0;32m---> 54\u001b[0;31m     tensors = pywrap_tfe.TFE_Py_Execute(ctx._handle, device_name, op_name,\n\u001b[0m\u001b[1;32m     55\u001b[0m                                         inputs, attrs, num_outputs)\n\u001b[1;32m     56\u001b[0m   \u001b[0;32mexcept\u001b[0m \u001b[0mcore\u001b[0m\u001b[0;34m.\u001b[0m\u001b[0m_NotOkStatusException\u001b[0m \u001b[0;32mas\u001b[0m \u001b[0me\u001b[0m\u001b[0;34m:\u001b[0m\u001b[0;34m\u001b[0m\u001b[0;34m\u001b[0m\u001b[0m\n",
      "\u001b[0;31mKeyboardInterrupt\u001b[0m: "
     ]
    }
   ],
   "source": [
    "model.fit(X_train_pad, y_train, \n",
    "          batch_size=128, \n",
    "          epochs=20, \n",
    "          verbose=1, \n",
    "          validation_data=(X_test_pad, y_test))"
   ]
  },
  {
   "cell_type": "code",
   "execution_count": null,
   "metadata": {
    "execution": {
     "iopub.status.busy": "2022-11-25T04:56:49.569825Z",
     "iopub.status.idle": "2022-11-25T04:56:49.570105Z",
     "shell.execute_reply": "2022-11-25T04:56:49.569959Z",
     "shell.execute_reply.started": "2022-11-25T04:56:49.569945Z"
    },
    "id": "T5bRt-S3LoEU",
    "tags": []
   },
   "outputs": [],
   "source": [
    "word_embeddings = embedding_layer.get_weights()[0]"
   ]
  },
  {
   "cell_type": "code",
   "execution_count": null,
   "metadata": {
    "colab": {
     "base_uri": "https://localhost:8080/",
     "height": 488
    },
    "execution": {
     "iopub.status.busy": "2022-11-25T04:56:49.571728Z",
     "iopub.status.idle": "2022-11-25T04:56:49.572364Z",
     "shell.execute_reply": "2022-11-25T04:56:49.572194Z",
     "shell.execute_reply.started": "2022-11-25T04:56:49.572175Z"
    },
    "id": "WcfYaAS_zytz",
    "outputId": "479782ed-12cd-4cc4-d0a8-b50a4919b931",
    "tags": []
   },
   "outputs": [],
   "source": [
    "pd.DataFrame(word_embeddings)"
   ]
  },
  {
   "cell_type": "code",
   "execution_count": null,
   "metadata": {
    "execution": {
     "iopub.status.busy": "2022-11-25T04:56:49.573958Z",
     "iopub.status.idle": "2022-11-25T04:56:49.574373Z",
     "shell.execute_reply": "2022-11-25T04:56:49.574210Z",
     "shell.execute_reply.started": "2022-11-25T04:56:49.574190Z"
    },
    "id": "zv9_8sz4IXGD",
    "tags": []
   },
   "outputs": [],
   "source": [
    "# `word_to_index` is a mapping (i.e. dict) from words to their index, e.g. `love`: 69\n",
    "embedding_4_each_words = {w:word_embeddings[idx] for w, idx in word_index.items()}"
   ]
  },
  {
   "cell_type": "code",
   "execution_count": null,
   "metadata": {
    "colab": {
     "base_uri": "https://localhost:8080/"
    },
    "execution": {
     "iopub.status.busy": "2022-11-25T04:56:49.577249Z",
     "iopub.status.idle": "2022-11-25T04:56:49.577673Z",
     "shell.execute_reply": "2022-11-25T04:56:49.577517Z",
     "shell.execute_reply.started": "2022-11-25T04:56:49.577500Z"
    },
    "id": "M7jc_wZBNDTs",
    "outputId": "368fa413-9378-4cd0-b20c-dda0bf985312",
    "tags": []
   },
   "outputs": [],
   "source": [
    "embedding_4_each_words"
   ]
  },
  {
   "cell_type": "code",
   "execution_count": null,
   "metadata": {
    "execution": {
     "iopub.status.busy": "2022-11-25T04:56:49.579252Z",
     "iopub.status.idle": "2022-11-25T04:56:49.579881Z",
     "shell.execute_reply": "2022-11-25T04:56:49.579723Z",
     "shell.execute_reply.started": "2022-11-25T04:56:49.579705Z"
    },
    "tags": []
   },
   "outputs": [],
   "source": [
    "test = embedding_4_each_words['good']"
   ]
  },
  {
   "cell_type": "code",
   "execution_count": null,
   "metadata": {
    "execution": {
     "iopub.status.busy": "2022-11-25T04:56:49.581178Z",
     "iopub.status.idle": "2022-11-25T04:56:49.581635Z",
     "shell.execute_reply": "2022-11-25T04:56:49.581467Z",
     "shell.execute_reply.started": "2022-11-25T04:56:49.581442Z"
    },
    "tags": []
   },
   "outputs": [],
   "source": [
    "test = list(test)"
   ]
  },
  {
   "cell_type": "code",
   "execution_count": null,
   "metadata": {
    "execution": {
     "iopub.status.busy": "2022-11-25T04:56:49.582999Z",
     "iopub.status.idle": "2022-11-25T04:56:49.583470Z",
     "shell.execute_reply": "2022-11-25T04:56:49.583233Z",
     "shell.execute_reply.started": "2022-11-25T04:56:49.583206Z"
    },
    "id": "wHFty8HeLPpo",
    "tags": []
   },
   "outputs": [],
   "source": [
    "from sklearn.metrics.pairwise import cosine_similarity\n",
    "\n",
    "simil = cosine_similarity(word_embeddings, embedding_4_each_words['good'].reshape(1, -1))\n"
   ]
  },
  {
   "cell_type": "code",
   "execution_count": null,
   "metadata": {
    "execution": {
     "iopub.status.busy": "2022-11-25T04:56:49.585057Z",
     "iopub.status.idle": "2022-11-25T04:56:49.585738Z",
     "shell.execute_reply": "2022-11-25T04:56:49.585580Z",
     "shell.execute_reply.started": "2022-11-25T04:56:49.585562Z"
    },
    "tags": []
   },
   "outputs": [],
   "source": [
    "simil"
   ]
  },
  {
   "cell_type": "code",
   "execution_count": null,
   "metadata": {
    "execution": {
     "iopub.status.busy": "2022-11-25T04:56:49.586779Z",
     "iopub.status.idle": "2022-11-25T04:56:49.587359Z",
     "shell.execute_reply": "2022-11-25T04:56:49.587117Z",
     "shell.execute_reply.started": "2022-11-25T04:56:49.587097Z"
    },
    "id": "BueOd9JpIXLU",
    "tags": []
   },
   "outputs": [],
   "source": [
    "n = 5\n",
    "top_n_similar = sorted(range(len(simil)), key=lambda i: simil[i])[-n-1:-1]\n"
   ]
  },
  {
   "cell_type": "code",
   "execution_count": null,
   "metadata": {
    "execution": {
     "iopub.status.busy": "2022-11-25T04:56:49.588780Z",
     "iopub.status.idle": "2022-11-25T04:56:49.589309Z",
     "shell.execute_reply": "2022-11-25T04:56:49.589067Z",
     "shell.execute_reply.started": "2022-11-25T04:56:49.589045Z"
    },
    "tags": []
   },
   "outputs": [],
   "source": [
    "for word, vector in embedding_4_each_words.items():  # for name, age in dictionary.iteritems():  (for Python 2.x)\n",
    "    for i in range (n):\n",
    "        if np.array_equal(vector,word_embeddings[top_n_similar[i]]):\n",
    "            print(word, simil[top_n_similar[i]])"
   ]
  },
  {
   "cell_type": "code",
   "execution_count": null,
   "metadata": {
    "execution": {
     "iopub.status.busy": "2022-11-25T04:56:49.590858Z",
     "iopub.status.idle": "2022-11-25T04:56:49.591448Z",
     "shell.execute_reply": "2022-11-25T04:56:49.591191Z",
     "shell.execute_reply.started": "2022-11-25T04:56:49.591169Z"
    }
   },
   "outputs": [],
   "source": [
    "top_n_similar"
   ]
  },
  {
   "cell_type": "code",
   "execution_count": null,
   "metadata": {
    "execution": {
     "iopub.status.busy": "2022-11-25T04:56:49.593306Z",
     "iopub.status.idle": "2022-11-25T04:56:49.593854Z",
     "shell.execute_reply": "2022-11-25T04:56:49.593679Z",
     "shell.execute_reply.started": "2022-11-25T04:56:49.593659Z"
    },
    "tags": []
   },
   "outputs": [],
   "source": [
    "embedding_4_each_words[\"seasons\"] == word_embeddings[2523]"
   ]
  },
  {
   "cell_type": "code",
   "execution_count": null,
   "metadata": {
    "execution": {
     "iopub.status.busy": "2022-11-25T04:56:49.594997Z",
     "iopub.status.idle": "2022-11-25T04:56:49.595455Z",
     "shell.execute_reply": "2022-11-25T04:56:49.595220Z",
     "shell.execute_reply.started": "2022-11-25T04:56:49.595197Z"
    },
    "tags": []
   },
   "outputs": [],
   "source": [
    "embedding_4_each_words[\"truer\"] == word_embeddings[16734]"
   ]
  },
  {
   "cell_type": "code",
   "execution_count": null,
   "metadata": {
    "execution": {
     "iopub.status.busy": "2022-11-25T04:56:49.596675Z",
     "iopub.status.idle": "2022-11-25T04:56:49.597435Z",
     "shell.execute_reply": "2022-11-25T04:56:49.597162Z",
     "shell.execute_reply.started": "2022-11-25T04:56:49.597141Z"
    }
   },
   "outputs": [],
   "source": [
    "embedding_4_each_words[\"blob\"] == word_embeddings[8031]"
   ]
  },
  {
   "cell_type": "markdown",
   "metadata": {
    "id": "XvmwluzmGr9k"
   },
   "source": [
    "# Word2Vec"
   ]
  },
  {
   "cell_type": "code",
   "execution_count": null,
   "metadata": {
    "execution": {
     "iopub.status.busy": "2022-11-25T04:56:49.598860Z",
     "iopub.status.idle": "2022-11-25T04:56:49.599310Z",
     "shell.execute_reply": "2022-11-25T04:56:49.599136Z",
     "shell.execute_reply.started": "2022-11-25T04:56:49.599117Z"
    },
    "id": "9Oi5ynz6GuLf"
   },
   "outputs": [],
   "source": [
    "import gensim\n",
    "import gensim.downloader as api"
   ]
  },
  {
   "cell_type": "code",
   "execution_count": null,
   "metadata": {
    "colab": {
     "base_uri": "https://localhost:8080/"
    },
    "execution": {
     "iopub.status.busy": "2022-11-25T04:56:49.600709Z",
     "iopub.status.idle": "2022-11-25T04:56:49.601078Z",
     "shell.execute_reply": "2022-11-25T04:56:49.600929Z",
     "shell.execute_reply.started": "2022-11-25T04:56:49.600913Z"
    },
    "id": "YMofAJxNIioA",
    "outputId": "31209563-e066-4a37-e608-fc4f9e7a4b17"
   },
   "outputs": [],
   "source": [
    "# download the word2vec model\n",
    "word2vec = api.load('word2vec-google-news-300')"
   ]
  },
  {
   "cell_type": "code",
   "execution_count": null,
   "metadata": {
    "colab": {
     "base_uri": "https://localhost:8080/"
    },
    "execution": {
     "iopub.status.busy": "2022-11-25T04:56:49.602516Z",
     "iopub.status.idle": "2022-11-25T04:56:49.603151Z",
     "shell.execute_reply": "2022-11-25T04:56:49.602899Z",
     "shell.execute_reply.started": "2022-11-25T04:56:49.602872Z"
    },
    "id": "xw3K-Nn9I9-Y",
    "outputId": "fbe81ec4-654d-46d0-db9d-4d91cc972ea3",
    "tags": []
   },
   "outputs": [],
   "source": [
    "word2vec['boy']"
   ]
  },
  {
   "cell_type": "code",
   "execution_count": null,
   "metadata": {
    "colab": {
     "base_uri": "https://localhost:8080/"
    },
    "execution": {
     "iopub.status.busy": "2022-11-25T04:56:49.604449Z",
     "iopub.status.idle": "2022-11-25T04:56:49.604852Z",
     "shell.execute_reply": "2022-11-25T04:56:49.604668Z",
     "shell.execute_reply.started": "2022-11-25T04:56:49.604648Z"
    },
    "id": "MKYvHAfKNFJw",
    "outputId": "74af3c87-6d1c-4471-f628-adb677b7c786"
   },
   "outputs": [],
   "source": [
    "word2vec.most_similar(\"man\")"
   ]
  },
  {
   "cell_type": "code",
   "execution_count": null,
   "metadata": {
    "colab": {
     "base_uri": "https://localhost:8080/"
    },
    "execution": {
     "iopub.status.busy": "2022-11-25T04:56:49.606259Z",
     "iopub.status.idle": "2022-11-25T04:56:49.606761Z",
     "shell.execute_reply": "2022-11-25T04:56:49.606537Z",
     "shell.execute_reply.started": "2022-11-25T04:56:49.606513Z"
    },
    "id": "lHOs8GAfNgjJ",
    "outputId": "cff75eb8-e245-42a9-c121-b65dfcf54df8"
   },
   "outputs": [],
   "source": [
    "word2vec.most_similar(\"woman\")"
   ]
  },
  {
   "cell_type": "code",
   "execution_count": null,
   "metadata": {
    "colab": {
     "base_uri": "https://localhost:8080/"
    },
    "execution": {
     "iopub.status.busy": "2022-11-25T04:56:49.608224Z",
     "iopub.status.idle": "2022-11-25T04:56:49.608638Z",
     "shell.execute_reply": "2022-11-25T04:56:49.608422Z",
     "shell.execute_reply.started": "2022-11-25T04:56:49.608397Z"
    },
    "id": "UZjeMLUlOIrK",
    "outputId": "f0455aa2-a37e-4837-b9b2-1aafa2fdcd4f"
   },
   "outputs": [],
   "source": [
    "word2vec.most_similar(\"king\")"
   ]
  },
  {
   "cell_type": "code",
   "execution_count": null,
   "metadata": {
    "colab": {
     "base_uri": "https://localhost:8080/"
    },
    "execution": {
     "iopub.status.busy": "2022-11-25T04:56:49.610809Z",
     "iopub.status.idle": "2022-11-25T04:56:49.611622Z",
     "shell.execute_reply": "2022-11-25T04:56:49.611354Z",
     "shell.execute_reply.started": "2022-11-25T04:56:49.611323Z"
    },
    "id": "YemlBCS0NoA_",
    "outputId": "a2fc7519-0aa1-43c1-ace4-9981e66dc775"
   },
   "outputs": [],
   "source": [
    "word2vec.most_similar(positive= [\"king\", \"woman\"], negative= ['man'])"
   ]
  },
  {
   "cell_type": "code",
   "execution_count": null,
   "metadata": {
    "id": "Ij-FJBfNPFba"
   },
   "outputs": [],
   "source": []
  }
 ],
 "metadata": {
  "accelerator": "GPU",
  "colab": {
   "machine_shape": "hm",
   "provenance": []
  },
  "gpuClass": "premium",
  "kernelspec": {
   "display_name": "Python 3 (ipykernel)",
   "language": "python",
   "name": "python3"
  },
  "language_info": {
   "codemirror_mode": {
    "name": "ipython",
    "version": 3
   },
   "file_extension": ".py",
   "mimetype": "text/x-python",
   "name": "python",
   "nbconvert_exporter": "python",
   "pygments_lexer": "ipython3",
   "version": "3.9.12"
  }
 },
 "nbformat": 4,
 "nbformat_minor": 4
}
