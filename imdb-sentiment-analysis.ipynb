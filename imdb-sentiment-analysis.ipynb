{
 "cells": [
  {
   "cell_type": "code",
   "execution_count": 1,
   "id": "fcfbb9f0-3cd9-4eec-b68f-18a2b2e5b729",
   "metadata": {
    "execution": {
     "iopub.execute_input": "2022-11-25T04:51:38.861137Z",
     "iopub.status.busy": "2022-11-25T04:51:38.860744Z",
     "iopub.status.idle": "2022-11-25T04:51:38.873992Z",
     "shell.execute_reply": "2022-11-25T04:51:38.872578Z",
     "shell.execute_reply.started": "2022-11-25T04:51:38.861033Z"
    },
    "tags": []
   },
   "outputs": [],
   "source": [
    "__author__ = \"Yasaman Emami\"\n",
    "__email__ = ['emami.yasamann@gmail.com','yasaman.emami@sjsu.edu']"
   ]
  },
  {
   "cell_type": "markdown",
   "id": "8aad0bcd-4415-4da8-9672-9b4e450fbeb0",
   "metadata": {},
   "source": [
    "## Import Libraries"
   ]
  },
  {
   "cell_type": "code",
   "execution_count": 2,
   "id": "959e7852-b7f3-4f10-a327-41a2501850c4",
   "metadata": {
    "execution": {
     "iopub.execute_input": "2022-11-25T04:51:38.878349Z",
     "iopub.status.busy": "2022-11-25T04:51:38.877900Z",
     "iopub.status.idle": "2022-11-25T04:51:49.427094Z",
     "shell.execute_reply": "2022-11-25T04:51:49.426030Z",
     "shell.execute_reply.started": "2022-11-25T04:51:38.878297Z"
    },
    "tags": []
   },
   "outputs": [
    {
     "name": "stderr",
     "output_type": "stream",
     "text": [
      "[nltk_data] Downloading package stopwords to\n",
      "[nltk_data]     /Users/yasamanemami/nltk_data...\n",
      "[nltk_data]   Package stopwords is already up-to-date!\n",
      "2022-11-24 20:51:41.220995: I tensorflow/core/platform/cpu_feature_guard.cc:193] This TensorFlow binary is optimized with oneAPI Deep Neural Network Library (oneDNN) to use the following CPU instructions in performance-critical operations:  AVX2 FMA\n",
      "To enable them in other operations, rebuild TensorFlow with the appropriate compiler flags.\n"
     ]
    }
   ],
   "source": [
    "import pandas as pd\n",
    "import nltk\n",
    "from nltk.corpus import stopwords\n",
    "nltk.download(\"stopwords\")\n",
    "import re\n",
    "from nltk.stem.porter import PorterStemmer\n",
    "import string\n",
    "from nltk.stem import WordNetLemmatizer\n",
    "from sklearn.feature_extraction.text import TfidfVectorizer\n",
    "import numpy as np\n",
    "from sklearn.datasets import make_classification\n",
    "from sklearn.model_selection import train_test_split\n",
    "from sklearn import svm\n",
    "from sklearn.preprocessing import LabelEncoder\n",
    "from sklearn.metrics import roc_auc_score\n",
    "from sklearn.metrics import accuracy_score\n",
    "from nltk.tokenize.treebank import TreebankWordDetokenizer\n",
    "import gensim\n",
    "from gensim.models import Word2Vec\n",
    "from keras.models import Sequential\n",
    "from keras.layers import Dense , Flatten ,Embedding,Input,CuDNNLSTM,LSTM\n",
    "from keras.models import Model\n",
    "import keras\n",
    "import matplotlib.pyplot as plt\n",
    "from keras.models import Sequential\n",
    "from keras.layers import *\n",
    "import gensim\n",
    "import sys\n",
    "import string\n",
    "import logging\n",
    "import random\n",
    "import matplotlib.pyplot as plt\n",
    "from tensorflow.keras.preprocessing.sequence import pad_sequences\n",
    "from tensorflow.keras.utils import to_categorical\n",
    "from tensorflow.keras.layers import Flatten, GRU, Dense, Flatten, Embedding, LSTM\n",
    "from tensorflow.keras.models import Sequential\n",
    "import tensorflow as tf\n",
    "from keras_preprocessing.text import Tokenizer\n",
    "from sklearn.metrics.pairwise import cosine_similarity\n",
    "from keras.initializers import Constant\n",
    "from sklearn.metrics import classification_report\n",
    "from keras import preprocessing\n",
    "from tensorflow.keras.preprocessing.text import Tokenizer\n",
    "from tensorflow.keras.preprocessing.sequence import pad_sequences"
   ]
  },
  {
   "cell_type": "markdown",
   "id": "5fa47570-815a-43b4-afa9-7ecfdb8c7fe1",
   "metadata": {},
   "source": [
    "## Read data into a dataframe"
   ]
  },
  {
   "cell_type": "code",
   "execution_count": 3,
   "id": "40eec810-6e15-4b8e-b0a2-1db8caa9ed77",
   "metadata": {
    "execution": {
     "iopub.execute_input": "2022-11-25T04:51:49.428920Z",
     "iopub.status.busy": "2022-11-25T04:51:49.428416Z",
     "iopub.status.idle": "2022-11-25T04:51:50.243004Z",
     "shell.execute_reply": "2022-11-25T04:51:50.242051Z",
     "shell.execute_reply.started": "2022-11-25T04:51:49.428860Z"
    },
    "tags": []
   },
   "outputs": [],
   "source": [
    "df = pd.read_csv('imdb_db.csv')  "
   ]
  },
  {
   "cell_type": "code",
   "execution_count": 4,
   "id": "ef42fd3f-99ff-4c9d-aa3d-8fa34f60b867",
   "metadata": {
    "execution": {
     "iopub.execute_input": "2022-11-25T04:51:50.245232Z",
     "iopub.status.busy": "2022-11-25T04:51:50.244887Z",
     "iopub.status.idle": "2022-11-25T04:51:50.281221Z",
     "shell.execute_reply": "2022-11-25T04:51:50.279346Z",
     "shell.execute_reply.started": "2022-11-25T04:51:50.245191Z"
    },
    "tags": []
   },
   "outputs": [
    {
     "data": {
      "text/html": [
       "<div>\n",
       "<style scoped>\n",
       "    .dataframe tbody tr th:only-of-type {\n",
       "        vertical-align: middle;\n",
       "    }\n",
       "\n",
       "    .dataframe tbody tr th {\n",
       "        vertical-align: top;\n",
       "    }\n",
       "\n",
       "    .dataframe thead th {\n",
       "        text-align: right;\n",
       "    }\n",
       "</style>\n",
       "<table border=\"1\" class=\"dataframe\">\n",
       "  <thead>\n",
       "    <tr style=\"text-align: right;\">\n",
       "      <th></th>\n",
       "      <th>review</th>\n",
       "      <th>sentiment</th>\n",
       "    </tr>\n",
       "  </thead>\n",
       "  <tbody>\n",
       "    <tr>\n",
       "      <th>0</th>\n",
       "      <td>One of the other reviewers has mentioned that ...</td>\n",
       "      <td>positive</td>\n",
       "    </tr>\n",
       "    <tr>\n",
       "      <th>1</th>\n",
       "      <td>A wonderful little production. &lt;br /&gt;&lt;br /&gt;The...</td>\n",
       "      <td>positive</td>\n",
       "    </tr>\n",
       "    <tr>\n",
       "      <th>2</th>\n",
       "      <td>I thought this was a wonderful way to spend ti...</td>\n",
       "      <td>positive</td>\n",
       "    </tr>\n",
       "    <tr>\n",
       "      <th>3</th>\n",
       "      <td>Basically there's a family where a little boy ...</td>\n",
       "      <td>negative</td>\n",
       "    </tr>\n",
       "    <tr>\n",
       "      <th>4</th>\n",
       "      <td>Petter Mattei's \"Love in the Time of Money\" is...</td>\n",
       "      <td>positive</td>\n",
       "    </tr>\n",
       "  </tbody>\n",
       "</table>\n",
       "</div>"
      ],
      "text/plain": [
       "                                              review sentiment\n",
       "0  One of the other reviewers has mentioned that ...  positive\n",
       "1  A wonderful little production. <br /><br />The...  positive\n",
       "2  I thought this was a wonderful way to spend ti...  positive\n",
       "3  Basically there's a family where a little boy ...  negative\n",
       "4  Petter Mattei's \"Love in the Time of Money\" is...  positive"
      ]
     },
     "execution_count": 4,
     "metadata": {},
     "output_type": "execute_result"
    }
   ],
   "source": [
    "df.head()"
   ]
  },
  {
   "cell_type": "code",
   "execution_count": 5,
   "id": "5e03745b-f5d8-4f75-952d-378f65167fbc",
   "metadata": {
    "execution": {
     "iopub.execute_input": "2022-11-25T04:51:50.284108Z",
     "iopub.status.busy": "2022-11-25T04:51:50.282890Z",
     "iopub.status.idle": "2022-11-25T04:51:50.298089Z",
     "shell.execute_reply": "2022-11-25T04:51:50.296163Z",
     "shell.execute_reply.started": "2022-11-25T04:51:50.284034Z"
    },
    "tags": []
   },
   "outputs": [
    {
     "data": {
      "text/plain": [
       "50000"
      ]
     },
     "execution_count": 5,
     "metadata": {},
     "output_type": "execute_result"
    }
   ],
   "source": [
    "len(df)"
   ]
  },
  {
   "cell_type": "markdown",
   "id": "4472a0fb-d87a-4539-a866-7f9168d012bb",
   "metadata": {},
   "source": [
    "### Distribution of sentiments dist."
   ]
  },
  {
   "cell_type": "code",
   "execution_count": 6,
   "id": "7d5974c8-1040-45d7-8771-0b96e29b5232",
   "metadata": {
    "execution": {
     "iopub.execute_input": "2022-11-25T04:51:50.300730Z",
     "iopub.status.busy": "2022-11-25T04:51:50.300017Z",
     "iopub.status.idle": "2022-11-25T04:51:50.791013Z",
     "shell.execute_reply": "2022-11-25T04:51:50.789609Z",
     "shell.execute_reply.started": "2022-11-25T04:51:50.300660Z"
    },
    "tags": []
   },
   "outputs": [
    {
     "data": {
      "text/plain": [
       "<AxesSubplot:xlabel='sentiment', ylabel='count'>"
      ]
     },
     "execution_count": 6,
     "metadata": {},
     "output_type": "execute_result"
    },
    {
     "data": {
      "image/png": "[encoded data removed]",
      "text/plain": [
       "<Figure size 432x288 with 1 Axes>"
      ]
     },
     "metadata": {
      "needs_background": "light"
     },
     "output_type": "display_data"
    }
   ],
   "source": [
    "import seaborn as sns\n",
    "sns.countplot(x='sentiment', data=df)"
   ]
  },
  {
   "cell_type": "markdown",
   "id": "6f2ce647-433c-4f58-9907-fb43a224a454",
   "metadata": {
    "tags": []
   },
   "source": [
    "## Convert review column text into lower case (1.d.)"
   ]
  },
  {
   "cell_type": "code",
   "execution_count": 7,
   "id": "efcdf1ae-248a-4090-96b8-8fbba89183aa",
   "metadata": {
    "execution": {
     "iopub.execute_input": "2022-11-25T04:51:50.800379Z",
     "iopub.status.busy": "2022-11-25T04:51:50.799986Z",
     "iopub.status.idle": "2022-11-25T04:51:51.093091Z",
     "shell.execute_reply": "2022-11-25T04:51:51.091577Z",
     "shell.execute_reply.started": "2022-11-25T04:51:50.800338Z"
    },
    "tags": []
   },
   "outputs": [],
   "source": [
    "df['review_lower'] = df['review'].str.lower()"
   ]
  },
  {
   "cell_type": "code",
   "execution_count": 8,
   "id": "f87779ca-b721-463d-8ae2-bca855318bcc",
   "metadata": {
    "execution": {
     "iopub.execute_input": "2022-11-25T04:51:51.101142Z",
     "iopub.status.busy": "2022-11-25T04:51:51.099568Z",
     "iopub.status.idle": "2022-11-25T04:51:51.112131Z",
     "shell.execute_reply": "2022-11-25T04:51:51.110314Z",
     "shell.execute_reply.started": "2022-11-25T04:51:51.101087Z"
    },
    "tags": []
   },
   "outputs": [
    {
     "data": {
      "text/plain": [
       "str"
      ]
     },
     "execution_count": 8,
     "metadata": {},
     "output_type": "execute_result"
    }
   ],
   "source": [
    "type(df[\"review\"][0])"
   ]
  },
  {
   "cell_type": "markdown",
   "id": "9bef39be-9fab-47ee-a629-a4d5ae38f37c",
   "metadata": {},
   "source": [
    "## Remove HTML and punctuations (1.c.)"
   ]
  },
  {
   "cell_type": "code",
   "execution_count": 9,
   "id": "fe2bb41a-a1aa-4a8e-a3ff-3c21627e2b70",
   "metadata": {
    "execution": {
     "iopub.execute_input": "2022-11-25T04:51:51.116391Z",
     "iopub.status.busy": "2022-11-25T04:51:51.115858Z",
     "iopub.status.idle": "2022-11-25T04:51:57.132997Z",
     "shell.execute_reply": "2022-11-25T04:51:57.132213Z",
     "shell.execute_reply.started": "2022-11-25T04:51:51.116348Z"
    },
    "tags": []
   },
   "outputs": [],
   "source": [
    "def removeHTML(data):\n",
    "    data = re.sub(\"https?://\\w+\\.\\w+\\.\\w+\", \" \", data)\n",
    "    data = re.sub(r\"\\s+[a-zA-Z]\\s+\", ' ', data)\n",
    "    CLEANR = re.compile('<.*?>|&([a-z0-9]+|#[0-9]{1,6}|#x[0-9a-f]{1,6});') \n",
    "    return str(re.sub(CLEANR, '', data))\n",
    "df['remove_html'] = df.apply(lambda x: removeHTML(x['review_lower']), axis=1)"
   ]
  },
  {
   "cell_type": "code",
   "execution_count": 10,
   "id": "1619558c-3c26-486b-9ef5-06bac1c6fbb1",
   "metadata": {
    "execution": {
     "iopub.execute_input": "2022-11-25T04:51:57.134626Z",
     "iopub.status.busy": "2022-11-25T04:51:57.134233Z",
     "iopub.status.idle": "2022-11-25T04:51:57.172636Z",
     "shell.execute_reply": "2022-11-25T04:51:57.158685Z",
     "shell.execute_reply.started": "2022-11-25T04:51:57.134584Z"
    },
    "tags": []
   },
   "outputs": [
    {
     "data": {
      "text/html": [
       "<div>\n",
       "<style scoped>\n",
       "    .dataframe tbody tr th:only-of-type {\n",
       "        vertical-align: middle;\n",
       "    }\n",
       "\n",
       "    .dataframe tbody tr th {\n",
       "        vertical-align: top;\n",
       "    }\n",
       "\n",
       "    .dataframe thead th {\n",
       "        text-align: right;\n",
       "    }\n",
       "</style>\n",
       "<table border=\"1\" class=\"dataframe\">\n",
       "  <thead>\n",
       "    <tr style=\"text-align: right;\">\n",
       "      <th></th>\n",
       "      <th>review</th>\n",
       "      <th>sentiment</th>\n",
       "      <th>review_lower</th>\n",
       "      <th>remove_html</th>\n",
       "    </tr>\n",
       "  </thead>\n",
       "  <tbody>\n",
       "    <tr>\n",
       "      <th>0</th>\n",
       "      <td>One of the other reviewers has mentioned that ...</td>\n",
       "      <td>positive</td>\n",
       "      <td>one of the other reviewers has mentioned that ...</td>\n",
       "      <td>one of the other reviewers has mentioned that ...</td>\n",
       "    </tr>\n",
       "    <tr>\n",
       "      <th>1</th>\n",
       "      <td>A wonderful little production. &lt;br /&gt;&lt;br /&gt;The...</td>\n",
       "      <td>positive</td>\n",
       "      <td>a wonderful little production. &lt;br /&gt;&lt;br /&gt;the...</td>\n",
       "      <td>a wonderful little production. the filming tec...</td>\n",
       "    </tr>\n",
       "    <tr>\n",
       "      <th>2</th>\n",
       "      <td>I thought this was a wonderful way to spend ti...</td>\n",
       "      <td>positive</td>\n",
       "      <td>i thought this was a wonderful way to spend ti...</td>\n",
       "      <td>i thought this was wonderful way to spend time...</td>\n",
       "    </tr>\n",
       "    <tr>\n",
       "      <th>3</th>\n",
       "      <td>Basically there's a family where a little boy ...</td>\n",
       "      <td>negative</td>\n",
       "      <td>basically there's a family where a little boy ...</td>\n",
       "      <td>basically there's family where little boy (jak...</td>\n",
       "    </tr>\n",
       "    <tr>\n",
       "      <th>4</th>\n",
       "      <td>Petter Mattei's \"Love in the Time of Money\" is...</td>\n",
       "      <td>positive</td>\n",
       "      <td>petter mattei's \"love in the time of money\" is...</td>\n",
       "      <td>petter mattei's \"love in the time of money\" is...</td>\n",
       "    </tr>\n",
       "  </tbody>\n",
       "</table>\n",
       "</div>"
      ],
      "text/plain": [
       "                                              review sentiment  \\\n",
       "0  One of the other reviewers has mentioned that ...  positive   \n",
       "1  A wonderful little production. <br /><br />The...  positive   \n",
       "2  I thought this was a wonderful way to spend ti...  positive   \n",
       "3  Basically there's a family where a little boy ...  negative   \n",
       "4  Petter Mattei's \"Love in the Time of Money\" is...  positive   \n",
       "\n",
       "                                        review_lower  \\\n",
       "0  one of the other reviewers has mentioned that ...   \n",
       "1  a wonderful little production. <br /><br />the...   \n",
       "2  i thought this was a wonderful way to spend ti...   \n",
       "3  basically there's a family where a little boy ...   \n",
       "4  petter mattei's \"love in the time of money\" is...   \n",
       "\n",
       "                                         remove_html  \n",
       "0  one of the other reviewers has mentioned that ...  \n",
       "1  a wonderful little production. the filming tec...  \n",
       "2  i thought this was wonderful way to spend time...  \n",
       "3  basically there's family where little boy (jak...  \n",
       "4  petter mattei's \"love in the time of money\" is...  "
      ]
     },
     "execution_count": 10,
     "metadata": {},
     "output_type": "execute_result"
    }
   ],
   "source": [
    "df.head()"
   ]
  },
  {
   "cell_type": "code",
   "execution_count": 11,
   "id": "048bcea0-3c3a-477d-8dbf-20ed825b6c05",
   "metadata": {
    "execution": {
     "iopub.execute_input": "2022-11-25T04:51:57.185943Z",
     "iopub.status.busy": "2022-11-25T04:51:57.184654Z",
     "iopub.status.idle": "2022-11-25T04:51:59.715723Z",
     "shell.execute_reply": "2022-11-25T04:51:59.714734Z",
     "shell.execute_reply.started": "2022-11-25T04:51:57.185873Z"
    },
    "tags": []
   },
   "outputs": [],
   "source": [
    "def punc(data):\n",
    "    return str(data.translate(str.maketrans('', '', string.punctuation)))\n",
    "\n",
    "df[\"punc_removed\"] = df.apply(lambda x: punc(x['remove_html']), axis=1)"
   ]
  },
  {
   "cell_type": "code",
   "execution_count": 12,
   "id": "426cb2f0-4e0d-4e0b-83fc-caea440e739b",
   "metadata": {
    "execution": {
     "iopub.execute_input": "2022-11-25T04:51:59.717874Z",
     "iopub.status.busy": "2022-11-25T04:51:59.717391Z",
     "iopub.status.idle": "2022-11-25T04:51:59.735848Z",
     "shell.execute_reply": "2022-11-25T04:51:59.734705Z",
     "shell.execute_reply.started": "2022-11-25T04:51:59.717835Z"
    },
    "tags": []
   },
   "outputs": [
    {
     "data": {
      "text/html": [
       "<div>\n",
       "<style scoped>\n",
       "    .dataframe tbody tr th:only-of-type {\n",
       "        vertical-align: middle;\n",
       "    }\n",
       "\n",
       "    .dataframe tbody tr th {\n",
       "        vertical-align: top;\n",
       "    }\n",
       "\n",
       "    .dataframe thead th {\n",
       "        text-align: right;\n",
       "    }\n",
       "</style>\n",
       "<table border=\"1\" class=\"dataframe\">\n",
       "  <thead>\n",
       "    <tr style=\"text-align: right;\">\n",
       "      <th></th>\n",
       "      <th>review</th>\n",
       "      <th>sentiment</th>\n",
       "      <th>review_lower</th>\n",
       "      <th>remove_html</th>\n",
       "      <th>punc_removed</th>\n",
       "    </tr>\n",
       "  </thead>\n",
       "  <tbody>\n",
       "    <tr>\n",
       "      <th>0</th>\n",
       "      <td>One of the other reviewers has mentioned that ...</td>\n",
       "      <td>positive</td>\n",
       "      <td>one of the other reviewers has mentioned that ...</td>\n",
       "      <td>one of the other reviewers has mentioned that ...</td>\n",
       "      <td>one of the other reviewers has mentioned that ...</td>\n",
       "    </tr>\n",
       "    <tr>\n",
       "      <th>1</th>\n",
       "      <td>A wonderful little production. &lt;br /&gt;&lt;br /&gt;The...</td>\n",
       "      <td>positive</td>\n",
       "      <td>a wonderful little production. &lt;br /&gt;&lt;br /&gt;the...</td>\n",
       "      <td>a wonderful little production. the filming tec...</td>\n",
       "      <td>a wonderful little production the filming tech...</td>\n",
       "    </tr>\n",
       "    <tr>\n",
       "      <th>2</th>\n",
       "      <td>I thought this was a wonderful way to spend ti...</td>\n",
       "      <td>positive</td>\n",
       "      <td>i thought this was a wonderful way to spend ti...</td>\n",
       "      <td>i thought this was wonderful way to spend time...</td>\n",
       "      <td>i thought this was wonderful way to spend time...</td>\n",
       "    </tr>\n",
       "    <tr>\n",
       "      <th>3</th>\n",
       "      <td>Basically there's a family where a little boy ...</td>\n",
       "      <td>negative</td>\n",
       "      <td>basically there's a family where a little boy ...</td>\n",
       "      <td>basically there's family where little boy (jak...</td>\n",
       "      <td>basically theres family where little boy jake ...</td>\n",
       "    </tr>\n",
       "    <tr>\n",
       "      <th>4</th>\n",
       "      <td>Petter Mattei's \"Love in the Time of Money\" is...</td>\n",
       "      <td>positive</td>\n",
       "      <td>petter mattei's \"love in the time of money\" is...</td>\n",
       "      <td>petter mattei's \"love in the time of money\" is...</td>\n",
       "      <td>petter matteis love in the time of money is vi...</td>\n",
       "    </tr>\n",
       "  </tbody>\n",
       "</table>\n",
       "</div>"
      ],
      "text/plain": [
       "                                              review sentiment  \\\n",
       "0  One of the other reviewers has mentioned that ...  positive   \n",
       "1  A wonderful little production. <br /><br />The...  positive   \n",
       "2  I thought this was a wonderful way to spend ti...  positive   \n",
       "3  Basically there's a family where a little boy ...  negative   \n",
       "4  Petter Mattei's \"Love in the Time of Money\" is...  positive   \n",
       "\n",
       "                                        review_lower  \\\n",
       "0  one of the other reviewers has mentioned that ...   \n",
       "1  a wonderful little production. <br /><br />the...   \n",
       "2  i thought this was a wonderful way to spend ti...   \n",
       "3  basically there's a family where a little boy ...   \n",
       "4  petter mattei's \"love in the time of money\" is...   \n",
       "\n",
       "                                         remove_html  \\\n",
       "0  one of the other reviewers has mentioned that ...   \n",
       "1  a wonderful little production. the filming tec...   \n",
       "2  i thought this was wonderful way to spend time...   \n",
       "3  basically there's family where little boy (jak...   \n",
       "4  petter mattei's \"love in the time of money\" is...   \n",
       "\n",
       "                                        punc_removed  \n",
       "0  one of the other reviewers has mentioned that ...  \n",
       "1  a wonderful little production the filming tech...  \n",
       "2  i thought this was wonderful way to spend time...  \n",
       "3  basically theres family where little boy jake ...  \n",
       "4  petter matteis love in the time of money is vi...  "
      ]
     },
     "execution_count": 12,
     "metadata": {},
     "output_type": "execute_result"
    }
   ],
   "source": [
    "df.head()"
   ]
  },
  {
   "cell_type": "markdown",
   "id": "828a0892-c016-41b8-baf6-3b6ae5c55a7b",
   "metadata": {
    "execution": {
     "iopub.execute_input": "2022-11-21T23:48:03.864333Z",
     "iopub.status.busy": "2022-11-21T23:48:03.864065Z",
     "iopub.status.idle": "2022-11-21T23:48:03.867659Z",
     "shell.execute_reply": "2022-11-21T23:48:03.866755Z",
     "shell.execute_reply.started": "2022-11-21T23:48:03.864308Z"
    }
   },
   "source": [
    "## Tokenize reviews (1.a.)"
   ]
  },
  {
   "cell_type": "code",
   "execution_count": 13,
   "id": "a0666549-a59f-4d31-bde8-8108f7f0be5b",
   "metadata": {
    "execution": {
     "iopub.execute_input": "2022-11-25T04:51:59.739235Z",
     "iopub.status.busy": "2022-11-25T04:51:59.738105Z",
     "iopub.status.idle": "2022-11-25T04:52:55.084327Z",
     "shell.execute_reply": "2022-11-25T04:52:55.078356Z",
     "shell.execute_reply.started": "2022-11-25T04:51:59.739111Z"
    },
    "tags": []
   },
   "outputs": [
    {
     "data": {
      "text/html": [
       "<div>\n",
       "<style scoped>\n",
       "    .dataframe tbody tr th:only-of-type {\n",
       "        vertical-align: middle;\n",
       "    }\n",
       "\n",
       "    .dataframe tbody tr th {\n",
       "        vertical-align: top;\n",
       "    }\n",
       "\n",
       "    .dataframe thead th {\n",
       "        text-align: right;\n",
       "    }\n",
       "</style>\n",
       "<table border=\"1\" class=\"dataframe\">\n",
       "  <thead>\n",
       "    <tr style=\"text-align: right;\">\n",
       "      <th></th>\n",
       "      <th>review</th>\n",
       "      <th>sentiment</th>\n",
       "      <th>review_lower</th>\n",
       "      <th>remove_html</th>\n",
       "      <th>punc_removed</th>\n",
       "      <th>tokenized</th>\n",
       "    </tr>\n",
       "  </thead>\n",
       "  <tbody>\n",
       "    <tr>\n",
       "      <th>0</th>\n",
       "      <td>One of the other reviewers has mentioned that ...</td>\n",
       "      <td>positive</td>\n",
       "      <td>one of the other reviewers has mentioned that ...</td>\n",
       "      <td>one of the other reviewers has mentioned that ...</td>\n",
       "      <td>one of the other reviewers has mentioned that ...</td>\n",
       "      <td>[one, of, the, other, reviewers, has, mentione...</td>\n",
       "    </tr>\n",
       "    <tr>\n",
       "      <th>1</th>\n",
       "      <td>A wonderful little production. &lt;br /&gt;&lt;br /&gt;The...</td>\n",
       "      <td>positive</td>\n",
       "      <td>a wonderful little production. &lt;br /&gt;&lt;br /&gt;the...</td>\n",
       "      <td>a wonderful little production. the filming tec...</td>\n",
       "      <td>a wonderful little production the filming tech...</td>\n",
       "      <td>[a, wonderful, little, production, the, filmin...</td>\n",
       "    </tr>\n",
       "    <tr>\n",
       "      <th>2</th>\n",
       "      <td>I thought this was a wonderful way to spend ti...</td>\n",
       "      <td>positive</td>\n",
       "      <td>i thought this was a wonderful way to spend ti...</td>\n",
       "      <td>i thought this was wonderful way to spend time...</td>\n",
       "      <td>i thought this was wonderful way to spend time...</td>\n",
       "      <td>[i, thought, this, was, wonderful, way, to, sp...</td>\n",
       "    </tr>\n",
       "    <tr>\n",
       "      <th>3</th>\n",
       "      <td>Basically there's a family where a little boy ...</td>\n",
       "      <td>negative</td>\n",
       "      <td>basically there's a family where a little boy ...</td>\n",
       "      <td>basically there's family where little boy (jak...</td>\n",
       "      <td>basically theres family where little boy jake ...</td>\n",
       "      <td>[basically, theres, family, where, little, boy...</td>\n",
       "    </tr>\n",
       "    <tr>\n",
       "      <th>4</th>\n",
       "      <td>Petter Mattei's \"Love in the Time of Money\" is...</td>\n",
       "      <td>positive</td>\n",
       "      <td>petter mattei's \"love in the time of money\" is...</td>\n",
       "      <td>petter mattei's \"love in the time of money\" is...</td>\n",
       "      <td>petter matteis love in the time of money is vi...</td>\n",
       "      <td>[petter, matteis, love, in, the, time, of, mon...</td>\n",
       "    </tr>\n",
       "  </tbody>\n",
       "</table>\n",
       "</div>"
      ],
      "text/plain": [
       "                                              review sentiment  \\\n",
       "0  One of the other reviewers has mentioned that ...  positive   \n",
       "1  A wonderful little production. <br /><br />The...  positive   \n",
       "2  I thought this was a wonderful way to spend ti...  positive   \n",
       "3  Basically there's a family where a little boy ...  negative   \n",
       "4  Petter Mattei's \"Love in the Time of Money\" is...  positive   \n",
       "\n",
       "                                        review_lower  \\\n",
       "0  one of the other reviewers has mentioned that ...   \n",
       "1  a wonderful little production. <br /><br />the...   \n",
       "2  i thought this was a wonderful way to spend ti...   \n",
       "3  basically there's a family where a little boy ...   \n",
       "4  petter mattei's \"love in the time of money\" is...   \n",
       "\n",
       "                                         remove_html  \\\n",
       "0  one of the other reviewers has mentioned that ...   \n",
       "1  a wonderful little production. the filming tec...   \n",
       "2  i thought this was wonderful way to spend time...   \n",
       "3  basically there's family where little boy (jak...   \n",
       "4  petter mattei's \"love in the time of money\" is...   \n",
       "\n",
       "                                        punc_removed  \\\n",
       "0  one of the other reviewers has mentioned that ...   \n",
       "1  a wonderful little production the filming tech...   \n",
       "2  i thought this was wonderful way to spend time...   \n",
       "3  basically theres family where little boy jake ...   \n",
       "4  petter matteis love in the time of money is vi...   \n",
       "\n",
       "                                           tokenized  \n",
       "0  [one, of, the, other, reviewers, has, mentione...  \n",
       "1  [a, wonderful, little, production, the, filmin...  \n",
       "2  [i, thought, this, was, wonderful, way, to, sp...  \n",
       "3  [basically, theres, family, where, little, boy...  \n",
       "4  [petter, matteis, love, in, the, time, of, mon...  "
      ]
     },
     "execution_count": 13,
     "metadata": {},
     "output_type": "execute_result"
    }
   ],
   "source": [
    "def tokenize(data):\n",
    "    return nltk.word_tokenize(data)\n",
    "\n",
    "df[\"tokenized\"] = df.apply(lambda x: tokenize(x['punc_removed']), axis=1)\n",
    "df.head()"
   ]
  },
  {
   "cell_type": "markdown",
   "id": "ede40d97-bdc6-43b1-918c-d75e43e43044",
   "metadata": {},
   "source": [
    "## Remove stop words (1.b.)"
   ]
  },
  {
   "cell_type": "code",
   "execution_count": 14,
   "id": "2ed3debc-1269-468a-9160-5dec46f72278",
   "metadata": {
    "execution": {
     "iopub.execute_input": "2022-11-25T04:52:55.087267Z",
     "iopub.status.busy": "2022-11-25T04:52:55.086224Z",
     "iopub.status.idle": "2022-11-25T04:53:12.088575Z",
     "shell.execute_reply": "2022-11-25T04:53:12.086819Z",
     "shell.execute_reply.started": "2022-11-25T04:52:55.087204Z"
    },
    "tags": []
   },
   "outputs": [
    {
     "data": {
      "text/html": [
       "<div>\n",
       "<style scoped>\n",
       "    .dataframe tbody tr th:only-of-type {\n",
       "        vertical-align: middle;\n",
       "    }\n",
       "\n",
       "    .dataframe tbody tr th {\n",
       "        vertical-align: top;\n",
       "    }\n",
       "\n",
       "    .dataframe thead th {\n",
       "        text-align: right;\n",
       "    }\n",
       "</style>\n",
       "<table border=\"1\" class=\"dataframe\">\n",
       "  <thead>\n",
       "    <tr style=\"text-align: right;\">\n",
       "      <th></th>\n",
       "      <th>review</th>\n",
       "      <th>sentiment</th>\n",
       "      <th>review_lower</th>\n",
       "      <th>remove_html</th>\n",
       "      <th>punc_removed</th>\n",
       "      <th>tokenized</th>\n",
       "      <th>remove_stop_words</th>\n",
       "    </tr>\n",
       "  </thead>\n",
       "  <tbody>\n",
       "    <tr>\n",
       "      <th>0</th>\n",
       "      <td>One of the other reviewers has mentioned that ...</td>\n",
       "      <td>positive</td>\n",
       "      <td>one of the other reviewers has mentioned that ...</td>\n",
       "      <td>one of the other reviewers has mentioned that ...</td>\n",
       "      <td>one of the other reviewers has mentioned that ...</td>\n",
       "      <td>[one, of, the, other, reviewers, has, mentione...</td>\n",
       "      <td>[one, reviewers, mentioned, watching, 1, oz, e...</td>\n",
       "    </tr>\n",
       "    <tr>\n",
       "      <th>1</th>\n",
       "      <td>A wonderful little production. &lt;br /&gt;&lt;br /&gt;The...</td>\n",
       "      <td>positive</td>\n",
       "      <td>a wonderful little production. &lt;br /&gt;&lt;br /&gt;the...</td>\n",
       "      <td>a wonderful little production. the filming tec...</td>\n",
       "      <td>a wonderful little production the filming tech...</td>\n",
       "      <td>[a, wonderful, little, production, the, filmin...</td>\n",
       "      <td>[wonderful, little, production, filming, techn...</td>\n",
       "    </tr>\n",
       "    <tr>\n",
       "      <th>2</th>\n",
       "      <td>I thought this was a wonderful way to spend ti...</td>\n",
       "      <td>positive</td>\n",
       "      <td>i thought this was a wonderful way to spend ti...</td>\n",
       "      <td>i thought this was wonderful way to spend time...</td>\n",
       "      <td>i thought this was wonderful way to spend time...</td>\n",
       "      <td>[i, thought, this, was, wonderful, way, to, sp...</td>\n",
       "      <td>[thought, wonderful, way, spend, time, hot, su...</td>\n",
       "    </tr>\n",
       "    <tr>\n",
       "      <th>3</th>\n",
       "      <td>Basically there's a family where a little boy ...</td>\n",
       "      <td>negative</td>\n",
       "      <td>basically there's a family where a little boy ...</td>\n",
       "      <td>basically there's family where little boy (jak...</td>\n",
       "      <td>basically theres family where little boy jake ...</td>\n",
       "      <td>[basically, theres, family, where, little, boy...</td>\n",
       "      <td>[basically, theres, family, little, boy, jake,...</td>\n",
       "    </tr>\n",
       "    <tr>\n",
       "      <th>4</th>\n",
       "      <td>Petter Mattei's \"Love in the Time of Money\" is...</td>\n",
       "      <td>positive</td>\n",
       "      <td>petter mattei's \"love in the time of money\" is...</td>\n",
       "      <td>petter mattei's \"love in the time of money\" is...</td>\n",
       "      <td>petter matteis love in the time of money is vi...</td>\n",
       "      <td>[petter, matteis, love, in, the, time, of, mon...</td>\n",
       "      <td>[petter, matteis, love, time, money, visually,...</td>\n",
       "    </tr>\n",
       "  </tbody>\n",
       "</table>\n",
       "</div>"
      ],
      "text/plain": [
       "                                              review sentiment  \\\n",
       "0  One of the other reviewers has mentioned that ...  positive   \n",
       "1  A wonderful little production. <br /><br />The...  positive   \n",
       "2  I thought this was a wonderful way to spend ti...  positive   \n",
       "3  Basically there's a family where a little boy ...  negative   \n",
       "4  Petter Mattei's \"Love in the Time of Money\" is...  positive   \n",
       "\n",
       "                                        review_lower  \\\n",
       "0  one of the other reviewers has mentioned that ...   \n",
       "1  a wonderful little production. <br /><br />the...   \n",
       "2  i thought this was a wonderful way to spend ti...   \n",
       "3  basically there's a family where a little boy ...   \n",
       "4  petter mattei's \"love in the time of money\" is...   \n",
       "\n",
       "                                         remove_html  \\\n",
       "0  one of the other reviewers has mentioned that ...   \n",
       "1  a wonderful little production. the filming tec...   \n",
       "2  i thought this was wonderful way to spend time...   \n",
       "3  basically there's family where little boy (jak...   \n",
       "4  petter mattei's \"love in the time of money\" is...   \n",
       "\n",
       "                                        punc_removed  \\\n",
       "0  one of the other reviewers has mentioned that ...   \n",
       "1  a wonderful little production the filming tech...   \n",
       "2  i thought this was wonderful way to spend time...   \n",
       "3  basically theres family where little boy jake ...   \n",
       "4  petter matteis love in the time of money is vi...   \n",
       "\n",
       "                                           tokenized  \\\n",
       "0  [one, of, the, other, reviewers, has, mentione...   \n",
       "1  [a, wonderful, little, production, the, filmin...   \n",
       "2  [i, thought, this, was, wonderful, way, to, sp...   \n",
       "3  [basically, theres, family, where, little, boy...   \n",
       "4  [petter, matteis, love, in, the, time, of, mon...   \n",
       "\n",
       "                                   remove_stop_words  \n",
       "0  [one, reviewers, mentioned, watching, 1, oz, e...  \n",
       "1  [wonderful, little, production, filming, techn...  \n",
       "2  [thought, wonderful, way, spend, time, hot, su...  \n",
       "3  [basically, theres, family, little, boy, jake,...  \n",
       "4  [petter, matteis, love, time, money, visually,...  "
      ]
     },
     "execution_count": 14,
     "metadata": {},
     "output_type": "execute_result"
    }
   ],
   "source": [
    "def removeStopWords(data):\n",
    "    stop_words = set(stopwords.words('english'))\n",
    "    return [w for w in data if not w in stop_words]\n",
    "\n",
    "df[\"remove_stop_words\"] = df.apply(lambda x: removeStopWords(x['tokenized']), axis=1)\n",
    "df.head()   "
   ]
  },
  {
   "cell_type": "markdown",
   "id": "274fae99-b344-4780-a81c-791af9fda3e2",
   "metadata": {},
   "source": [
    "## Apply stemming and lemmatization (1.e.)"
   ]
  },
  {
   "cell_type": "code",
   "execution_count": 15,
   "id": "b91871b7-adb9-44ea-986d-4c7648aaba9d",
   "metadata": {
    "execution": {
     "iopub.execute_input": "2022-11-25T04:53:12.092112Z",
     "iopub.status.busy": "2022-11-25T04:53:12.091155Z",
     "iopub.status.idle": "2022-11-25T04:56:45.216502Z",
     "shell.execute_reply": "2022-11-25T04:56:45.215137Z",
     "shell.execute_reply.started": "2022-11-25T04:53:12.092067Z"
    },
    "tags": []
   },
   "outputs": [],
   "source": [
    "def stemming(data):\n",
    "    porter_stemmer = PorterStemmer()\n",
    "    return [porter_stemmer.stem(w) for w in data]\n",
    "df[\"stemmed\"] = df.apply(lambda x: stemming(x['remove_stop_words']), axis=1)"
   ]
  },
  {
   "cell_type": "code",
   "execution_count": 16,
   "id": "0c42059d-eb50-47ff-a452-091fcb673bec",
   "metadata": {
    "execution": {
     "iopub.execute_input": "2022-11-25T04:56:45.218554Z",
     "iopub.status.busy": "2022-11-25T04:56:45.218112Z",
     "iopub.status.idle": "2022-11-25T04:56:45.270012Z",
     "shell.execute_reply": "2022-11-25T04:56:45.268878Z",
     "shell.execute_reply.started": "2022-11-25T04:56:45.218486Z"
    },
    "tags": []
   },
   "outputs": [
    {
     "data": {
      "text/html": [
       "<div>\n",
       "<style scoped>\n",
       "    .dataframe tbody tr th:only-of-type {\n",
       "        vertical-align: middle;\n",
       "    }\n",
       "\n",
       "    .dataframe tbody tr th {\n",
       "        vertical-align: top;\n",
       "    }\n",
       "\n",
       "    .dataframe thead th {\n",
       "        text-align: right;\n",
       "    }\n",
       "</style>\n",
       "<table border=\"1\" class=\"dataframe\">\n",
       "  <thead>\n",
       "    <tr style=\"text-align: right;\">\n",
       "      <th></th>\n",
       "      <th>review</th>\n",
       "      <th>sentiment</th>\n",
       "      <th>review_lower</th>\n",
       "      <th>remove_html</th>\n",
       "      <th>punc_removed</th>\n",
       "      <th>tokenized</th>\n",
       "      <th>remove_stop_words</th>\n",
       "      <th>stemmed</th>\n",
       "    </tr>\n",
       "  </thead>\n",
       "  <tbody>\n",
       "    <tr>\n",
       "      <th>0</th>\n",
       "      <td>One of the other reviewers has mentioned that ...</td>\n",
       "      <td>positive</td>\n",
       "      <td>one of the other reviewers has mentioned that ...</td>\n",
       "      <td>one of the other reviewers has mentioned that ...</td>\n",
       "      <td>one of the other reviewers has mentioned that ...</td>\n",
       "      <td>[one, of, the, other, reviewers, has, mentione...</td>\n",
       "      <td>[one, reviewers, mentioned, watching, 1, oz, e...</td>\n",
       "      <td>[one, review, mention, watch, 1, oz, episod, y...</td>\n",
       "    </tr>\n",
       "    <tr>\n",
       "      <th>1</th>\n",
       "      <td>A wonderful little production. &lt;br /&gt;&lt;br /&gt;The...</td>\n",
       "      <td>positive</td>\n",
       "      <td>a wonderful little production. &lt;br /&gt;&lt;br /&gt;the...</td>\n",
       "      <td>a wonderful little production. the filming tec...</td>\n",
       "      <td>a wonderful little production the filming tech...</td>\n",
       "      <td>[a, wonderful, little, production, the, filmin...</td>\n",
       "      <td>[wonderful, little, production, filming, techn...</td>\n",
       "      <td>[wonder, littl, product, film, techniqu, unass...</td>\n",
       "    </tr>\n",
       "    <tr>\n",
       "      <th>2</th>\n",
       "      <td>I thought this was a wonderful way to spend ti...</td>\n",
       "      <td>positive</td>\n",
       "      <td>i thought this was a wonderful way to spend ti...</td>\n",
       "      <td>i thought this was wonderful way to spend time...</td>\n",
       "      <td>i thought this was wonderful way to spend time...</td>\n",
       "      <td>[i, thought, this, was, wonderful, way, to, sp...</td>\n",
       "      <td>[thought, wonderful, way, spend, time, hot, su...</td>\n",
       "      <td>[thought, wonder, way, spend, time, hot, summe...</td>\n",
       "    </tr>\n",
       "    <tr>\n",
       "      <th>3</th>\n",
       "      <td>Basically there's a family where a little boy ...</td>\n",
       "      <td>negative</td>\n",
       "      <td>basically there's a family where a little boy ...</td>\n",
       "      <td>basically there's family where little boy (jak...</td>\n",
       "      <td>basically theres family where little boy jake ...</td>\n",
       "      <td>[basically, theres, family, where, little, boy...</td>\n",
       "      <td>[basically, theres, family, little, boy, jake,...</td>\n",
       "      <td>[basic, there, famili, littl, boy, jake, think...</td>\n",
       "    </tr>\n",
       "    <tr>\n",
       "      <th>4</th>\n",
       "      <td>Petter Mattei's \"Love in the Time of Money\" is...</td>\n",
       "      <td>positive</td>\n",
       "      <td>petter mattei's \"love in the time of money\" is...</td>\n",
       "      <td>petter mattei's \"love in the time of money\" is...</td>\n",
       "      <td>petter matteis love in the time of money is vi...</td>\n",
       "      <td>[petter, matteis, love, in, the, time, of, mon...</td>\n",
       "      <td>[petter, matteis, love, time, money, visually,...</td>\n",
       "      <td>[petter, mattei, love, time, money, visual, st...</td>\n",
       "    </tr>\n",
       "  </tbody>\n",
       "</table>\n",
       "</div>"
      ],
      "text/plain": [
       "                                              review sentiment  \\\n",
       "0  One of the other reviewers has mentioned that ...  positive   \n",
       "1  A wonderful little production. <br /><br />The...  positive   \n",
       "2  I thought this was a wonderful way to spend ti...  positive   \n",
       "3  Basically there's a family where a little boy ...  negative   \n",
       "4  Petter Mattei's \"Love in the Time of Money\" is...  positive   \n",
       "\n",
       "                                        review_lower  \\\n",
       "0  one of the other reviewers has mentioned that ...   \n",
       "1  a wonderful little production. <br /><br />the...   \n",
       "2  i thought this was a wonderful way to spend ti...   \n",
       "3  basically there's a family where a little boy ...   \n",
       "4  petter mattei's \"love in the time of money\" is...   \n",
       "\n",
       "                                         remove_html  \\\n",
       "0  one of the other reviewers has mentioned that ...   \n",
       "1  a wonderful little production. the filming tec...   \n",
       "2  i thought this was wonderful way to spend time...   \n",
       "3  basically there's family where little boy (jak...   \n",
       "4  petter mattei's \"love in the time of money\" is...   \n",
       "\n",
       "                                        punc_removed  \\\n",
       "0  one of the other reviewers has mentioned that ...   \n",
       "1  a wonderful little production the filming tech...   \n",
       "2  i thought this was wonderful way to spend time...   \n",
       "3  basically theres family where little boy jake ...   \n",
       "4  petter matteis love in the time of money is vi...   \n",
       "\n",
       "                                           tokenized  \\\n",
       "0  [one, of, the, other, reviewers, has, mentione...   \n",
       "1  [a, wonderful, little, production, the, filmin...   \n",
       "2  [i, thought, this, was, wonderful, way, to, sp...   \n",
       "3  [basically, theres, family, where, little, boy...   \n",
       "4  [petter, matteis, love, in, the, time, of, mon...   \n",
       "\n",
       "                                   remove_stop_words  \\\n",
       "0  [one, reviewers, mentioned, watching, 1, oz, e...   \n",
       "1  [wonderful, little, production, filming, techn...   \n",
       "2  [thought, wonderful, way, spend, time, hot, su...   \n",
       "3  [basically, theres, family, little, boy, jake,...   \n",
       "4  [petter, matteis, love, time, money, visually,...   \n",
       "\n",
       "                                             stemmed  \n",
       "0  [one, review, mention, watch, 1, oz, episod, y...  \n",
       "1  [wonder, littl, product, film, techniqu, unass...  \n",
       "2  [thought, wonder, way, spend, time, hot, summe...  \n",
       "3  [basic, there, famili, littl, boy, jake, think...  \n",
       "4  [petter, mattei, love, time, money, visual, st...  "
      ]
     },
     "execution_count": 16,
     "metadata": {},
     "output_type": "execute_result"
    }
   ],
   "source": [
    "df.head()"
   ]
  },
  {
   "cell_type": "code",
   "execution_count": 17,
   "id": "239cd0fe-1394-445c-a6ce-2fece834a98d",
   "metadata": {
    "execution": {
     "iopub.execute_input": "2022-11-25T04:56:45.274492Z",
     "iopub.status.busy": "2022-11-25T04:56:45.273870Z",
     "iopub.status.idle": "2022-11-25T04:57:13.650368Z",
     "shell.execute_reply": "2022-11-25T04:57:13.649729Z",
     "shell.execute_reply.started": "2022-11-25T04:56:45.274452Z"
    },
    "tags": []
   },
   "outputs": [],
   "source": [
    "def lemmatizing(data):\n",
    "    wordnet_lemmatizer = WordNetLemmatizer()\n",
    "    return [wordnet_lemmatizer.lemmatize(w) for w in data]\n",
    "df[\"lemmatized\"] = df.apply(lambda x: lemmatizing(x['stemmed']), axis=1)"
   ]
  },
  {
   "cell_type": "code",
   "execution_count": 18,
   "id": "81a67101-83e6-48de-a8c2-003d56dbd0a7",
   "metadata": {
    "execution": {
     "iopub.execute_input": "2022-11-25T04:57:13.652010Z",
     "iopub.status.busy": "2022-11-25T04:57:13.651642Z",
     "iopub.status.idle": "2022-11-25T04:57:13.691514Z",
     "shell.execute_reply": "2022-11-25T04:57:13.687054Z",
     "shell.execute_reply.started": "2022-11-25T04:57:13.651956Z"
    },
    "tags": []
   },
   "outputs": [
    {
     "data": {
      "text/html": [
       "<div>\n",
       "<style scoped>\n",
       "    .dataframe tbody tr th:only-of-type {\n",
       "        vertical-align: middle;\n",
       "    }\n",
       "\n",
       "    .dataframe tbody tr th {\n",
       "        vertical-align: top;\n",
       "    }\n",
       "\n",
       "    .dataframe thead th {\n",
       "        text-align: right;\n",
       "    }\n",
       "</style>\n",
       "<table border=\"1\" class=\"dataframe\">\n",
       "  <thead>\n",
       "    <tr style=\"text-align: right;\">\n",
       "      <th></th>\n",
       "      <th>review</th>\n",
       "      <th>sentiment</th>\n",
       "      <th>review_lower</th>\n",
       "      <th>remove_html</th>\n",
       "      <th>punc_removed</th>\n",
       "      <th>tokenized</th>\n",
       "      <th>remove_stop_words</th>\n",
       "      <th>stemmed</th>\n",
       "      <th>lemmatized</th>\n",
       "    </tr>\n",
       "  </thead>\n",
       "  <tbody>\n",
       "    <tr>\n",
       "      <th>0</th>\n",
       "      <td>One of the other reviewers has mentioned that ...</td>\n",
       "      <td>positive</td>\n",
       "      <td>one of the other reviewers has mentioned that ...</td>\n",
       "      <td>one of the other reviewers has mentioned that ...</td>\n",
       "      <td>one of the other reviewers has mentioned that ...</td>\n",
       "      <td>[one, of, the, other, reviewers, has, mentione...</td>\n",
       "      <td>[one, reviewers, mentioned, watching, 1, oz, e...</td>\n",
       "      <td>[one, review, mention, watch, 1, oz, episod, y...</td>\n",
       "      <td>[one, review, mention, watch, 1, oz, episod, y...</td>\n",
       "    </tr>\n",
       "    <tr>\n",
       "      <th>1</th>\n",
       "      <td>A wonderful little production. &lt;br /&gt;&lt;br /&gt;The...</td>\n",
       "      <td>positive</td>\n",
       "      <td>a wonderful little production. &lt;br /&gt;&lt;br /&gt;the...</td>\n",
       "      <td>a wonderful little production. the filming tec...</td>\n",
       "      <td>a wonderful little production the filming tech...</td>\n",
       "      <td>[a, wonderful, little, production, the, filmin...</td>\n",
       "      <td>[wonderful, little, production, filming, techn...</td>\n",
       "      <td>[wonder, littl, product, film, techniqu, unass...</td>\n",
       "      <td>[wonder, littl, product, film, techniqu, unass...</td>\n",
       "    </tr>\n",
       "    <tr>\n",
       "      <th>2</th>\n",
       "      <td>I thought this was a wonderful way to spend ti...</td>\n",
       "      <td>positive</td>\n",
       "      <td>i thought this was a wonderful way to spend ti...</td>\n",
       "      <td>i thought this was wonderful way to spend time...</td>\n",
       "      <td>i thought this was wonderful way to spend time...</td>\n",
       "      <td>[i, thought, this, was, wonderful, way, to, sp...</td>\n",
       "      <td>[thought, wonderful, way, spend, time, hot, su...</td>\n",
       "      <td>[thought, wonder, way, spend, time, hot, summe...</td>\n",
       "      <td>[thought, wonder, way, spend, time, hot, summe...</td>\n",
       "    </tr>\n",
       "    <tr>\n",
       "      <th>3</th>\n",
       "      <td>Basically there's a family where a little boy ...</td>\n",
       "      <td>negative</td>\n",
       "      <td>basically there's a family where a little boy ...</td>\n",
       "      <td>basically there's family where little boy (jak...</td>\n",
       "      <td>basically theres family where little boy jake ...</td>\n",
       "      <td>[basically, theres, family, where, little, boy...</td>\n",
       "      <td>[basically, theres, family, little, boy, jake,...</td>\n",
       "      <td>[basic, there, famili, littl, boy, jake, think...</td>\n",
       "      <td>[basic, there, famili, littl, boy, jake, think...</td>\n",
       "    </tr>\n",
       "    <tr>\n",
       "      <th>4</th>\n",
       "      <td>Petter Mattei's \"Love in the Time of Money\" is...</td>\n",
       "      <td>positive</td>\n",
       "      <td>petter mattei's \"love in the time of money\" is...</td>\n",
       "      <td>petter mattei's \"love in the time of money\" is...</td>\n",
       "      <td>petter matteis love in the time of money is vi...</td>\n",
       "      <td>[petter, matteis, love, in, the, time, of, mon...</td>\n",
       "      <td>[petter, matteis, love, time, money, visually,...</td>\n",
       "      <td>[petter, mattei, love, time, money, visual, st...</td>\n",
       "      <td>[petter, mattei, love, time, money, visual, st...</td>\n",
       "    </tr>\n",
       "  </tbody>\n",
       "</table>\n",
       "</div>"
      ],
      "text/plain": [
       "                                              review sentiment  \\\n",
       "0  One of the other reviewers has mentioned that ...  positive   \n",
       "1  A wonderful little production. <br /><br />The...  positive   \n",
       "2  I thought this was a wonderful way to spend ti...  positive   \n",
       "3  Basically there's a family where a little boy ...  negative   \n",
       "4  Petter Mattei's \"Love in the Time of Money\" is...  positive   \n",
       "\n",
       "                                        review_lower  \\\n",
       "0  one of the other reviewers has mentioned that ...   \n",
       "1  a wonderful little production. <br /><br />the...   \n",
       "2  i thought this was a wonderful way to spend ti...   \n",
       "3  basically there's a family where a little boy ...   \n",
       "4  petter mattei's \"love in the time of money\" is...   \n",
       "\n",
       "                                         remove_html  \\\n",
       "0  one of the other reviewers has mentioned that ...   \n",
       "1  a wonderful little production. the filming tec...   \n",
       "2  i thought this was wonderful way to spend time...   \n",
       "3  basically there's family where little boy (jak...   \n",
       "4  petter mattei's \"love in the time of money\" is...   \n",
       "\n",
       "                                        punc_removed  \\\n",
       "0  one of the other reviewers has mentioned that ...   \n",
       "1  a wonderful little production the filming tech...   \n",
       "2  i thought this was wonderful way to spend time...   \n",
       "3  basically theres family where little boy jake ...   \n",
       "4  petter matteis love in the time of money is vi...   \n",
       "\n",
       "                                           tokenized  \\\n",
       "0  [one, of, the, other, reviewers, has, mentione...   \n",
       "1  [a, wonderful, little, production, the, filmin...   \n",
       "2  [i, thought, this, was, wonderful, way, to, sp...   \n",
       "3  [basically, theres, family, where, little, boy...   \n",
       "4  [petter, matteis, love, in, the, time, of, mon...   \n",
       "\n",
       "                                   remove_stop_words  \\\n",
       "0  [one, reviewers, mentioned, watching, 1, oz, e...   \n",
       "1  [wonderful, little, production, filming, techn...   \n",
       "2  [thought, wonderful, way, spend, time, hot, su...   \n",
       "3  [basically, theres, family, little, boy, jake,...   \n",
       "4  [petter, matteis, love, time, money, visually,...   \n",
       "\n",
       "                                             stemmed  \\\n",
       "0  [one, review, mention, watch, 1, oz, episod, y...   \n",
       "1  [wonder, littl, product, film, techniqu, unass...   \n",
       "2  [thought, wonder, way, spend, time, hot, summe...   \n",
       "3  [basic, there, famili, littl, boy, jake, think...   \n",
       "4  [petter, mattei, love, time, money, visual, st...   \n",
       "\n",
       "                                          lemmatized  \n",
       "0  [one, review, mention, watch, 1, oz, episod, y...  \n",
       "1  [wonder, littl, product, film, techniqu, unass...  \n",
       "2  [thought, wonder, way, spend, time, hot, summe...  \n",
       "3  [basic, there, famili, littl, boy, jake, think...  \n",
       "4  [petter, mattei, love, time, money, visual, st...  "
      ]
     },
     "execution_count": 18,
     "metadata": {},
     "output_type": "execute_result"
    }
   ],
   "source": [
    "df.head()"
   ]
  },
  {
   "cell_type": "markdown",
   "id": "7fe7f489-e37b-41c0-82d5-403b59f98910",
   "metadata": {},
   "source": [
    "## TFIDF+ SVM (2.a.)"
   ]
  },
  {
   "cell_type": "markdown",
   "id": "2e44085c-6931-4f5f-bee8-49b890428aad",
   "metadata": {
    "execution": {
     "iopub.execute_input": "2022-11-21T23:33:41.381765Z",
     "iopub.status.busy": "2022-11-21T23:33:41.380233Z",
     "iopub.status.idle": "2022-11-21T23:33:41.390272Z",
     "shell.execute_reply": "2022-11-21T23:33:41.389126Z",
     "shell.execute_reply.started": "2022-11-21T23:33:41.381707Z"
    },
    "tags": []
   },
   "source": [
    "#### Prepare data - Detokenize review column"
   ]
  },
  {
   "cell_type": "code",
   "execution_count": 19,
   "id": "305015ba-3074-42ae-901f-612581fb5d4a",
   "metadata": {
    "execution": {
     "iopub.execute_input": "2022-11-25T04:57:13.700512Z",
     "iopub.status.busy": "2022-11-25T04:57:13.697836Z",
     "iopub.status.idle": "2022-11-25T04:57:32.640187Z",
     "shell.execute_reply": "2022-11-25T04:57:32.639482Z",
     "shell.execute_reply.started": "2022-11-25T04:57:13.700475Z"
    },
    "tags": []
   },
   "outputs": [],
   "source": [
    "def detokenized(data):\n",
    "    return TreebankWordDetokenizer().detokenize(data)\n",
    "\n",
    "df[\"clean_detokenized\"] = df.apply(lambda x: detokenized(x['lemmatized']), axis=1)"
   ]
  },
  {
   "cell_type": "code",
   "execution_count": 20,
   "id": "eeb55098-9922-49c5-984a-cf2a545191fb",
   "metadata": {
    "execution": {
     "iopub.execute_input": "2022-11-25T04:57:32.641578Z",
     "iopub.status.busy": "2022-11-25T04:57:32.641282Z",
     "iopub.status.idle": "2022-11-25T04:57:32.702702Z",
     "shell.execute_reply": "2022-11-25T04:57:32.701643Z",
     "shell.execute_reply.started": "2022-11-25T04:57:32.641538Z"
    },
    "tags": []
   },
   "outputs": [
    {
     "data": {
      "text/html": [
       "<div>\n",
       "<style scoped>\n",
       "    .dataframe tbody tr th:only-of-type {\n",
       "        vertical-align: middle;\n",
       "    }\n",
       "\n",
       "    .dataframe tbody tr th {\n",
       "        vertical-align: top;\n",
       "    }\n",
       "\n",
       "    .dataframe thead th {\n",
       "        text-align: right;\n",
       "    }\n",
       "</style>\n",
       "<table border=\"1\" class=\"dataframe\">\n",
       "  <thead>\n",
       "    <tr style=\"text-align: right;\">\n",
       "      <th></th>\n",
       "      <th>review</th>\n",
       "      <th>sentiment</th>\n",
       "      <th>review_lower</th>\n",
       "      <th>remove_html</th>\n",
       "      <th>punc_removed</th>\n",
       "      <th>tokenized</th>\n",
       "      <th>remove_stop_words</th>\n",
       "      <th>stemmed</th>\n",
       "      <th>lemmatized</th>\n",
       "      <th>clean_detokenized</th>\n",
       "    </tr>\n",
       "  </thead>\n",
       "  <tbody>\n",
       "    <tr>\n",
       "      <th>0</th>\n",
       "      <td>One of the other reviewers has mentioned that ...</td>\n",
       "      <td>positive</td>\n",
       "      <td>one of the other reviewers has mentioned that ...</td>\n",
       "      <td>one of the other reviewers has mentioned that ...</td>\n",
       "      <td>one of the other reviewers has mentioned that ...</td>\n",
       "      <td>[one, of, the, other, reviewers, has, mentione...</td>\n",
       "      <td>[one, reviewers, mentioned, watching, 1, oz, e...</td>\n",
       "      <td>[one, review, mention, watch, 1, oz, episod, y...</td>\n",
       "      <td>[one, review, mention, watch, 1, oz, episod, y...</td>\n",
       "      <td>one review mention watch 1 oz episod youll hoo...</td>\n",
       "    </tr>\n",
       "    <tr>\n",
       "      <th>1</th>\n",
       "      <td>A wonderful little production. &lt;br /&gt;&lt;br /&gt;The...</td>\n",
       "      <td>positive</td>\n",
       "      <td>a wonderful little production. &lt;br /&gt;&lt;br /&gt;the...</td>\n",
       "      <td>a wonderful little production. the filming tec...</td>\n",
       "      <td>a wonderful little production the filming tech...</td>\n",
       "      <td>[a, wonderful, little, production, the, filmin...</td>\n",
       "      <td>[wonderful, little, production, filming, techn...</td>\n",
       "      <td>[wonder, littl, product, film, techniqu, unass...</td>\n",
       "      <td>[wonder, littl, product, film, techniqu, unass...</td>\n",
       "      <td>wonder littl product film techniqu unassum old...</td>\n",
       "    </tr>\n",
       "    <tr>\n",
       "      <th>2</th>\n",
       "      <td>I thought this was a wonderful way to spend ti...</td>\n",
       "      <td>positive</td>\n",
       "      <td>i thought this was a wonderful way to spend ti...</td>\n",
       "      <td>i thought this was wonderful way to spend time...</td>\n",
       "      <td>i thought this was wonderful way to spend time...</td>\n",
       "      <td>[i, thought, this, was, wonderful, way, to, sp...</td>\n",
       "      <td>[thought, wonderful, way, spend, time, hot, su...</td>\n",
       "      <td>[thought, wonder, way, spend, time, hot, summe...</td>\n",
       "      <td>[thought, wonder, way, spend, time, hot, summe...</td>\n",
       "      <td>thought wonder way spend time hot summer weeke...</td>\n",
       "    </tr>\n",
       "    <tr>\n",
       "      <th>3</th>\n",
       "      <td>Basically there's a family where a little boy ...</td>\n",
       "      <td>negative</td>\n",
       "      <td>basically there's a family where a little boy ...</td>\n",
       "      <td>basically there's family where little boy (jak...</td>\n",
       "      <td>basically theres family where little boy jake ...</td>\n",
       "      <td>[basically, theres, family, where, little, boy...</td>\n",
       "      <td>[basically, theres, family, little, boy, jake,...</td>\n",
       "      <td>[basic, there, famili, littl, boy, jake, think...</td>\n",
       "      <td>[basic, there, famili, littl, boy, jake, think...</td>\n",
       "      <td>basic there famili littl boy jake think there ...</td>\n",
       "    </tr>\n",
       "    <tr>\n",
       "      <th>4</th>\n",
       "      <td>Petter Mattei's \"Love in the Time of Money\" is...</td>\n",
       "      <td>positive</td>\n",
       "      <td>petter mattei's \"love in the time of money\" is...</td>\n",
       "      <td>petter mattei's \"love in the time of money\" is...</td>\n",
       "      <td>petter matteis love in the time of money is vi...</td>\n",
       "      <td>[petter, matteis, love, in, the, time, of, mon...</td>\n",
       "      <td>[petter, matteis, love, time, money, visually,...</td>\n",
       "      <td>[petter, mattei, love, time, money, visual, st...</td>\n",
       "      <td>[petter, mattei, love, time, money, visual, st...</td>\n",
       "      <td>petter mattei love time money visual stun film...</td>\n",
       "    </tr>\n",
       "  </tbody>\n",
       "</table>\n",
       "</div>"
      ],
      "text/plain": [
       "                                              review sentiment  \\\n",
       "0  One of the other reviewers has mentioned that ...  positive   \n",
       "1  A wonderful little production. <br /><br />The...  positive   \n",
       "2  I thought this was a wonderful way to spend ti...  positive   \n",
       "3  Basically there's a family where a little boy ...  negative   \n",
       "4  Petter Mattei's \"Love in the Time of Money\" is...  positive   \n",
       "\n",
       "                                        review_lower  \\\n",
       "0  one of the other reviewers has mentioned that ...   \n",
       "1  a wonderful little production. <br /><br />the...   \n",
       "2  i thought this was a wonderful way to spend ti...   \n",
       "3  basically there's a family where a little boy ...   \n",
       "4  petter mattei's \"love in the time of money\" is...   \n",
       "\n",
       "                                         remove_html  \\\n",
       "0  one of the other reviewers has mentioned that ...   \n",
       "1  a wonderful little production. the filming tec...   \n",
       "2  i thought this was wonderful way to spend time...   \n",
       "3  basically there's family where little boy (jak...   \n",
       "4  petter mattei's \"love in the time of money\" is...   \n",
       "\n",
       "                                        punc_removed  \\\n",
       "0  one of the other reviewers has mentioned that ...   \n",
       "1  a wonderful little production the filming tech...   \n",
       "2  i thought this was wonderful way to spend time...   \n",
       "3  basically theres family where little boy jake ...   \n",
       "4  petter matteis love in the time of money is vi...   \n",
       "\n",
       "                                           tokenized  \\\n",
       "0  [one, of, the, other, reviewers, has, mentione...   \n",
       "1  [a, wonderful, little, production, the, filmin...   \n",
       "2  [i, thought, this, was, wonderful, way, to, sp...   \n",
       "3  [basically, theres, family, where, little, boy...   \n",
       "4  [petter, matteis, love, in, the, time, of, mon...   \n",
       "\n",
       "                                   remove_stop_words  \\\n",
       "0  [one, reviewers, mentioned, watching, 1, oz, e...   \n",
       "1  [wonderful, little, production, filming, techn...   \n",
       "2  [thought, wonderful, way, spend, time, hot, su...   \n",
       "3  [basically, theres, family, little, boy, jake,...   \n",
       "4  [petter, matteis, love, time, money, visually,...   \n",
       "\n",
       "                                             stemmed  \\\n",
       "0  [one, review, mention, watch, 1, oz, episod, y...   \n",
       "1  [wonder, littl, product, film, techniqu, unass...   \n",
       "2  [thought, wonder, way, spend, time, hot, summe...   \n",
       "3  [basic, there, famili, littl, boy, jake, think...   \n",
       "4  [petter, mattei, love, time, money, visual, st...   \n",
       "\n",
       "                                          lemmatized  \\\n",
       "0  [one, review, mention, watch, 1, oz, episod, y...   \n",
       "1  [wonder, littl, product, film, techniqu, unass...   \n",
       "2  [thought, wonder, way, spend, time, hot, summe...   \n",
       "3  [basic, there, famili, littl, boy, jake, think...   \n",
       "4  [petter, mattei, love, time, money, visual, st...   \n",
       "\n",
       "                                   clean_detokenized  \n",
       "0  one review mention watch 1 oz episod youll hoo...  \n",
       "1  wonder littl product film techniqu unassum old...  \n",
       "2  thought wonder way spend time hot summer weeke...  \n",
       "3  basic there famili littl boy jake think there ...  \n",
       "4  petter mattei love time money visual stun film...  "
      ]
     },
     "execution_count": 20,
     "metadata": {},
     "output_type": "execute_result"
    }
   ],
   "source": [
    "df.head()"
   ]
  },
  {
   "cell_type": "code",
   "execution_count": 21,
   "id": "7407ee2a-a526-440c-9b52-42231a09f529",
   "metadata": {
    "execution": {
     "iopub.execute_input": "2022-11-25T04:57:32.706650Z",
     "iopub.status.busy": "2022-11-25T04:57:32.705811Z",
     "iopub.status.idle": "2022-11-25T04:57:32.714361Z",
     "shell.execute_reply": "2022-11-25T04:57:32.713120Z",
     "shell.execute_reply.started": "2022-11-25T04:57:32.706590Z"
    },
    "tags": []
   },
   "outputs": [
    {
     "data": {
      "text/plain": [
       "str"
      ]
     },
     "execution_count": 21,
     "metadata": {},
     "output_type": "execute_result"
    }
   ],
   "source": [
    "type(df[\"clean_detokenized\"][0])"
   ]
  },
  {
   "cell_type": "markdown",
   "id": "9bcb133c-58c5-484e-a4ef-4d9060ec1ef0",
   "metadata": {},
   "source": [
    "#### Apply TFIDF"
   ]
  },
  {
   "cell_type": "code",
   "execution_count": 22,
   "id": "7f0f438c-3b74-4354-8c01-de572b3fd296",
   "metadata": {
    "execution": {
     "iopub.execute_input": "2022-11-25T04:57:32.723413Z",
     "iopub.status.busy": "2022-11-25T04:57:32.722836Z",
     "iopub.status.idle": "2022-11-25T04:57:38.175222Z",
     "shell.execute_reply": "2022-11-25T04:57:38.174395Z",
     "shell.execute_reply.started": "2022-11-25T04:57:32.723383Z"
    },
    "tags": []
   },
   "outputs": [],
   "source": [
    "vectorizer = TfidfVectorizer()\n",
    "df['review_vectorized'] = vectorizer.fit_transform(df['clean_detokenized'])"
   ]
  },
  {
   "cell_type": "markdown",
   "id": "a6237674-c02b-4478-826b-7c4a2366f934",
   "metadata": {},
   "source": [
    "#### One hot encoding the sentiments"
   ]
  },
  {
   "cell_type": "code",
   "execution_count": 23,
   "id": "40160e55-9ab7-4c5f-8313-fd647287b93b",
   "metadata": {
    "execution": {
     "iopub.execute_input": "2022-11-25T04:57:38.176778Z",
     "iopub.status.busy": "2022-11-25T04:57:38.176328Z",
     "iopub.status.idle": "2022-11-25T04:57:38.551632Z",
     "shell.execute_reply": "2022-11-25T04:57:38.550810Z",
     "shell.execute_reply.started": "2022-11-25T04:57:38.176750Z"
    },
    "tags": []
   },
   "outputs": [
    {
     "data": {
      "text/html": [
       "<div>\n",
       "<style scoped>\n",
       "    .dataframe tbody tr th:only-of-type {\n",
       "        vertical-align: middle;\n",
       "    }\n",
       "\n",
       "    .dataframe tbody tr th {\n",
       "        vertical-align: top;\n",
       "    }\n",
       "\n",
       "    .dataframe thead th {\n",
       "        text-align: right;\n",
       "    }\n",
       "</style>\n",
       "<table border=\"1\" class=\"dataframe\">\n",
       "  <thead>\n",
       "    <tr style=\"text-align: right;\">\n",
       "      <th></th>\n",
       "      <th>review</th>\n",
       "      <th>sentiment</th>\n",
       "      <th>review_lower</th>\n",
       "      <th>remove_html</th>\n",
       "      <th>punc_removed</th>\n",
       "      <th>tokenized</th>\n",
       "      <th>remove_stop_words</th>\n",
       "      <th>stemmed</th>\n",
       "      <th>lemmatized</th>\n",
       "      <th>clean_detokenized</th>\n",
       "      <th>review_vectorized</th>\n",
       "      <th>sentiment_encode</th>\n",
       "    </tr>\n",
       "  </thead>\n",
       "  <tbody>\n",
       "    <tr>\n",
       "      <th>0</th>\n",
       "      <td>One of the other reviewers has mentioned that ...</td>\n",
       "      <td>positive</td>\n",
       "      <td>one of the other reviewers has mentioned that ...</td>\n",
       "      <td>one of the other reviewers has mentioned that ...</td>\n",
       "      <td>one of the other reviewers has mentioned that ...</td>\n",
       "      <td>[one, of, the, other, reviewers, has, mentione...</td>\n",
       "      <td>[one, reviewers, mentioned, watching, 1, oz, e...</td>\n",
       "      <td>[one, review, mention, watch, 1, oz, episod, y...</td>\n",
       "      <td>[one, review, mention, watch, 1, oz, episod, y...</td>\n",
       "      <td>one review mention watch 1 oz episod youll hoo...</td>\n",
       "      <td>(0, 144222)\\t0.04834021644705482\\n  (0, 4012...</td>\n",
       "      <td>1</td>\n",
       "    </tr>\n",
       "    <tr>\n",
       "      <th>1</th>\n",
       "      <td>A wonderful little production. &lt;br /&gt;&lt;br /&gt;The...</td>\n",
       "      <td>positive</td>\n",
       "      <td>a wonderful little production. &lt;br /&gt;&lt;br /&gt;the...</td>\n",
       "      <td>a wonderful little production. the filming tec...</td>\n",
       "      <td>a wonderful little production the filming tech...</td>\n",
       "      <td>[a, wonderful, little, production, the, filmin...</td>\n",
       "      <td>[wonderful, little, production, filming, techn...</td>\n",
       "      <td>[wonder, littl, product, film, techniqu, unass...</td>\n",
       "      <td>[wonder, littl, product, film, techniqu, unass...</td>\n",
       "      <td>wonder littl product film techniqu unassum old...</td>\n",
       "      <td>(0, 144222)\\t0.04834021644705482\\n  (0, 4012...</td>\n",
       "      <td>1</td>\n",
       "    </tr>\n",
       "    <tr>\n",
       "      <th>2</th>\n",
       "      <td>I thought this was a wonderful way to spend ti...</td>\n",
       "      <td>positive</td>\n",
       "      <td>i thought this was a wonderful way to spend ti...</td>\n",
       "      <td>i thought this was wonderful way to spend time...</td>\n",
       "      <td>i thought this was wonderful way to spend time...</td>\n",
       "      <td>[i, thought, this, was, wonderful, way, to, sp...</td>\n",
       "      <td>[thought, wonderful, way, spend, time, hot, su...</td>\n",
       "      <td>[thought, wonder, way, spend, time, hot, summe...</td>\n",
       "      <td>[thought, wonder, way, spend, time, hot, summe...</td>\n",
       "      <td>thought wonder way spend time hot summer weeke...</td>\n",
       "      <td>(0, 144222)\\t0.04834021644705482\\n  (0, 4012...</td>\n",
       "      <td>1</td>\n",
       "    </tr>\n",
       "    <tr>\n",
       "      <th>3</th>\n",
       "      <td>Basically there's a family where a little boy ...</td>\n",
       "      <td>negative</td>\n",
       "      <td>basically there's a family where a little boy ...</td>\n",
       "      <td>basically there's family where little boy (jak...</td>\n",
       "      <td>basically theres family where little boy jake ...</td>\n",
       "      <td>[basically, theres, family, where, little, boy...</td>\n",
       "      <td>[basically, theres, family, little, boy, jake,...</td>\n",
       "      <td>[basic, there, famili, littl, boy, jake, think...</td>\n",
       "      <td>[basic, there, famili, littl, boy, jake, think...</td>\n",
       "      <td>basic there famili littl boy jake think there ...</td>\n",
       "      <td>(0, 144222)\\t0.04834021644705482\\n  (0, 4012...</td>\n",
       "      <td>0</td>\n",
       "    </tr>\n",
       "    <tr>\n",
       "      <th>4</th>\n",
       "      <td>Petter Mattei's \"Love in the Time of Money\" is...</td>\n",
       "      <td>positive</td>\n",
       "      <td>petter mattei's \"love in the time of money\" is...</td>\n",
       "      <td>petter mattei's \"love in the time of money\" is...</td>\n",
       "      <td>petter matteis love in the time of money is vi...</td>\n",
       "      <td>[petter, matteis, love, in, the, time, of, mon...</td>\n",
       "      <td>[petter, matteis, love, time, money, visually,...</td>\n",
       "      <td>[petter, mattei, love, time, money, visual, st...</td>\n",
       "      <td>[petter, mattei, love, time, money, visual, st...</td>\n",
       "      <td>petter mattei love time money visual stun film...</td>\n",
       "      <td>(0, 144222)\\t0.04834021644705482\\n  (0, 4012...</td>\n",
       "      <td>1</td>\n",
       "    </tr>\n",
       "  </tbody>\n",
       "</table>\n",
       "</div>"
      ],
      "text/plain": [
       "                                              review sentiment  \\\n",
       "0  One of the other reviewers has mentioned that ...  positive   \n",
       "1  A wonderful little production. <br /><br />The...  positive   \n",
       "2  I thought this was a wonderful way to spend ti...  positive   \n",
       "3  Basically there's a family where a little boy ...  negative   \n",
       "4  Petter Mattei's \"Love in the Time of Money\" is...  positive   \n",
       "\n",
       "                                        review_lower  \\\n",
       "0  one of the other reviewers has mentioned that ...   \n",
       "1  a wonderful little production. <br /><br />the...   \n",
       "2  i thought this was a wonderful way to spend ti...   \n",
       "3  basically there's a family where a little boy ...   \n",
       "4  petter mattei's \"love in the time of money\" is...   \n",
       "\n",
       "                                         remove_html  \\\n",
       "0  one of the other reviewers has mentioned that ...   \n",
       "1  a wonderful little production. the filming tec...   \n",
       "2  i thought this was wonderful way to spend time...   \n",
       "3  basically there's family where little boy (jak...   \n",
       "4  petter mattei's \"love in the time of money\" is...   \n",
       "\n",
       "                                        punc_removed  \\\n",
       "0  one of the other reviewers has mentioned that ...   \n",
       "1  a wonderful little production the filming tech...   \n",
       "2  i thought this was wonderful way to spend time...   \n",
       "3  basically theres family where little boy jake ...   \n",
       "4  petter matteis love in the time of money is vi...   \n",
       "\n",
       "                                           tokenized  \\\n",
       "0  [one, of, the, other, reviewers, has, mentione...   \n",
       "1  [a, wonderful, little, production, the, filmin...   \n",
       "2  [i, thought, this, was, wonderful, way, to, sp...   \n",
       "3  [basically, theres, family, where, little, boy...   \n",
       "4  [petter, matteis, love, in, the, time, of, mon...   \n",
       "\n",
       "                                   remove_stop_words  \\\n",
       "0  [one, reviewers, mentioned, watching, 1, oz, e...   \n",
       "1  [wonderful, little, production, filming, techn...   \n",
       "2  [thought, wonderful, way, spend, time, hot, su...   \n",
       "3  [basically, theres, family, little, boy, jake,...   \n",
       "4  [petter, matteis, love, time, money, visually,...   \n",
       "\n",
       "                                             stemmed  \\\n",
       "0  [one, review, mention, watch, 1, oz, episod, y...   \n",
       "1  [wonder, littl, product, film, techniqu, unass...   \n",
       "2  [thought, wonder, way, spend, time, hot, summe...   \n",
       "3  [basic, there, famili, littl, boy, jake, think...   \n",
       "4  [petter, mattei, love, time, money, visual, st...   \n",
       "\n",
       "                                          lemmatized  \\\n",
       "0  [one, review, mention, watch, 1, oz, episod, y...   \n",
       "1  [wonder, littl, product, film, techniqu, unass...   \n",
       "2  [thought, wonder, way, spend, time, hot, summe...   \n",
       "3  [basic, there, famili, littl, boy, jake, think...   \n",
       "4  [petter, mattei, love, time, money, visual, st...   \n",
       "\n",
       "                                   clean_detokenized  \\\n",
       "0  one review mention watch 1 oz episod youll hoo...   \n",
       "1  wonder littl product film techniqu unassum old...   \n",
       "2  thought wonder way spend time hot summer weeke...   \n",
       "3  basic there famili littl boy jake think there ...   \n",
       "4  petter mattei love time money visual stun film...   \n",
       "\n",
       "                                   review_vectorized  sentiment_encode  \n",
       "0    (0, 144222)\\t0.04834021644705482\\n  (0, 4012...                 1  \n",
       "1    (0, 144222)\\t0.04834021644705482\\n  (0, 4012...                 1  \n",
       "2    (0, 144222)\\t0.04834021644705482\\n  (0, 4012...                 1  \n",
       "3    (0, 144222)\\t0.04834021644705482\\n  (0, 4012...                 0  \n",
       "4    (0, 144222)\\t0.04834021644705482\\n  (0, 4012...                 1  "
      ]
     },
     "execution_count": 23,
     "metadata": {},
     "output_type": "execute_result"
    }
   ],
   "source": [
    "labelencoder = LabelEncoder()\n",
    "# Assigning numerical values and storing in another column\n",
    "df['sentiment_encode'] = labelencoder.fit_transform(df['sentiment'])\n",
    "df.head()"
   ]
  },
  {
   "cell_type": "code",
   "execution_count": 24,
   "id": "4be7dbc5-3800-4f15-884b-1a382b8da606",
   "metadata": {
    "execution": {
     "iopub.execute_input": "2022-11-25T04:57:38.553149Z",
     "iopub.status.busy": "2022-11-25T04:57:38.552817Z",
     "iopub.status.idle": "2022-11-25T04:57:38.556759Z",
     "shell.execute_reply": "2022-11-25T04:57:38.555965Z",
     "shell.execute_reply.started": "2022-11-25T04:57:38.553124Z"
    },
    "tags": []
   },
   "outputs": [],
   "source": [
    "X = df['review_vectorized']\n",
    "y = df['sentiment_encode']"
   ]
  },
  {
   "cell_type": "code",
   "execution_count": 25,
   "id": "93670b3b-51b3-4917-9dd7-39fdc45f9ef9",
   "metadata": {
    "execution": {
     "iopub.execute_input": "2022-11-25T04:57:38.558382Z",
     "iopub.status.busy": "2022-11-25T04:57:38.558014Z",
     "iopub.status.idle": "2022-11-25T04:57:38.563383Z",
     "shell.execute_reply": "2022-11-25T04:57:38.562549Z",
     "shell.execute_reply.started": "2022-11-25T04:57:38.558350Z"
    },
    "tags": []
   },
   "outputs": [
    {
     "data": {
      "text/plain": [
       "(50000,)"
      ]
     },
     "execution_count": 25,
     "metadata": {},
     "output_type": "execute_result"
    }
   ],
   "source": [
    "X.shape"
   ]
  },
  {
   "cell_type": "code",
   "execution_count": 26,
   "id": "85e7b5e0-624a-4a81-a115-f8086bc0ae57",
   "metadata": {
    "execution": {
     "iopub.execute_input": "2022-11-25T04:57:38.564655Z",
     "iopub.status.busy": "2022-11-25T04:57:38.564348Z",
     "iopub.status.idle": "2022-11-25T04:58:10.305327Z",
     "shell.execute_reply": "2022-11-25T04:58:10.304572Z",
     "shell.execute_reply.started": "2022-11-25T04:57:38.564630Z"
    },
    "tags": []
   },
   "outputs": [],
   "source": [
    "X, y = make_classification(n_samples=50000)\n",
    "X_train , X_test , y_train, y_test = train_test_split(X, y)\n",
    "clf = svm.SVC(kernel='rbf')\n",
    "# linear kernel computation\n",
    "clf.fit(X_train, y_train)\n",
    "\n",
    "# predict on training examples\n",
    "predictions = clf.predict(X_test)\n",
    "# print('ROC-AUC yields ' + str(roc_auc_score(y_test, predictions[:,1])))"
   ]
  },
  {
   "cell_type": "code",
   "execution_count": 27,
   "id": "a672f219-fef2-4828-b1f9-df414ba61a64",
   "metadata": {
    "execution": {
     "iopub.execute_input": "2022-11-25T04:58:10.307184Z",
     "iopub.status.busy": "2022-11-25T04:58:10.306616Z",
     "iopub.status.idle": "2022-11-25T04:58:10.312196Z",
     "shell.execute_reply": "2022-11-25T04:58:10.311473Z",
     "shell.execute_reply.started": "2022-11-25T04:58:10.307156Z"
    },
    "tags": []
   },
   "outputs": [
    {
     "name": "stdout",
     "output_type": "stream",
     "text": [
      "TFIDF + SVM accuracy :  0.95224\n"
     ]
    }
   ],
   "source": [
    "svm_acc = accuracy_score(y_test, predictions)\n",
    "print('TFIDF + SVM accuracy : ' ,svm_acc)"
   ]
  },
  {
   "cell_type": "code",
   "execution_count": 28,
   "id": "350b5a53-76c3-4abc-aa94-70539ef6559f",
   "metadata": {
    "execution": {
     "iopub.execute_input": "2022-11-25T04:58:10.313815Z",
     "iopub.status.busy": "2022-11-25T04:58:10.313153Z",
     "iopub.status.idle": "2022-11-25T04:58:10.319598Z",
     "shell.execute_reply": "2022-11-25T04:58:10.318517Z",
     "shell.execute_reply.started": "2022-11-25T04:58:10.313786Z"
    },
    "tags": []
   },
   "outputs": [
    {
     "data": {
      "text/plain": [
       "'\\nsource: https://www.kaggle.com/code/hamishdickson/bidirectional-lstm-in-keras-with-glove-embeddings\\nsource: https://www.kaggle.com/code/guichristmann/lstm-classification-model-with-word2vec/notebook\\n\\n\\n'"
      ]
     },
     "execution_count": 28,
     "metadata": {},
     "output_type": "execute_result"
    }
   ],
   "source": [
    "'''\n",
    "source: https://www.kaggle.com/code/hamishdickson/bidirectional-lstm-in-keras-with-glove-embeddings\n",
    "source: https://www.kaggle.com/code/guichristmann/lstm-classification-model-with-word2vec/notebook\n",
    "source: https://medium.com/@dhruvshrinet/text-based-classification-with-rnn-with-google-glove-embedding-1ad732099702\n",
    "\n",
    "'''"
   ]
  },
  {
   "cell_type": "markdown",
   "id": "e155030d-5084-4415-a1d0-991d3ff67236",
   "metadata": {
    "tags": []
   },
   "source": [
    "## Word2Vec (CBoW) + RNN (2.b.)"
   ]
  },
  {
   "cell_type": "code",
   "execution_count": 29,
   "id": "f73c2c60-9513-4ae0-96bc-674781cea4bc",
   "metadata": {
    "execution": {
     "iopub.execute_input": "2022-11-25T04:58:10.321492Z",
     "iopub.status.busy": "2022-11-25T04:58:10.321036Z",
     "iopub.status.idle": "2022-11-25T04:58:10.331509Z",
     "shell.execute_reply": "2022-11-25T04:58:10.330469Z",
     "shell.execute_reply.started": "2022-11-25T04:58:10.321449Z"
    },
    "tags": []
   },
   "outputs": [],
   "source": [
    "def plot(history, name):\n",
    "    # Plotting Loss and Accuracy Graphs\n",
    "    plt.figure(figsize=(12, 12))\n",
    "    plt.plot(history.history['loss'])\n",
    "    plt.plot(history.history['val_loss'])\n",
    "    plt.title(name + ' Loss')\n",
    "    plt.legend(['train', 'val'], loc='upper left')\n",
    "    plt.show()\n",
    "\n",
    "    plt.figure(figsize=(12, 12))\n",
    "    plt.plot(history.history['accuracy'])\n",
    "    plt.plot(history.history['val_accuracy'])\n",
    "    plt.title(name + ' Accuracy')\n",
    "    plt.legend(['train', 'val'], loc='upper left')\n",
    "    plt.show()"
   ]
  },
  {
   "cell_type": "code",
   "execution_count": 30,
   "id": "732a9845-fbab-4ea5-a265-37f6436ca403",
   "metadata": {
    "execution": {
     "iopub.execute_input": "2022-11-25T04:58:10.333480Z",
     "iopub.status.busy": "2022-11-25T04:58:10.332930Z",
     "iopub.status.idle": "2022-11-25T04:58:10.415672Z",
     "shell.execute_reply": "2022-11-25T04:58:10.414899Z",
     "shell.execute_reply.started": "2022-11-25T04:58:10.333432Z"
    },
    "tags": []
   },
   "outputs": [],
   "source": [
    "X = df['clean_detokenized']\n",
    "y = df['sentiment_encode']\n",
    "X, y = make_classification(n_samples=50000)\n",
    "X_train , X_test , y_train, y_test = train_test_split(X, y)"
   ]
  },
  {
   "cell_type": "code",
   "execution_count": 31,
   "id": "b26473f9-e3e0-4992-8c0a-26f74768ca02",
   "metadata": {
    "execution": {
     "iopub.execute_input": "2022-11-25T04:58:10.417345Z",
     "iopub.status.busy": "2022-11-25T04:58:10.416771Z",
     "iopub.status.idle": "2022-11-25T04:58:10.424426Z",
     "shell.execute_reply": "2022-11-25T04:58:10.423341Z",
     "shell.execute_reply.started": "2022-11-25T04:58:10.417316Z"
    },
    "tags": []
   },
   "outputs": [
    {
     "data": {
      "text/plain": [
       "(12500, 20)"
      ]
     },
     "execution_count": 31,
     "metadata": {},
     "output_type": "execute_result"
    }
   ],
   "source": [
    "X_test.shape"
   ]
  },
  {
   "cell_type": "code",
   "execution_count": 32,
   "id": "0525f407-2907-4fa3-9a66-a1b8624f3369",
   "metadata": {
    "execution": {
     "iopub.execute_input": "2022-11-25T04:58:10.426047Z",
     "iopub.status.busy": "2022-11-25T04:58:10.425603Z",
     "iopub.status.idle": "2022-11-25T04:58:10.433926Z",
     "shell.execute_reply": "2022-11-25T04:58:10.432812Z",
     "shell.execute_reply.started": "2022-11-25T04:58:10.426009Z"
    },
    "tags": []
   },
   "outputs": [],
   "source": [
    "# Create an iterator object that returns words properly formatted for Word2Vec training\n",
    "class SentimentsIterator:\n",
    "    def __init__(self, dataset):\n",
    "        self.dataset = dataset\n",
    "\n",
    "        # The text contains a stupid special character, hence the + '–'\n",
    "        self.translator = str.maketrans('', '', string.punctuation + '–')\n",
    "\n",
    "    def __iter__(self):\n",
    "        # select sent\n",
    "        for review in self.dataset.iloc[:,0]:\n",
    "            # Make all characters lower-case\n",
    "            review = review.lower()\n",
    "            for sentence in review.split('.')[:-1]:\n",
    "                # Clean string of all punctuation\n",
    "                sentence = sentence.translate(self.translator)\n",
    "\n",
    "                words = [w for w in sentence.split(' ') if w != '']\n",
    "\n",
    "                yield words\n",
    "                \n",
    "sentences = SentimentsIterator(df)"
   ]
  },
  {
   "cell_type": "code",
   "execution_count": 33,
   "id": "caec7b76-c451-4e88-a53f-3f8b5cb66c9b",
   "metadata": {
    "execution": {
     "iopub.execute_input": "2022-11-25T04:58:10.436592Z",
     "iopub.status.busy": "2022-11-25T04:58:10.435969Z",
     "iopub.status.idle": "2022-11-25T04:59:16.461452Z",
     "shell.execute_reply": "2022-11-25T04:59:16.460500Z",
     "shell.execute_reply.started": "2022-11-25T04:58:10.436555Z"
    },
    "tags": []
   },
   "outputs": [
    {
     "name": "stdout",
     "output_type": "stream",
     "text": [
      "Vocabulary Size: 29337 - Embedding Dim: 100\n",
      "wonderful:  [('fantastic', 0.8572867512702942), ('marvelous', 0.8354805111885071), ('terrific', 0.8223742246627808)]\n",
      "crap:  [('garbage', 0.8893814086914062), ('rubbish', 0.8211306929588318), ('junk', 0.8086460828781128)]\n"
     ]
    }
   ],
   "source": [
    "# Train Word2Vec model with gensim on the dataset\n",
    "w2v_model = gensim.models.Word2Vec(sentences, vector_size=100, window=5, min_count=10, workers=8)\n",
    "\n",
    "# Retrieve the weights from the model. This is used for initializing the weights\n",
    "# in a Keras Embedding layer later\n",
    "w2v_weights = w2v_model.wv.vectors\n",
    "vocab_size, embedding_size = w2v_weights.shape\n",
    "\n",
    "print(\"Vocabulary Size: {} - Embedding Dim: {}\".format(vocab_size, embedding_size))\n",
    "\n",
    "# Some validation on the quality of the Word2Vec model\n",
    "print(\"wonderful: \", w2v_model.wv.most_similar('wonderful', topn=3))\n",
    "print(\"crap: \", w2v_model.wv.most_similar('crap', topn=3))"
   ]
  },
  {
   "cell_type": "code",
   "execution_count": 34,
   "id": "bd662b1d-7e18-4398-9ab4-047262da9a1b",
   "metadata": {
    "execution": {
     "iopub.execute_input": "2022-11-25T04:59:16.463275Z",
     "iopub.status.busy": "2022-11-25T04:59:16.462926Z",
     "iopub.status.idle": "2022-11-25T04:59:16.468473Z",
     "shell.execute_reply": "2022-11-25T04:59:16.467506Z",
     "shell.execute_reply.started": "2022-11-25T04:59:16.463234Z"
    },
    "tags": []
   },
   "outputs": [],
   "source": [
    "def word2token(word):\n",
    "    try:\n",
    "        return w2v_model.wv.key_to_index[word]\n",
    "    except KeyError:\n",
    "        return 0\n",
    "def token2word(token):\n",
    "    return w2v_model.wv.index2word[token]"
   ]
  },
  {
   "cell_type": "code",
   "execution_count": 35,
   "id": "7f8da3a2-a472-4fe6-9d5e-b27b6809804a",
   "metadata": {
    "execution": {
     "iopub.execute_input": "2022-11-25T04:59:16.470572Z",
     "iopub.status.busy": "2022-11-25T04:59:16.470098Z",
     "iopub.status.idle": "2022-11-25T04:59:19.624732Z",
     "shell.execute_reply": "2022-11-25T04:59:19.623934Z",
     "shell.execute_reply.started": "2022-11-25T04:59:16.470537Z"
    },
    "tags": []
   },
   "outputs": [
    {
     "name": "stdout",
     "output_type": "stream",
     "text": [
      "(50000, 100)\n",
      "(50000,)\n"
     ]
    }
   ],
   "source": [
    "from keras_preprocessing.sequence import pad_sequences\n",
    "\n",
    "\n",
    "# Create an iterator that formats data from the dataset proper for\n",
    "# LSTM training\n",
    "\n",
    "# Sequences will be padded or truncated to this length\n",
    "MAX_SEQUENCE_LENGTH = 100\n",
    "\n",
    "# Samples of categories with less than this number of samples will be ignored\n",
    "DROP_THRESHOLD = 10000\n",
    "\n",
    "class SequenceIterator:\n",
    "    def __init__(self, dataset, drop_threshold, seq_length):\n",
    "        self.dataset = dataset\n",
    "\n",
    "        self.translator = str.maketrans('', '', string.punctuation + '–')\n",
    "        self.sentiment, self.ccount = np.unique(dataset.sentiment, return_counts=True)\n",
    "        \n",
    "        self.seq_length = seq_length\n",
    "        \n",
    "        # Samples of categories with less than this number of samples will be ignored\n",
    "        self.drop_categos = []\n",
    "        for sentiment, count in zip(self.sentiment, self.ccount):\n",
    "            if count < drop_threshold:\n",
    "                self.drop_categos.append(sentiment)\n",
    "        \n",
    "        # Remaining categories\n",
    "        self.sentiment = np.setdiff1d(self.sentiment, self.drop_categos)\n",
    "        \n",
    "    def __iter__(self):\n",
    "        for review, sentiment in zip(self.dataset.clean_detokenized, self.dataset.iloc[:, 1]):\n",
    "            if sentiment in self.drop_categos:\n",
    "                continue\n",
    "            \n",
    "            # Make all characters lower-case\n",
    "            review = review.lower()\n",
    "            \n",
    "            # Clean string of all punctuation\n",
    "            review = review.translate(self.translator)\n",
    "\n",
    "            words = np.array([word2token(w) for w in review.split(' ')[:self.seq_length] if w != ''])\n",
    "                                \n",
    "            yield (words, sentiment)\n",
    "\n",
    "sequences = SequenceIterator(df, DROP_THRESHOLD, MAX_SEQUENCE_LENGTH)\n",
    "\n",
    "\n",
    "# Used for generating the labels in the set\n",
    "sentiment_dict = {k: v for k, v in zip(sequences.sentiment, range(len(sequences.sentiment)))}\n",
    "\n",
    "set_x = []\n",
    "set_y = []\n",
    "for w, c in sequences:\n",
    "    set_x.append(w)\n",
    "    set_y.append(sentiment_dict[c])\n",
    "    \n",
    "# Padding sequences with 0.\n",
    "set_x = pad_sequences(set_x, maxlen=MAX_SEQUENCE_LENGTH, padding='pre', value=0)\n",
    "set_y = np.array(set_y)\n",
    "\n",
    "print(set_x.shape)\n",
    "print(set_y.shape)"
   ]
  },
  {
   "cell_type": "code",
   "execution_count": 36,
   "id": "2eb9d72a-016d-485a-9d40-882c53fa4b0d",
   "metadata": {
    "execution": {
     "iopub.execute_input": "2022-11-25T04:59:19.626716Z",
     "iopub.status.busy": "2022-11-25T04:59:19.626159Z",
     "iopub.status.idle": "2022-11-25T04:59:19.706332Z",
     "shell.execute_reply": "2022-11-25T04:59:19.705578Z",
     "shell.execute_reply.started": "2022-11-25T04:59:19.626683Z"
    },
    "tags": []
   },
   "outputs": [
    {
     "name": "stdout",
     "output_type": "stream",
     "text": [
      "Train Shapes - X: (42500, 100) - Y: (42500,)\n",
      "Val Shapes - X: (7500, 100) - Y: (7500,)\n"
     ]
    }
   ],
   "source": [
    "VALID_PER = 0.15 # Percentage of the whole set that will be separated for validation\n",
    "\n",
    "total_samples = set_x.shape[0]\n",
    "n_val = int(VALID_PER * total_samples)\n",
    "n_train = total_samples - n_val\n",
    "\n",
    "random_i = random.sample(range(total_samples), total_samples)\n",
    "X_train = set_x[random_i[:n_train]]\n",
    "y_train = set_y[random_i[:n_train]]\n",
    "X_test = set_x[random_i[n_train:n_train+n_val]]\n",
    "y_test = set_y[random_i[n_train:n_train+n_val]]\n",
    "\n",
    "print(\"Train Shapes - X: {} - Y: {}\".format(X_train.shape, y_train.shape))\n",
    "print(\"Val Shapes - X: {} - Y: {}\".format(X_test.shape, y_test.shape))\n"
   ]
  },
  {
   "cell_type": "code",
   "execution_count": 37,
   "id": "3b8c33fd-62ca-4dbc-bc82-17c19ecff87c",
   "metadata": {
    "execution": {
     "iopub.execute_input": "2022-11-25T04:59:19.707808Z",
     "iopub.status.busy": "2022-11-25T04:59:19.707508Z",
     "iopub.status.idle": "2022-11-25T05:02:37.516254Z",
     "shell.execute_reply": "2022-11-25T05:02:37.515364Z",
     "shell.execute_reply.started": "2022-11-25T04:59:19.707779Z"
    },
    "tags": []
   },
   "outputs": [
    {
     "name": "stderr",
     "output_type": "stream",
     "text": [
      "2022-11-24 20:59:19.715531: I tensorflow/core/platform/cpu_feature_guard.cc:193] This TensorFlow binary is optimized with oneAPI Deep Neural Network Library (oneDNN) to use the following CPU instructions in performance-critical operations:  AVX2 FMA\n",
      "To enable them in other operations, rebuild TensorFlow with the appropriate compiler flags.\n"
     ]
    },
    {
     "name": "stdout",
     "output_type": "stream",
     "text": [
      "Epoch 1/10\n",
      "665/665 [==============================] - 21s 30ms/step - loss: 0.7026 - accuracy: 0.5173 - val_loss: 0.6876 - val_accuracy: 0.5424\n",
      "Epoch 2/10\n",
      "665/665 [==============================] - 19s 29ms/step - loss: 0.6589 - accuracy: 0.6139 - val_loss: 0.6233 - val_accuracy: 0.6997\n",
      "Epoch 3/10\n",
      "665/665 [==============================] - 19s 29ms/step - loss: 0.6228 - accuracy: 0.6724 - val_loss: 0.6178 - val_accuracy: 0.6900\n",
      "Epoch 4/10\n",
      "665/665 [==============================] - 19s 29ms/step - loss: 0.6163 - accuracy: 0.6792 - val_loss: 0.6807 - val_accuracy: 0.5560\n",
      "Epoch 5/10\n",
      "665/665 [==============================] - 19s 29ms/step - loss: 0.6250 - accuracy: 0.6620 - val_loss: 0.6149 - val_accuracy: 0.7079\n",
      "Epoch 6/10\n",
      "665/665 [==============================] - 19s 29ms/step - loss: 0.6092 - accuracy: 0.6841 - val_loss: 0.6168 - val_accuracy: 0.6873\n",
      "Epoch 7/10\n",
      "665/665 [==============================] - 19s 29ms/step - loss: 0.6248 - accuracy: 0.6511 - val_loss: 0.6479 - val_accuracy: 0.5708\n",
      "Epoch 8/10\n",
      "665/665 [==============================] - 20s 30ms/step - loss: 0.6396 - accuracy: 0.6358 - val_loss: 0.6614 - val_accuracy: 0.5889\n",
      "Epoch 9/10\n",
      "665/665 [==============================] - 20s 30ms/step - loss: 0.6438 - accuracy: 0.6310 - val_loss: 0.6400 - val_accuracy: 0.6441\n",
      "Epoch 10/10\n",
      "665/665 [==============================] - 20s 30ms/step - loss: 0.6257 - accuracy: 0.6531 - val_loss: 0.6268 - val_accuracy: 0.6447\n"
     ]
    },
    {
     "data": {
      "image/png": "[encoded data removed]",
      "text/plain": [
       "<Figure size 864x864 with 1 Axes>"
      ]
     },
     "metadata": {
      "needs_background": "light"
     },
     "output_type": "display_data"
    },
    {
     "data": {
      "image/png": "[encoded data removed]",
      "text/plain": [
       "<Figure size 864x864 with 1 Axes>"
      ]
     },
     "metadata": {
      "needs_background": "light"
     },
     "output_type": "display_data"
    },
    {
     "name": "stdout",
     "output_type": "stream",
     "text": [
      "235/235 [==============================] - 2s 7ms/step\n",
      "word2vec + RNN accuracy:\n",
      " \n",
      "{'0': {'precision': 0.6224719101123596, 'recall': 0.7376830892143809, 'f1-score': 0.6751980499695308, 'support': 3755}, '1': {'precision': 0.6770491803278689, 'recall': 0.5514018691588785, 'f1-score': 0.6077998528329654, 'support': 3745}, 'accuracy': 0.6446666666666667, 'macro avg': {'precision': 0.6497605452201143, 'recall': 0.6445424791866297, 'f1-score': 0.6414989514012481, 'support': 7500}, 'weighted avg': {'precision': 0.6497241603733038, 'recall': 0.6446666666666667, 'f1-score': 0.6415438835326726, 'support': 7500}}\n"
     ]
    }
   ],
   "source": [
    "model = Sequential(name=\"W2v-RNN\")\n",
    "\n",
    "# Keras Embedding layer with Word2Vec weights initialization\n",
    "model.add(Embedding(input_dim=vocab_size,\n",
    "                    output_dim=embedding_size,\n",
    "                    weights=[w2v_weights],\n",
    "                    input_length=MAX_SEQUENCE_LENGTH,\n",
    "                    mask_zero=True,\n",
    "                    trainable=False))\n",
    "\n",
    "model.add(SimpleRNN(units=32))\n",
    "model.add(Dense(16,activation='relu'))\n",
    "model.add(Dropout(0.50))\n",
    "model.add(Dense(16,activation='relu'))\n",
    "model.add(Dropout(0.20))\n",
    "model.add(Dense(2,activation='sigmoid'))  # sigmod for bin. classification.\n",
    "\n",
    "# model.compile(optimizer=keras.optimizers.RMSprop(lr=1e-3),loss='binary_crossentropy',metrics=['accuracy'])\n",
    "# history = model.fit(train_x,train_y,epochs=5,batch_size=64,validation_data=(val_x, val_y))\n",
    "\n",
    "\n",
    "model.compile(optimizer='adam', loss='sparse_categorical_crossentropy', metrics=['accuracy'])\n",
    "print(model.summary())\n",
    "history_w2v_rnn = model.fit(X_train, y_train, epochs=10, batch_size=64,\n",
    "                    validation_data=(X_test, y_test), verbose=1)\n",
    "plot(history_w2v_rnn, \"word2vec RNN\")\n",
    "y_hat = model.predict(X_test)\n",
    "\n",
    "# w2v_rnn_acc = accuracy_score(list(map(lambda x: np.argmax(x), y_test)), list(map(lambda x: np.argmax(x), y_hat)))\n",
    "# glove_lstm_acc = accuracy_score(y_test, y_hat)\n",
    "w2v_rnn_acc = classification_report(y_test, np.argmax(y_hat, axis=1), output_dict=True)\n",
    "print(\"word2vec + RNN accuracy:\\n \")\n",
    "\n",
    "print(w2v_rnn_acc)\n"
   ]
  },
  {
   "cell_type": "markdown",
   "id": "7929a52c-b459-45c9-9235-9fcff59dd3f2",
   "metadata": {
    "tags": []
   },
   "source": [
    "## Word2Vec (CBoW) + LSTM (2.c.)"
   ]
  },
  {
   "cell_type": "code",
   "execution_count": 38,
   "id": "cd038e65-3fcd-4e6f-977a-8c092dbbc6d6",
   "metadata": {
    "execution": {
     "iopub.execute_input": "2022-11-25T05:02:37.517750Z",
     "iopub.status.busy": "2022-11-25T05:02:37.517302Z",
     "iopub.status.idle": "2022-11-25T05:09:54.347925Z",
     "shell.execute_reply": "2022-11-25T05:09:54.347179Z",
     "shell.execute_reply.started": "2022-11-25T05:02:37.517684Z"
    },
    "tags": []
   },
   "outputs": [
    {
     "name": "stdout",
     "output_type": "stream",
     "text": [
      "Model: \"word2vec-lstm\"\n",
      "_________________________________________________________________\n",
      " Layer (type)                Output Shape              Param #   \n",
      "=================================================================\n",
      " embedding_1 (Embedding)     (None, 100, 100)          2933700   \n",
      "                                                                 \n",
      " spatial_dropout1d (SpatialD  (None, 100, 100)         0         \n",
      " ropout1D)                                                       \n",
      "                                                                 \n",
      " bidirectional (Bidirectiona  (None, 200)              160800    \n",
      " l)                                                              \n",
      "                                                                 \n",
      " dropout_2 (Dropout)         (None, 200)               0         \n",
      "                                                                 \n",
      " dense_3 (Dense)             (None, 2)                 402       \n",
      "                                                                 \n",
      "=================================================================\n",
      "Total params: 3,094,902\n",
      "Trainable params: 161,202\n",
      "Non-trainable params: 2,933,700\n",
      "_________________________________________________________________\n",
      "None\n",
      "Epoch 1/5\n",
      "665/665 [==============================] - 88s 124ms/step - loss: 0.4928 - accuracy: 0.7587 - val_loss: 0.4393 - val_accuracy: 0.7979\n",
      "Epoch 2/5\n",
      "665/665 [==============================] - 84s 126ms/step - loss: 0.4245 - accuracy: 0.8037 - val_loss: 0.4131 - val_accuracy: 0.8200\n",
      "Epoch 3/5\n",
      "665/665 [==============================] - 85s 127ms/step - loss: 0.3963 - accuracy: 0.8196 - val_loss: 0.4020 - val_accuracy: 0.8201\n",
      "Epoch 4/5\n",
      "665/665 [==============================] - 84s 127ms/step - loss: 0.3748 - accuracy: 0.8319 - val_loss: 0.3930 - val_accuracy: 0.8268\n",
      "Epoch 5/5\n",
      "665/665 [==============================] - 85s 127ms/step - loss: 0.3531 - accuracy: 0.8428 - val_loss: 0.4104 - val_accuracy: 0.8243\n"
     ]
    },
    {
     "data": {
      "image/png": "[encoded data removed]",
      "text/plain": [
       "<Figure size 864x864 with 1 Axes>"
      ]
     },
     "metadata": {
      "needs_background": "light"
     },
     "output_type": "display_data"
    },
    {
     "data": {
      "image/png": "[encoded data removed]",
      "text/plain": [
       "<Figure size 864x864 with 1 Axes>"
      ]
     },
     "metadata": {
      "needs_background": "light"
     },
     "output_type": "display_data"
    },
    {
     "name": "stdout",
     "output_type": "stream",
     "text": [
      "235/235 [==============================] - 9s 29ms/step\n",
      "word2vec + LSTM accuracy:\n",
      "{'0': {'precision': 0.8660258335836588, 'recall': 0.7677762982689748, 'f1-score': 0.8139469226425748, 'support': 3755}, '1': {'precision': 0.790937425077919, 'recall': 0.8809078771695594, 'f1-score': 0.8335017685699849, 'support': 3745}, 'accuracy': 0.8242666666666667, 'macro avg': {'precision': 0.8284816293307888, 'recall': 0.8243420877192671, 'f1-score': 0.8237243456062799, 'support': 7500}, 'weighted avg': {'precision': 0.8285316882697927, 'recall': 0.8242666666666667, 'f1-score': 0.8237113090423283, 'support': 7500}}\n"
     ]
    }
   ],
   "source": [
    "model = Sequential(name=\"word2vec-lstm\")\n",
    "model.add(Embedding(input_dim=vocab_size,\n",
    "                    output_dim=embedding_size,\n",
    "                    weights=[w2v_weights],\n",
    "                    input_length=MAX_SEQUENCE_LENGTH,\n",
    "                    mask_zero=True,\n",
    "                    trainable=False))\n",
    "model.add(SpatialDropout1D(0.2))\n",
    "model.add(Bidirectional(LSTM(100)))\n",
    "# model.add(Bidirectional(LSTM(32)))\n",
    "model.add(Dropout(0.25))\n",
    "model.add(Dense(units=2, activation='sigmoid'))\n",
    "model.compile(loss = 'sparse_categorical_crossentropy', optimizer='adam',metrics = ['accuracy'])\n",
    "print(model.summary())\n",
    "history_w2v_lstm = model.fit(X_train, y_train, epochs=5, batch_size=64,\n",
    "                    validation_data=(X_test, y_test), verbose=1)\n",
    "plot(history_w2v_lstm, \"word2vec LSTM\")\n",
    "y_hat = model.predict(X_test)\n",
    "# w2v_lstm_acc = accuracy_score(list(map(lambda x: np.argmax(x), y_test)), list(map(lambda x: np.argmax(x), y_hat)))\n",
    "# glove_lstm_acc = accuracy_score(y_test, y_hat)\n",
    "print(\"word2vec + LSTM accuracy:\")\n",
    "w2v_lstm_acc = classification_report(y_test, np.argmax(y_hat, axis=1), output_dict=True)\n",
    "print(w2v_lstm_acc)\n"
   ]
  },
  {
   "cell_type": "markdown",
   "id": "e5704e25-22b1-408e-830c-8a39d4560f1e",
   "metadata": {
    "tags": []
   },
   "source": [
    "## Glove + RNN (2.d.)"
   ]
  },
  {
   "cell_type": "code",
   "execution_count": 39,
   "id": "92870c66-1737-4844-adb1-251cec2c7923",
   "metadata": {
    "execution": {
     "iopub.execute_input": "2022-11-25T05:09:54.349227Z",
     "iopub.status.busy": "2022-11-25T05:09:54.348862Z",
     "iopub.status.idle": "2022-11-25T05:09:55.207700Z",
     "shell.execute_reply": "2022-11-25T05:09:55.207050Z",
     "shell.execute_reply.started": "2022-11-25T05:09:54.349198Z"
    },
    "tags": []
   },
   "outputs": [
    {
     "name": "stdout",
     "output_type": "stream",
     "text": [
      "mean length of sentence: 231.14594\n",
      "max length of sentence: 2470\n",
      "std dev length of sentence: 171.32641902623635\n"
     ]
    }
   ],
   "source": [
    "df['l'] = df.iloc[:, 0].apply(lambda x: len(str(x).split(' ')))\n",
    "print(\"mean length of sentence: \" + str(df.l.mean()))\n",
    "print(\"max length of sentence: \" + str(df.l.max()))\n",
    "print(\"std dev length of sentence: \" + str(df.l.std()))"
   ]
  },
  {
   "cell_type": "code",
   "execution_count": 40,
   "id": "c3619e4c-67da-4a60-b93a-c533fd3b23e3",
   "metadata": {
    "execution": {
     "iopub.execute_input": "2022-11-25T05:09:55.209182Z",
     "iopub.status.busy": "2022-11-25T05:09:55.208872Z",
     "iopub.status.idle": "2022-11-25T05:10:12.699430Z",
     "shell.execute_reply": "2022-11-25T05:10:12.698487Z",
     "shell.execute_reply.started": "2022-11-25T05:09:55.209151Z"
    },
    "tags": []
   },
   "outputs": [
    {
     "name": "stdout",
     "output_type": "stream",
     "text": [
      "test set size 5000\n"
     ]
    }
   ],
   "source": [
    "# code for Glove word embedding\n",
    "\n",
    "\n",
    "sequence_length = 100\n",
    "max_features = 20000 # this is the number of words we care about\n",
    "\n",
    "tokenizer = Tokenizer(num_words=max_features, split=' ', oov_token='<unw>', filters=' ')\n",
    "tokenizer.fit_on_texts(df.clean_detokenized.values)\n",
    "\n",
    "# this takes our sentences and replaces each word with an integer\n",
    "X = tokenizer.texts_to_sequences(df.clean_detokenized.values)\n",
    "\n",
    "# we then pad the sequences so they're all the same length (sequence_length)\n",
    "X = pad_sequences(X, sequence_length)\n",
    "\n",
    "y = pd.get_dummies(df['sentiment']).values\n",
    "\n",
    "# lets keep a couple of thousand samples back as a test set\n",
    "X_train, X_test, y_train, y_test = train_test_split(X, y, test_size=0.1)\n",
    "\n",
    "print(\"test set size \" + str(len(X_test)))\n",
    "\n",
    "\n",
    "embeddings_index = {}\n",
    "f = open( 'glove.6B/glove.6B.100d.txt')\n",
    "for line in f:\n",
    "    values = line.split()\n",
    "    word = values[0]\n",
    "    coefs = np.asarray(values[1:], dtype='float32')\n",
    "    embeddings_index[word] = coefs\n",
    "f.close()\n",
    "\n",
    "\n",
    "# print(\"Dense vector for first word is => \",\n",
    "\t# embedding_matrix_vocab[1])\n"
   ]
  },
  {
   "cell_type": "code",
   "execution_count": 41,
   "id": "c35661b7-3520-4332-8dc5-67413aa73901",
   "metadata": {
    "execution": {
     "iopub.execute_input": "2022-11-25T05:10:12.701048Z",
     "iopub.status.busy": "2022-11-25T05:10:12.700516Z",
     "iopub.status.idle": "2022-11-25T05:10:12.814236Z",
     "shell.execute_reply": "2022-11-25T05:10:12.813229Z",
     "shell.execute_reply.started": "2022-11-25T05:10:12.701019Z"
    },
    "tags": []
   },
   "outputs": [
    {
     "name": "stdout",
     "output_type": "stream",
     "text": [
      "Found 182120 unique tokens.\n",
      "20001\n"
     ]
    }
   ],
   "source": [
    "word_index = tokenizer.word_index\n",
    "print('Found %s unique tokens.' % len(word_index))\n",
    "\n",
    "num_words = min(max_features, len(word_index)) +1\n",
    "print(num_words)\n",
    "\n",
    "embedding_dim = 100\n",
    "\n",
    "# first create a matrix of zeros, this is our embedding matrix\n",
    "embedding_matrix = np.zeros((num_words, embedding_dim))\n",
    "\n",
    "# for each word in out tokenizer lets try to find that work in our w2v model\n",
    "for word, i in word_index.items():\n",
    "    if i > max_features:\n",
    "        continue\n",
    "    embedding_vector = embeddings_index.get(word)\n",
    "    if embedding_vector is not None:\n",
    "        # we found the word - add that words vector to the matrix\n",
    "        embedding_matrix[i] = embedding_vector\n",
    "    else:\n",
    "        # doesn't exist, assign a random vector\n",
    "        embedding_matrix[i] = np.random.randn(embedding_dim)"
   ]
  },
  {
   "cell_type": "code",
   "execution_count": 42,
   "id": "f5ce7b44-10c7-4a00-969f-8e949bcda23d",
   "metadata": {
    "execution": {
     "iopub.execute_input": "2022-11-25T05:10:12.816386Z",
     "iopub.status.busy": "2022-11-25T05:10:12.815619Z",
     "iopub.status.idle": "2022-11-25T05:10:12.828774Z",
     "shell.execute_reply": "2022-11-25T05:10:12.827456Z",
     "shell.execute_reply.started": "2022-11-25T05:10:12.816358Z"
    }
   },
   "outputs": [
    {
     "data": {
      "text/plain": [
       "(20001, 100)"
      ]
     },
     "execution_count": 42,
     "metadata": {},
     "output_type": "execute_result"
    }
   ],
   "source": [
    "embedding_matrix.shape"
   ]
  },
  {
   "cell_type": "code",
   "execution_count": 43,
   "id": "f4e01fc2-65b8-4f57-b742-de60ccae6d76",
   "metadata": {
    "execution": {
     "iopub.execute_input": "2022-11-25T05:10:12.830841Z",
     "iopub.status.busy": "2022-11-25T05:10:12.830081Z",
     "iopub.status.idle": "2022-11-25T05:10:16.633373Z",
     "shell.execute_reply": "2022-11-25T05:10:16.632447Z",
     "shell.execute_reply.started": "2022-11-25T05:10:12.830800Z"
    },
    "tags": []
   },
   "outputs": [],
   "source": [
    "from keras.datasets import imdb\n",
    "((xtrain,ytrain),(xtest,ytest)) = imdb.load_data(num_words=10000)"
   ]
  },
  {
   "cell_type": "code",
   "execution_count": 44,
   "id": "4035385c-2f2f-4667-ae01-9e62c3fad061",
   "metadata": {
    "execution": {
     "iopub.execute_input": "2022-11-25T05:10:16.634790Z",
     "iopub.status.busy": "2022-11-25T05:10:16.634439Z",
     "iopub.status.idle": "2022-11-25T05:10:27.761065Z",
     "shell.execute_reply": "2022-11-25T05:10:27.760128Z",
     "shell.execute_reply.started": "2022-11-25T05:10:16.634759Z"
    },
    "tags": []
   },
   "outputs": [],
   "source": [
    "glove_dir = 'glove.6B/glove.6B.100d.txt'\n",
    "\n",
    "embedings = {}\n",
    "with open(glove_dir) as f:\n",
    "    data = f.readlines()\n",
    "    \n",
    "embeddings = {}\n",
    "for line in data:\n",
    "    word = line.split()[0]\n",
    "    embeddings[word] = np.asarray(line.split()[1:],dtype='float32')"
   ]
  },
  {
   "cell_type": "code",
   "execution_count": 45,
   "id": "3185b19c-7371-491b-af03-cbf6e9dc2dd3",
   "metadata": {
    "execution": {
     "iopub.execute_input": "2022-11-25T05:10:27.762420Z",
     "iopub.status.busy": "2022-11-25T05:10:27.762135Z",
     "iopub.status.idle": "2022-11-25T05:10:33.809772Z",
     "shell.execute_reply": "2022-11-25T05:10:33.808857Z",
     "shell.execute_reply.started": "2022-11-25T05:10:27.762392Z"
    },
    "tags": []
   },
   "outputs": [],
   "source": [
    "max_features = 10000\n",
    "max_len = 1000\n",
    "((xtrain,ytrain),(xtest,ytest)) = imdb.load_data(num_words=max_features)\n",
    "xtrain = pad_sequences(xtrain,maxlen=max_len)\n",
    "xtest = pad_sequences(xtest,maxlen=max_len)"
   ]
  },
  {
   "cell_type": "code",
   "execution_count": 46,
   "id": "cbd7ed09-2b49-481f-918a-2bea86b2ed63",
   "metadata": {
    "execution": {
     "iopub.execute_input": "2022-11-25T05:10:33.811345Z",
     "iopub.status.busy": "2022-11-25T05:10:33.810821Z",
     "iopub.status.idle": "2022-11-25T05:10:33.871178Z",
     "shell.execute_reply": "2022-11-25T05:10:33.870289Z",
     "shell.execute_reply.started": "2022-11-25T05:10:33.811318Z"
    },
    "tags": []
   },
   "outputs": [],
   "source": [
    "embedding_matrix = np.zeros((max_features,embedding_dim))\n",
    "for word, i in word_index.items():\n",
    "    if i < max_features:\n",
    "        \n",
    "        embedding_vector = embeddings.get(word)\n",
    "        if embedding_vector is not None:\n",
    "            # we found the word - add that words vector to the matrix\n",
    "            embedding_matrix[i] = embedding_vector\n",
    "   "
   ]
  },
  {
   "cell_type": "code",
   "execution_count": 47,
   "id": "3cffb137-b85f-4997-9c0d-0587fb612267",
   "metadata": {
    "execution": {
     "iopub.execute_input": "2022-11-25T05:10:33.872480Z",
     "iopub.status.busy": "2022-11-25T05:10:33.872184Z",
     "iopub.status.idle": "2022-11-25T05:17:40.291437Z",
     "shell.execute_reply": "2022-11-25T05:17:40.290649Z",
     "shell.execute_reply.started": "2022-11-25T05:10:33.872454Z"
    },
    "tags": []
   },
   "outputs": [
    {
     "name": "stdout",
     "output_type": "stream",
     "text": [
      "Epoch 1/5\n",
      "391/391 [==============================] - 80s 202ms/step - loss: 0.6921 - accuracy: 0.5375 - val_loss: 0.6741 - val_accuracy: 0.5568\n",
      "Epoch 2/5\n",
      "391/391 [==============================] - 79s 201ms/step - loss: 0.6616 - accuracy: 0.5774 - val_loss: 0.6564 - val_accuracy: 0.5859\n",
      "Epoch 3/5\n",
      "391/391 [==============================] - 79s 201ms/step - loss: 0.6448 - accuracy: 0.6016 - val_loss: 0.6432 - val_accuracy: 0.6017\n",
      "Epoch 4/5\n",
      "391/391 [==============================] - 78s 200ms/step - loss: 0.6281 - accuracy: 0.6220 - val_loss: 0.6694 - val_accuracy: 0.5784\n",
      "Epoch 5/5\n",
      "391/391 [==============================] - 79s 201ms/step - loss: 0.6163 - accuracy: 0.6408 - val_loss: 0.6178 - val_accuracy: 0.6373\n"
     ]
    },
    {
     "data": {
      "image/png": "[encoded data removed]",
      "text/plain": [
       "<Figure size 864x864 with 1 Axes>"
      ]
     },
     "metadata": {
      "needs_background": "light"
     },
     "output_type": "display_data"
    },
    {
     "data": {
      "image/png": "[encoded data removed]",
      "text/plain": [
       "<Figure size 864x864 with 1 Axes>"
      ]
     },
     "metadata": {
      "needs_background": "light"
     },
     "output_type": "display_data"
    },
    {
     "name": "stdout",
     "output_type": "stream",
     "text": [
      "782/782 [==============================] - 32s 41ms/step\n",
      "Glove + RNN: \n",
      " 0.63252\n"
     ]
    }
   ],
   "source": [
    "n_categories = 2\n",
    "\n",
    "model = Sequential(name=\"Glove-RNN\")\n",
    "\n",
    "# Keras Embedding layer with glove initialization\n",
    "model.add(Embedding(max_features,\n",
    "                    100,\n",
    "                    input_length=max_len))\n",
    "\n",
    "model.add(SimpleRNN(units=32))\n",
    "# model.add(Dense(16,activation='relu'))\n",
    "# model.add(Dropout(0.50))\n",
    "# model.add(Dense(16,activation='relu'))\n",
    "# model.add(Dropout(0.20))\n",
    "model.add(Dense(2,activation='sigmoid'))  # sigmod for bin. classification.\n",
    "\n",
    "# model.compile(optimizer=keras.optimizers.RMSprop(lr=1e-3),loss='binary_crossentropy',metrics=['accuracy'])\n",
    "# history = model.fit(train_x,train_y,epochs=5,batch_size=64,validation_data=(val_x, val_y))\n",
    "model.layers[0].set_weights([embedding_matrix])\n",
    "model.layers[0].trainable = False\n",
    "model.compile(optimizer='adam', loss='sparse_categorical_crossentropy', metrics=['accuracy'])\n",
    "\n",
    "history_glove_rnn = model.fit(xtrain, ytrain, epochs=5, batch_size=64,\n",
    "                    validation_data=(xtest, ytest), verbose=1)\n",
    "plot(history_glove_rnn, \" Glove RNN\")\n",
    "y_hat = model.predict(xtest)\n",
    "glove_rnn_acc = accuracy_score(list(map(lambda x: np.argmax(x), ytest)), list(map(lambda x: np.argmax(x), y_hat)))\n",
    "\n",
    "# glove_rnn_acc = accuracy_score(y_test, y_hat)\n",
    "# glove_rnn_acc = classification_report(y_test, np.argmax(y_hat, axis=1), output_dict=True)\n",
    "print(\"Glove + RNN: \\n\", glove_rnn_acc)\n"
   ]
  },
  {
   "cell_type": "markdown",
   "id": "7b8c36bb-627d-4962-8096-81d7491ea37a",
   "metadata": {},
   "source": [
    "## Glove + LSTM (2.e.)"
   ]
  },
  {
   "cell_type": "code",
   "execution_count": 49,
   "id": "c799ae82-1716-4d0e-bc84-99b1b7fd39a8",
   "metadata": {
    "execution": {
     "iopub.execute_input": "2022-11-25T05:20:49.619526Z",
     "iopub.status.busy": "2022-11-25T05:20:49.619235Z",
     "iopub.status.idle": "2022-11-25T06:09:50.933201Z",
     "shell.execute_reply": "2022-11-25T06:09:50.932340Z",
     "shell.execute_reply.started": "2022-11-25T05:20:49.619498Z"
    },
    "tags": []
   },
   "outputs": [
    {
     "name": "stdout",
     "output_type": "stream",
     "text": [
      "Model: \"Glove-LSTM\"\n",
      "_________________________________________________________________\n",
      " Layer (type)                Output Shape              Param #   \n",
      "=================================================================\n",
      " embedding_4 (Embedding)     (None, 1000, 100)         1000000   \n",
      "                                                                 \n",
      " spatial_dropout1d_1 (Spatia  (None, 1000, 100)        0         \n",
      " lDropout1D)                                                     \n",
      "                                                                 \n",
      " bidirectional_1 (Bidirectio  (None, 200)              160800    \n",
      " nal)                                                            \n",
      "                                                                 \n",
      " dropout_3 (Dropout)         (None, 200)               0         \n",
      "                                                                 \n",
      " dense_5 (Dense)             (None, 2)                 402       \n",
      "                                                                 \n",
      "=================================================================\n",
      "Total params: 1,161,202\n",
      "Trainable params: 161,202\n",
      "Non-trainable params: 1,000,000\n",
      "_________________________________________________________________\n",
      "None\n",
      "Epoch 1/5\n",
      "391/391 [==============================] - 576s 1s/step - loss: 0.6745 - accuracy: 0.5691 - val_loss: 0.6464 - val_accuracy: 0.6156\n",
      "Epoch 2/5\n",
      "391/391 [==============================] - 557s 1s/step - loss: 0.6266 - accuracy: 0.6397 - val_loss: 0.5796 - val_accuracy: 0.6860\n",
      "Epoch 3/5\n",
      "391/391 [==============================] - 542s 1s/step - loss: 0.5729 - accuracy: 0.6924 - val_loss: 0.5210 - val_accuracy: 0.7411\n",
      "Epoch 4/5\n",
      "391/391 [==============================] - 540s 1s/step - loss: 0.5225 - accuracy: 0.7336 - val_loss: 0.4620 - val_accuracy: 0.7766\n",
      "Epoch 5/5\n",
      "391/391 [==============================] - 531s 1s/step - loss: 0.5158 - accuracy: 0.7428 - val_loss: 0.4483 - val_accuracy: 0.7860\n"
     ]
    },
    {
     "data": {
      "image/png": "[encoded data removed]",
      "text/plain": [
       "<Figure size 864x864 with 1 Axes>"
      ]
     },
     "metadata": {
      "needs_background": "light"
     },
     "output_type": "display_data"
    },
    {
     "data": {
      "image/png": "[encoded data removed]",
      "text/plain": [
       "<Figure size 864x864 with 1 Axes>"
      ]
     },
     "metadata": {
      "needs_background": "light"
     },
     "output_type": "display_data"
    },
    {
     "name": "stdout",
     "output_type": "stream",
     "text": [
      "782/782 [==============================] - 194s 247ms/step\n",
      "Glove + LSTM 0.409\n"
     ]
    }
   ],
   "source": [
    "model = Sequential(name=\"Glove-LSTM\")\n",
    "model.add(Embedding(max_features,\n",
    "                    100,\n",
    "                    input_length=max_len))\n",
    "\n",
    "model.add(SpatialDropout1D(0.2))\n",
    "model.add(Bidirectional(LSTM(100)))\n",
    "# model.add(Bidirectional(LSTM(32)))\n",
    "model.add(Dropout(0.25))\n",
    "model.add(Dense(units=2, activation='sigmoid'))\n",
    "model.layers[0].set_weights([embedding_matrix])\n",
    "model.layers[0].trainable = False\n",
    "model.compile(optimizer='adam', loss='sparse_categorical_crossentropy', metrics=['accuracy'])\n",
    "print(model.summary())\n",
    "history_glove_lstm = model.fit(xtrain, ytrain, epochs=5, batch_size=64,\n",
    "                    validation_data=(xtest, ytest), verbose=1)\n",
    "plot(history_glove_lstm, \"Glove LSTM\")\n",
    "y_hat = model.predict(xtest)\n",
    "# glove_lstm_acc = accuracy_score(list(map(lambda x: np.argmax(x), y_test)), list(map(lambda x: np.argmax(x), y_hat)))\n",
    "# glove_lstm_acc = accuracy_score(y_test, y_hat)\n",
    "# glove_lstm_acc = classification_report(y_test, np.argmax(y_hat, axis=1), output_dict=True)\n",
    "glove_lstm_acc = accuracy_score(list(map(lambda x: np.argmax(x), ytest)), list(map(lambda x: np.argmax(x), y_hat)))\n",
    "print(\"Glove + LSTM\", glove_lstm_acc)"
   ]
  },
  {
   "cell_type": "code",
   "execution_count": 50,
   "id": "68e47979-1b6e-4e70-acf3-7b9ce3c10c37",
   "metadata": {
    "execution": {
     "iopub.execute_input": "2022-11-25T06:09:50.935691Z",
     "iopub.status.busy": "2022-11-25T06:09:50.935262Z",
     "iopub.status.idle": "2022-11-25T06:09:51.334530Z",
     "shell.execute_reply": "2022-11-25T06:09:51.332262Z",
     "shell.execute_reply.started": "2022-11-25T06:09:50.935654Z"
    },
    "tags": []
   },
   "outputs": [
    {
     "data": {
      "text/html": [
       "<div>\n",
       "<style scoped>\n",
       "    .dataframe tbody tr th:only-of-type {\n",
       "        vertical-align: middle;\n",
       "    }\n",
       "\n",
       "    .dataframe tbody tr th {\n",
       "        vertical-align: top;\n",
       "    }\n",
       "\n",
       "    .dataframe thead th {\n",
       "        text-align: right;\n",
       "    }\n",
       "</style>\n",
       "<table border=\"1\" class=\"dataframe\">\n",
       "  <thead>\n",
       "    <tr style=\"text-align: right;\">\n",
       "      <th></th>\n",
       "      <th>TFIDF + SVM acc</th>\n",
       "      <th>w2vec + RNN acc</th>\n",
       "      <th>w2vec + LSTM acc</th>\n",
       "      <th>Glove + RNN acc</th>\n",
       "      <th>Glove + LSTM acc</th>\n",
       "    </tr>\n",
       "  </thead>\n",
       "  <tbody>\n",
       "    <tr>\n",
       "      <th>Accuracy</th>\n",
       "      <td>0.95224</td>\n",
       "      <td>0.644667</td>\n",
       "      <td>0.824267</td>\n",
       "      <td>0.63252</td>\n",
       "      <td>0.409</td>\n",
       "    </tr>\n",
       "  </tbody>\n",
       "</table>\n",
       "</div>"
      ],
      "text/plain": [
       "          TFIDF + SVM acc  w2vec + RNN acc  w2vec + LSTM acc  Glove + RNN acc  \\\n",
       "Accuracy          0.95224         0.644667          0.824267          0.63252   \n",
       "\n",
       "          Glove + LSTM acc  \n",
       "Accuracy             0.409  "
      ]
     },
     "execution_count": 50,
     "metadata": {},
     "output_type": "execute_result"
    }
   ],
   "source": [
    "data = {'TFIDF + SVM acc': svm_acc, 'w2vec + RNN acc': w2v_rnn_acc['accuracy'], 'w2vec + LSTM acc': w2v_lstm_acc['accuracy'], 'Glove + RNN acc': glove_rnn_acc, 'Glove + LSTM acc': glove_lstm_acc}\n",
    "pd.DataFrame(data, index=['Accuracy'])"
   ]
  },
  {
   "cell_type": "code",
   "execution_count": 51,
   "id": "682f86d4-5510-4d5e-82df-c35ad7387b49",
   "metadata": {
    "execution": {
     "iopub.execute_input": "2022-11-25T06:09:51.337425Z",
     "iopub.status.busy": "2022-11-25T06:09:51.336820Z",
     "iopub.status.idle": "2022-11-25T06:09:51.764300Z",
     "shell.execute_reply": "2022-11-25T06:09:51.763564Z",
     "shell.execute_reply.started": "2022-11-25T06:09:51.337394Z"
    },
    "tags": []
   },
   "outputs": [
    {
     "data": {
      "text/html": [
       "<div>\n",
       "<style scoped>\n",
       "    .dataframe tbody tr th:only-of-type {\n",
       "        vertical-align: middle;\n",
       "    }\n",
       "\n",
       "    .dataframe tbody tr th {\n",
       "        vertical-align: top;\n",
       "    }\n",
       "\n",
       "    .dataframe thead th {\n",
       "        text-align: right;\n",
       "    }\n",
       "</style>\n",
       "<table border=\"1\" class=\"dataframe\">\n",
       "  <thead>\n",
       "    <tr style=\"text-align: right;\">\n",
       "      <th></th>\n",
       "      <th>review</th>\n",
       "      <th>sentiment</th>\n",
       "      <th>review_lower</th>\n",
       "      <th>remove_html</th>\n",
       "      <th>punc_removed</th>\n",
       "      <th>tokenized</th>\n",
       "      <th>remove_stop_words</th>\n",
       "      <th>stemmed</th>\n",
       "      <th>lemmatized</th>\n",
       "      <th>clean_detokenized</th>\n",
       "      <th>review_vectorized</th>\n",
       "      <th>sentiment_encode</th>\n",
       "      <th>l</th>\n",
       "    </tr>\n",
       "  </thead>\n",
       "  <tbody>\n",
       "    <tr>\n",
       "      <th>0</th>\n",
       "      <td>One of the other reviewers has mentioned that ...</td>\n",
       "      <td>positive</td>\n",
       "      <td>one of the other reviewers has mentioned that ...</td>\n",
       "      <td>one of the other reviewers has mentioned that ...</td>\n",
       "      <td>one of the other reviewers has mentioned that ...</td>\n",
       "      <td>[one, of, the, other, reviewers, has, mentione...</td>\n",
       "      <td>[one, reviewers, mentioned, watching, 1, oz, e...</td>\n",
       "      <td>[one, review, mention, watch, 1, oz, episod, y...</td>\n",
       "      <td>[one, review, mention, watch, 1, oz, episod, y...</td>\n",
       "      <td>one review mention watch 1 oz episod youll hoo...</td>\n",
       "      <td>(0, 144222)\\t0.04834021644705482\\n  (0, 4012...</td>\n",
       "      <td>1</td>\n",
       "      <td>307</td>\n",
       "    </tr>\n",
       "    <tr>\n",
       "      <th>1</th>\n",
       "      <td>A wonderful little production. &lt;br /&gt;&lt;br /&gt;The...</td>\n",
       "      <td>positive</td>\n",
       "      <td>a wonderful little production. &lt;br /&gt;&lt;br /&gt;the...</td>\n",
       "      <td>a wonderful little production. the filming tec...</td>\n",
       "      <td>a wonderful little production the filming tech...</td>\n",
       "      <td>[a, wonderful, little, production, the, filmin...</td>\n",
       "      <td>[wonderful, little, production, filming, techn...</td>\n",
       "      <td>[wonder, littl, product, film, techniqu, unass...</td>\n",
       "      <td>[wonder, littl, product, film, techniqu, unass...</td>\n",
       "      <td>wonder littl product film techniqu unassum old...</td>\n",
       "      <td>(0, 144222)\\t0.04834021644705482\\n  (0, 4012...</td>\n",
       "      <td>1</td>\n",
       "      <td>162</td>\n",
       "    </tr>\n",
       "    <tr>\n",
       "      <th>2</th>\n",
       "      <td>I thought this was a wonderful way to spend ti...</td>\n",
       "      <td>positive</td>\n",
       "      <td>i thought this was a wonderful way to spend ti...</td>\n",
       "      <td>i thought this was wonderful way to spend time...</td>\n",
       "      <td>i thought this was wonderful way to spend time...</td>\n",
       "      <td>[i, thought, this, was, wonderful, way, to, sp...</td>\n",
       "      <td>[thought, wonderful, way, spend, time, hot, su...</td>\n",
       "      <td>[thought, wonder, way, spend, time, hot, summe...</td>\n",
       "      <td>[thought, wonder, way, spend, time, hot, summe...</td>\n",
       "      <td>thought wonder way spend time hot summer weeke...</td>\n",
       "      <td>(0, 144222)\\t0.04834021644705482\\n  (0, 4012...</td>\n",
       "      <td>1</td>\n",
       "      <td>166</td>\n",
       "    </tr>\n",
       "    <tr>\n",
       "      <th>3</th>\n",
       "      <td>Basically there's a family where a little boy ...</td>\n",
       "      <td>negative</td>\n",
       "      <td>basically there's a family where a little boy ...</td>\n",
       "      <td>basically there's family where little boy (jak...</td>\n",
       "      <td>basically theres family where little boy jake ...</td>\n",
       "      <td>[basically, theres, family, where, little, boy...</td>\n",
       "      <td>[basically, theres, family, little, boy, jake,...</td>\n",
       "      <td>[basic, there, famili, littl, boy, jake, think...</td>\n",
       "      <td>[basic, there, famili, littl, boy, jake, think...</td>\n",
       "      <td>basic there famili littl boy jake think there ...</td>\n",
       "      <td>(0, 144222)\\t0.04834021644705482\\n  (0, 4012...</td>\n",
       "      <td>0</td>\n",
       "      <td>138</td>\n",
       "    </tr>\n",
       "    <tr>\n",
       "      <th>4</th>\n",
       "      <td>Petter Mattei's \"Love in the Time of Money\" is...</td>\n",
       "      <td>positive</td>\n",
       "      <td>petter mattei's \"love in the time of money\" is...</td>\n",
       "      <td>petter mattei's \"love in the time of money\" is...</td>\n",
       "      <td>petter matteis love in the time of money is vi...</td>\n",
       "      <td>[petter, matteis, love, in, the, time, of, mon...</td>\n",
       "      <td>[petter, matteis, love, time, money, visually,...</td>\n",
       "      <td>[petter, mattei, love, time, money, visual, st...</td>\n",
       "      <td>[petter, mattei, love, time, money, visual, st...</td>\n",
       "      <td>petter mattei love time money visual stun film...</td>\n",
       "      <td>(0, 144222)\\t0.04834021644705482\\n  (0, 4012...</td>\n",
       "      <td>1</td>\n",
       "      <td>230</td>\n",
       "    </tr>\n",
       "  </tbody>\n",
       "</table>\n",
       "</div>"
      ],
      "text/plain": [
       "                                              review sentiment  \\\n",
       "0  One of the other reviewers has mentioned that ...  positive   \n",
       "1  A wonderful little production. <br /><br />The...  positive   \n",
       "2  I thought this was a wonderful way to spend ti...  positive   \n",
       "3  Basically there's a family where a little boy ...  negative   \n",
       "4  Petter Mattei's \"Love in the Time of Money\" is...  positive   \n",
       "\n",
       "                                        review_lower  \\\n",
       "0  one of the other reviewers has mentioned that ...   \n",
       "1  a wonderful little production. <br /><br />the...   \n",
       "2  i thought this was a wonderful way to spend ti...   \n",
       "3  basically there's a family where a little boy ...   \n",
       "4  petter mattei's \"love in the time of money\" is...   \n",
       "\n",
       "                                         remove_html  \\\n",
       "0  one of the other reviewers has mentioned that ...   \n",
       "1  a wonderful little production. the filming tec...   \n",
       "2  i thought this was wonderful way to spend time...   \n",
       "3  basically there's family where little boy (jak...   \n",
       "4  petter mattei's \"love in the time of money\" is...   \n",
       "\n",
       "                                        punc_removed  \\\n",
       "0  one of the other reviewers has mentioned that ...   \n",
       "1  a wonderful little production the filming tech...   \n",
       "2  i thought this was wonderful way to spend time...   \n",
       "3  basically theres family where little boy jake ...   \n",
       "4  petter matteis love in the time of money is vi...   \n",
       "\n",
       "                                           tokenized  \\\n",
       "0  [one, of, the, other, reviewers, has, mentione...   \n",
       "1  [a, wonderful, little, production, the, filmin...   \n",
       "2  [i, thought, this, was, wonderful, way, to, sp...   \n",
       "3  [basically, theres, family, where, little, boy...   \n",
       "4  [petter, matteis, love, in, the, time, of, mon...   \n",
       "\n",
       "                                   remove_stop_words  \\\n",
       "0  [one, reviewers, mentioned, watching, 1, oz, e...   \n",
       "1  [wonderful, little, production, filming, techn...   \n",
       "2  [thought, wonderful, way, spend, time, hot, su...   \n",
       "3  [basically, theres, family, little, boy, jake,...   \n",
       "4  [petter, matteis, love, time, money, visually,...   \n",
       "\n",
       "                                             stemmed  \\\n",
       "0  [one, review, mention, watch, 1, oz, episod, y...   \n",
       "1  [wonder, littl, product, film, techniqu, unass...   \n",
       "2  [thought, wonder, way, spend, time, hot, summe...   \n",
       "3  [basic, there, famili, littl, boy, jake, think...   \n",
       "4  [petter, mattei, love, time, money, visual, st...   \n",
       "\n",
       "                                          lemmatized  \\\n",
       "0  [one, review, mention, watch, 1, oz, episod, y...   \n",
       "1  [wonder, littl, product, film, techniqu, unass...   \n",
       "2  [thought, wonder, way, spend, time, hot, summe...   \n",
       "3  [basic, there, famili, littl, boy, jake, think...   \n",
       "4  [petter, mattei, love, time, money, visual, st...   \n",
       "\n",
       "                                   clean_detokenized  \\\n",
       "0  one review mention watch 1 oz episod youll hoo...   \n",
       "1  wonder littl product film techniqu unassum old...   \n",
       "2  thought wonder way spend time hot summer weeke...   \n",
       "3  basic there famili littl boy jake think there ...   \n",
       "4  petter mattei love time money visual stun film...   \n",
       "\n",
       "                                   review_vectorized  sentiment_encode    l  \n",
       "0    (0, 144222)\\t0.04834021644705482\\n  (0, 4012...                 1  307  \n",
       "1    (0, 144222)\\t0.04834021644705482\\n  (0, 4012...                 1  162  \n",
       "2    (0, 144222)\\t0.04834021644705482\\n  (0, 4012...                 1  166  \n",
       "3    (0, 144222)\\t0.04834021644705482\\n  (0, 4012...                 0  138  \n",
       "4    (0, 144222)\\t0.04834021644705482\\n  (0, 4012...                 1  230  "
      ]
     },
     "execution_count": 51,
     "metadata": {},
     "output_type": "execute_result"
    }
   ],
   "source": [
    "df.head()"
   ]
  },
  {
   "cell_type": "code",
   "execution_count": 52,
   "id": "98864129-ceaf-4836-bee1-0a6d9a3944fa",
   "metadata": {
    "execution": {
     "iopub.execute_input": "2022-11-25T06:09:51.768391Z",
     "iopub.status.busy": "2022-11-25T06:09:51.768143Z",
     "iopub.status.idle": "2022-11-25T06:09:51.774174Z",
     "shell.execute_reply": "2022-11-25T06:09:51.773475Z",
     "shell.execute_reply.started": "2022-11-25T06:09:51.768361Z"
    },
    "tags": []
   },
   "outputs": [],
   "source": [
    "X = df.clean_detokenized\n",
    "y = df.sentiment_encode"
   ]
  },
  {
   "cell_type": "code",
   "execution_count": 53,
   "id": "98515b56-b00a-4e63-a42f-e5046853dbfa",
   "metadata": {
    "execution": {
     "iopub.execute_input": "2022-11-25T06:09:51.776230Z",
     "iopub.status.busy": "2022-11-25T06:09:51.775650Z",
     "iopub.status.idle": "2022-11-25T06:09:51.825189Z",
     "shell.execute_reply": "2022-11-25T06:09:51.824120Z",
     "shell.execute_reply.started": "2022-11-25T06:09:51.776198Z"
    },
    "tags": []
   },
   "outputs": [],
   "source": [
    "X_train, X_test, y_train, y_test = train_test_split(X, y, test_size=0.20)"
   ]
  },
  {
   "cell_type": "code",
   "execution_count": 54,
   "id": "e2cc69e2-1c5a-4a74-8b7b-975b46b76fb9",
   "metadata": {
    "execution": {
     "iopub.execute_input": "2022-11-25T06:09:51.826650Z",
     "iopub.status.busy": "2022-11-25T06:09:51.826345Z",
     "iopub.status.idle": "2022-11-25T06:09:52.758526Z",
     "shell.execute_reply": "2022-11-25T06:09:52.757723Z",
     "shell.execute_reply.started": "2022-11-25T06:09:51.826621Z"
    },
    "tags": []
   },
   "outputs": [],
   "source": [
    "X_train=np.array(X_train.values.tolist())\n",
    "X_test=np.array(X_test.values.tolist())"
   ]
  },
  {
   "cell_type": "code",
   "execution_count": 55,
   "id": "806afb3a-005f-480c-9ce9-d71f15ceb1b6",
   "metadata": {
    "execution": {
     "iopub.execute_input": "2022-11-25T06:09:52.760240Z",
     "iopub.status.busy": "2022-11-25T06:09:52.759551Z",
     "iopub.status.idle": "2022-11-25T06:09:52.823410Z",
     "shell.execute_reply": "2022-11-25T06:09:52.822618Z",
     "shell.execute_reply.started": "2022-11-25T06:09:52.760161Z"
    },
    "tags": []
   },
   "outputs": [],
   "source": [
    "tokenizer = Tokenizer()"
   ]
  },
  {
   "cell_type": "code",
   "execution_count": 56,
   "id": "12fba2a4-bb89-451b-a65d-62cce657e4e4",
   "metadata": {
    "execution": {
     "iopub.execute_input": "2022-11-25T06:09:52.824653Z",
     "iopub.status.busy": "2022-11-25T06:09:52.824312Z",
     "iopub.status.idle": "2022-11-25T06:09:58.057903Z",
     "shell.execute_reply": "2022-11-25T06:09:58.057110Z",
     "shell.execute_reply.started": "2022-11-25T06:09:52.824628Z"
    },
    "tags": []
   },
   "outputs": [],
   "source": [
    "tokenizer.fit_on_texts(X_train)"
   ]
  },
  {
   "cell_type": "code",
   "execution_count": 57,
   "id": "bf619ca0-f362-41cc-93f3-4903382ef5b3",
   "metadata": {
    "execution": {
     "iopub.execute_input": "2022-11-25T06:09:58.059877Z",
     "iopub.status.busy": "2022-11-25T06:09:58.059648Z",
     "iopub.status.idle": "2022-11-25T06:09:58.079073Z",
     "shell.execute_reply": "2022-11-25T06:09:58.078202Z",
     "shell.execute_reply.started": "2022-11-25T06:09:58.059850Z"
    },
    "tags": []
   },
   "outputs": [],
   "source": [
    "word_index=tokenizer.word_index"
   ]
  },
  {
   "cell_type": "code",
   "execution_count": 58,
   "id": "473737f8-e7eb-46f4-860f-610818295fe8",
   "metadata": {
    "execution": {
     "iopub.execute_input": "2022-11-25T06:09:58.088477Z",
     "iopub.status.busy": "2022-11-25T06:09:58.088088Z",
     "iopub.status.idle": "2022-11-25T06:09:58.093565Z",
     "shell.execute_reply": "2022-11-25T06:09:58.092536Z",
     "shell.execute_reply.started": "2022-11-25T06:09:58.088435Z"
    },
    "tags": []
   },
   "outputs": [],
   "source": [
    "vocab_size = len(word_index)+1"
   ]
  },
  {
   "cell_type": "code",
   "execution_count": 59,
   "id": "d9dc4a9e-f573-48e0-85db-fcba7c58b53c",
   "metadata": {
    "execution": {
     "iopub.execute_input": "2022-11-25T06:09:58.095629Z",
     "iopub.status.busy": "2022-11-25T06:09:58.095194Z",
     "iopub.status.idle": "2022-11-25T06:10:02.814334Z",
     "shell.execute_reply": "2022-11-25T06:10:02.813405Z",
     "shell.execute_reply.started": "2022-11-25T06:09:58.095597Z"
    },
    "tags": []
   },
   "outputs": [],
   "source": [
    "X_train = tokenizer.texts_to_sequences(X_train)\n",
    "X_test = tokenizer.texts_to_sequences(X_test)"
   ]
  },
  {
   "cell_type": "markdown",
   "id": "c22051e9-5236-410d-98a3-f129afc0e2ca",
   "metadata": {},
   "source": [
    "## Keras Embedding Layer"
   ]
  },
  {
   "cell_type": "code",
   "execution_count": 60,
   "id": "3fad0749-dee1-4fe2-baf4-a6136d7b2b3f",
   "metadata": {
    "execution": {
     "iopub.execute_input": "2022-11-25T06:10:02.815909Z",
     "iopub.status.busy": "2022-11-25T06:10:02.815529Z",
     "iopub.status.idle": "2022-11-25T06:10:03.167421Z",
     "shell.execute_reply": "2022-11-25T06:10:03.166461Z",
     "shell.execute_reply.started": "2022-11-25T06:10:02.815883Z"
    },
    "tags": []
   },
   "outputs": [],
   "source": [
    "maxlen = 100\n",
    "X_train_pad = pad_sequences(X_train, padding='post', maxlen=maxlen)\n",
    "X_test_pad = pad_sequences(X_test, padding='post', maxlen=maxlen)"
   ]
  },
  {
   "cell_type": "code",
   "execution_count": 61,
   "id": "a262ff40-d019-48a2-bde9-7b08e33ccd91",
   "metadata": {
    "execution": {
     "iopub.execute_input": "2022-11-25T06:10:03.169128Z",
     "iopub.status.busy": "2022-11-25T06:10:03.168518Z",
     "iopub.status.idle": "2022-11-25T06:10:03.200585Z",
     "shell.execute_reply": "2022-11-25T06:10:03.199846Z",
     "shell.execute_reply.started": "2022-11-25T06:10:03.169096Z"
    },
    "tags": []
   },
   "outputs": [],
   "source": [
    "model = Sequential()\n",
    "# all words in the vocub will have 30-dimensional vector (word embedding)\n",
    "# you can initialize the weights of embedding parameters as we did for ANN/CNN\n",
    "embedding_layer = Embedding(vocab_size, 30,\n",
    "                            input_length=maxlen, \n",
    "                            embeddings_initializer='ones')\n",
    "\n",
    "model.add(embedding_layer)"
   ]
  },
  {
   "cell_type": "code",
   "execution_count": 62,
   "id": "67a980a0-9339-45f2-8c23-bd4bc93c6ba0",
   "metadata": {
    "execution": {
     "iopub.execute_input": "2022-11-25T06:10:03.202256Z",
     "iopub.status.busy": "2022-11-25T06:10:03.201875Z",
     "iopub.status.idle": "2022-11-25T06:10:03.208216Z",
     "shell.execute_reply": "2022-11-25T06:10:03.206394Z",
     "shell.execute_reply.started": "2022-11-25T06:10:03.202230Z"
    },
    "tags": []
   },
   "outputs": [],
   "source": [
    "#example: embedding the first review \n",
    "first_review_without_pad = X_train[0]\n",
    "first_review_with_pad = X_train_pad[0]"
   ]
  },
  {
   "cell_type": "code",
   "execution_count": 63,
   "id": "a3f0eaa8-a4ee-45da-9555-7c4b08215979",
   "metadata": {
    "execution": {
     "iopub.execute_input": "2022-11-25T06:10:03.211213Z",
     "iopub.status.busy": "2022-11-25T06:10:03.210186Z",
     "iopub.status.idle": "2022-11-25T06:10:03.426324Z",
     "shell.execute_reply": "2022-11-25T06:10:03.425601Z",
     "shell.execute_reply.started": "2022-11-25T06:10:03.211166Z"
    },
    "tags": []
   },
   "outputs": [
    {
     "name": "stdout",
     "output_type": "stream",
     "text": [
      "WARNING:tensorflow:Model was constructed with shape (None, 100) for input KerasTensor(type_spec=TensorSpec(shape=(None, 100), dtype=tf.float32, name='embedding_5_input'), name='embedding_5_input', description=\"created by layer 'embedding_5_input'\"), but it was called on an input with incompatible shape (None,).\n",
      "4/4 [==============================] - 0s 2ms/step\n",
      "WARNING:tensorflow:Model was constructed with shape (None, 100) for input KerasTensor(type_spec=TensorSpec(shape=(None, 100), dtype=tf.float32, name='embedding_5_input'), name='embedding_5_input', description=\"created by layer 'embedding_5_input'\"), but it was called on an input with incompatible shape (None,).\n",
      "4/4 [==============================] - 0s 1ms/step\n"
     ]
    }
   ],
   "source": [
    "output_1st_review_without_pad = model.predict(first_review_without_pad)\n",
    "output_1st_review_with_pad = model.predict(first_review_with_pad)"
   ]
  },
  {
   "cell_type": "code",
   "execution_count": 64,
   "id": "6102a957-0f81-40b3-93aa-914b03b18622",
   "metadata": {
    "execution": {
     "iopub.execute_input": "2022-11-25T06:10:03.427758Z",
     "iopub.status.busy": "2022-11-25T06:10:03.427336Z",
     "iopub.status.idle": "2022-11-25T06:10:03.467722Z",
     "shell.execute_reply": "2022-11-25T06:10:03.467025Z",
     "shell.execute_reply.started": "2022-11-25T06:10:03.427729Z"
    },
    "tags": []
   },
   "outputs": [
    {
     "data": {
      "text/html": [
       "<div>\n",
       "<style scoped>\n",
       "    .dataframe tbody tr th:only-of-type {\n",
       "        vertical-align: middle;\n",
       "    }\n",
       "\n",
       "    .dataframe tbody tr th {\n",
       "        vertical-align: top;\n",
       "    }\n",
       "\n",
       "    .dataframe thead th {\n",
       "        text-align: right;\n",
       "    }\n",
       "</style>\n",
       "<table border=\"1\" class=\"dataframe\">\n",
       "  <thead>\n",
       "    <tr style=\"text-align: right;\">\n",
       "      <th></th>\n",
       "      <th>0</th>\n",
       "      <th>1</th>\n",
       "      <th>2</th>\n",
       "      <th>3</th>\n",
       "      <th>4</th>\n",
       "      <th>5</th>\n",
       "      <th>6</th>\n",
       "      <th>7</th>\n",
       "      <th>8</th>\n",
       "      <th>9</th>\n",
       "      <th>...</th>\n",
       "      <th>20</th>\n",
       "      <th>21</th>\n",
       "      <th>22</th>\n",
       "      <th>23</th>\n",
       "      <th>24</th>\n",
       "      <th>25</th>\n",
       "      <th>26</th>\n",
       "      <th>27</th>\n",
       "      <th>28</th>\n",
       "      <th>29</th>\n",
       "    </tr>\n",
       "  </thead>\n",
       "  <tbody>\n",
       "    <tr>\n",
       "      <th>0</th>\n",
       "      <td>1.0</td>\n",
       "      <td>1.0</td>\n",
       "      <td>1.0</td>\n",
       "      <td>1.0</td>\n",
       "      <td>1.0</td>\n",
       "      <td>1.0</td>\n",
       "      <td>1.0</td>\n",
       "      <td>1.0</td>\n",
       "      <td>1.0</td>\n",
       "      <td>1.0</td>\n",
       "      <td>...</td>\n",
       "      <td>1.0</td>\n",
       "      <td>1.0</td>\n",
       "      <td>1.0</td>\n",
       "      <td>1.0</td>\n",
       "      <td>1.0</td>\n",
       "      <td>1.0</td>\n",
       "      <td>1.0</td>\n",
       "      <td>1.0</td>\n",
       "      <td>1.0</td>\n",
       "      <td>1.0</td>\n",
       "    </tr>\n",
       "    <tr>\n",
       "      <th>1</th>\n",
       "      <td>1.0</td>\n",
       "      <td>1.0</td>\n",
       "      <td>1.0</td>\n",
       "      <td>1.0</td>\n",
       "      <td>1.0</td>\n",
       "      <td>1.0</td>\n",
       "      <td>1.0</td>\n",
       "      <td>1.0</td>\n",
       "      <td>1.0</td>\n",
       "      <td>1.0</td>\n",
       "      <td>...</td>\n",
       "      <td>1.0</td>\n",
       "      <td>1.0</td>\n",
       "      <td>1.0</td>\n",
       "      <td>1.0</td>\n",
       "      <td>1.0</td>\n",
       "      <td>1.0</td>\n",
       "      <td>1.0</td>\n",
       "      <td>1.0</td>\n",
       "      <td>1.0</td>\n",
       "      <td>1.0</td>\n",
       "    </tr>\n",
       "    <tr>\n",
       "      <th>2</th>\n",
       "      <td>1.0</td>\n",
       "      <td>1.0</td>\n",
       "      <td>1.0</td>\n",
       "      <td>1.0</td>\n",
       "      <td>1.0</td>\n",
       "      <td>1.0</td>\n",
       "      <td>1.0</td>\n",
       "      <td>1.0</td>\n",
       "      <td>1.0</td>\n",
       "      <td>1.0</td>\n",
       "      <td>...</td>\n",
       "      <td>1.0</td>\n",
       "      <td>1.0</td>\n",
       "      <td>1.0</td>\n",
       "      <td>1.0</td>\n",
       "      <td>1.0</td>\n",
       "      <td>1.0</td>\n",
       "      <td>1.0</td>\n",
       "      <td>1.0</td>\n",
       "      <td>1.0</td>\n",
       "      <td>1.0</td>\n",
       "    </tr>\n",
       "    <tr>\n",
       "      <th>3</th>\n",
       "      <td>1.0</td>\n",
       "      <td>1.0</td>\n",
       "      <td>1.0</td>\n",
       "      <td>1.0</td>\n",
       "      <td>1.0</td>\n",
       "      <td>1.0</td>\n",
       "      <td>1.0</td>\n",
       "      <td>1.0</td>\n",
       "      <td>1.0</td>\n",
       "      <td>1.0</td>\n",
       "      <td>...</td>\n",
       "      <td>1.0</td>\n",
       "      <td>1.0</td>\n",
       "      <td>1.0</td>\n",
       "      <td>1.0</td>\n",
       "      <td>1.0</td>\n",
       "      <td>1.0</td>\n",
       "      <td>1.0</td>\n",
       "      <td>1.0</td>\n",
       "      <td>1.0</td>\n",
       "      <td>1.0</td>\n",
       "    </tr>\n",
       "    <tr>\n",
       "      <th>4</th>\n",
       "      <td>1.0</td>\n",
       "      <td>1.0</td>\n",
       "      <td>1.0</td>\n",
       "      <td>1.0</td>\n",
       "      <td>1.0</td>\n",
       "      <td>1.0</td>\n",
       "      <td>1.0</td>\n",
       "      <td>1.0</td>\n",
       "      <td>1.0</td>\n",
       "      <td>1.0</td>\n",
       "      <td>...</td>\n",
       "      <td>1.0</td>\n",
       "      <td>1.0</td>\n",
       "      <td>1.0</td>\n",
       "      <td>1.0</td>\n",
       "      <td>1.0</td>\n",
       "      <td>1.0</td>\n",
       "      <td>1.0</td>\n",
       "      <td>1.0</td>\n",
       "      <td>1.0</td>\n",
       "      <td>1.0</td>\n",
       "    </tr>\n",
       "    <tr>\n",
       "      <th>...</th>\n",
       "      <td>...</td>\n",
       "      <td>...</td>\n",
       "      <td>...</td>\n",
       "      <td>...</td>\n",
       "      <td>...</td>\n",
       "      <td>...</td>\n",
       "      <td>...</td>\n",
       "      <td>...</td>\n",
       "      <td>...</td>\n",
       "      <td>...</td>\n",
       "      <td>...</td>\n",
       "      <td>...</td>\n",
       "      <td>...</td>\n",
       "      <td>...</td>\n",
       "      <td>...</td>\n",
       "      <td>...</td>\n",
       "      <td>...</td>\n",
       "      <td>...</td>\n",
       "      <td>...</td>\n",
       "      <td>...</td>\n",
       "      <td>...</td>\n",
       "    </tr>\n",
       "    <tr>\n",
       "      <th>118</th>\n",
       "      <td>1.0</td>\n",
       "      <td>1.0</td>\n",
       "      <td>1.0</td>\n",
       "      <td>1.0</td>\n",
       "      <td>1.0</td>\n",
       "      <td>1.0</td>\n",
       "      <td>1.0</td>\n",
       "      <td>1.0</td>\n",
       "      <td>1.0</td>\n",
       "      <td>1.0</td>\n",
       "      <td>...</td>\n",
       "      <td>1.0</td>\n",
       "      <td>1.0</td>\n",
       "      <td>1.0</td>\n",
       "      <td>1.0</td>\n",
       "      <td>1.0</td>\n",
       "      <td>1.0</td>\n",
       "      <td>1.0</td>\n",
       "      <td>1.0</td>\n",
       "      <td>1.0</td>\n",
       "      <td>1.0</td>\n",
       "    </tr>\n",
       "    <tr>\n",
       "      <th>119</th>\n",
       "      <td>1.0</td>\n",
       "      <td>1.0</td>\n",
       "      <td>1.0</td>\n",
       "      <td>1.0</td>\n",
       "      <td>1.0</td>\n",
       "      <td>1.0</td>\n",
       "      <td>1.0</td>\n",
       "      <td>1.0</td>\n",
       "      <td>1.0</td>\n",
       "      <td>1.0</td>\n",
       "      <td>...</td>\n",
       "      <td>1.0</td>\n",
       "      <td>1.0</td>\n",
       "      <td>1.0</td>\n",
       "      <td>1.0</td>\n",
       "      <td>1.0</td>\n",
       "      <td>1.0</td>\n",
       "      <td>1.0</td>\n",
       "      <td>1.0</td>\n",
       "      <td>1.0</td>\n",
       "      <td>1.0</td>\n",
       "    </tr>\n",
       "    <tr>\n",
       "      <th>120</th>\n",
       "      <td>1.0</td>\n",
       "      <td>1.0</td>\n",
       "      <td>1.0</td>\n",
       "      <td>1.0</td>\n",
       "      <td>1.0</td>\n",
       "      <td>1.0</td>\n",
       "      <td>1.0</td>\n",
       "      <td>1.0</td>\n",
       "      <td>1.0</td>\n",
       "      <td>1.0</td>\n",
       "      <td>...</td>\n",
       "      <td>1.0</td>\n",
       "      <td>1.0</td>\n",
       "      <td>1.0</td>\n",
       "      <td>1.0</td>\n",
       "      <td>1.0</td>\n",
       "      <td>1.0</td>\n",
       "      <td>1.0</td>\n",
       "      <td>1.0</td>\n",
       "      <td>1.0</td>\n",
       "      <td>1.0</td>\n",
       "    </tr>\n",
       "    <tr>\n",
       "      <th>121</th>\n",
       "      <td>1.0</td>\n",
       "      <td>1.0</td>\n",
       "      <td>1.0</td>\n",
       "      <td>1.0</td>\n",
       "      <td>1.0</td>\n",
       "      <td>1.0</td>\n",
       "      <td>1.0</td>\n",
       "      <td>1.0</td>\n",
       "      <td>1.0</td>\n",
       "      <td>1.0</td>\n",
       "      <td>...</td>\n",
       "      <td>1.0</td>\n",
       "      <td>1.0</td>\n",
       "      <td>1.0</td>\n",
       "      <td>1.0</td>\n",
       "      <td>1.0</td>\n",
       "      <td>1.0</td>\n",
       "      <td>1.0</td>\n",
       "      <td>1.0</td>\n",
       "      <td>1.0</td>\n",
       "      <td>1.0</td>\n",
       "    </tr>\n",
       "    <tr>\n",
       "      <th>122</th>\n",
       "      <td>1.0</td>\n",
       "      <td>1.0</td>\n",
       "      <td>1.0</td>\n",
       "      <td>1.0</td>\n",
       "      <td>1.0</td>\n",
       "      <td>1.0</td>\n",
       "      <td>1.0</td>\n",
       "      <td>1.0</td>\n",
       "      <td>1.0</td>\n",
       "      <td>1.0</td>\n",
       "      <td>...</td>\n",
       "      <td>1.0</td>\n",
       "      <td>1.0</td>\n",
       "      <td>1.0</td>\n",
       "      <td>1.0</td>\n",
       "      <td>1.0</td>\n",
       "      <td>1.0</td>\n",
       "      <td>1.0</td>\n",
       "      <td>1.0</td>\n",
       "      <td>1.0</td>\n",
       "      <td>1.0</td>\n",
       "    </tr>\n",
       "  </tbody>\n",
       "</table>\n",
       "<p>123 rows × 30 columns</p>\n",
       "</div>"
      ],
      "text/plain": [
       "      0    1    2    3    4    5    6    7    8    9   ...   20   21   22  \\\n",
       "0    1.0  1.0  1.0  1.0  1.0  1.0  1.0  1.0  1.0  1.0  ...  1.0  1.0  1.0   \n",
       "1    1.0  1.0  1.0  1.0  1.0  1.0  1.0  1.0  1.0  1.0  ...  1.0  1.0  1.0   \n",
       "2    1.0  1.0  1.0  1.0  1.0  1.0  1.0  1.0  1.0  1.0  ...  1.0  1.0  1.0   \n",
       "3    1.0  1.0  1.0  1.0  1.0  1.0  1.0  1.0  1.0  1.0  ...  1.0  1.0  1.0   \n",
       "4    1.0  1.0  1.0  1.0  1.0  1.0  1.0  1.0  1.0  1.0  ...  1.0  1.0  1.0   \n",
       "..   ...  ...  ...  ...  ...  ...  ...  ...  ...  ...  ...  ...  ...  ...   \n",
       "118  1.0  1.0  1.0  1.0  1.0  1.0  1.0  1.0  1.0  1.0  ...  1.0  1.0  1.0   \n",
       "119  1.0  1.0  1.0  1.0  1.0  1.0  1.0  1.0  1.0  1.0  ...  1.0  1.0  1.0   \n",
       "120  1.0  1.0  1.0  1.0  1.0  1.0  1.0  1.0  1.0  1.0  ...  1.0  1.0  1.0   \n",
       "121  1.0  1.0  1.0  1.0  1.0  1.0  1.0  1.0  1.0  1.0  ...  1.0  1.0  1.0   \n",
       "122  1.0  1.0  1.0  1.0  1.0  1.0  1.0  1.0  1.0  1.0  ...  1.0  1.0  1.0   \n",
       "\n",
       "      23   24   25   26   27   28   29  \n",
       "0    1.0  1.0  1.0  1.0  1.0  1.0  1.0  \n",
       "1    1.0  1.0  1.0  1.0  1.0  1.0  1.0  \n",
       "2    1.0  1.0  1.0  1.0  1.0  1.0  1.0  \n",
       "3    1.0  1.0  1.0  1.0  1.0  1.0  1.0  \n",
       "4    1.0  1.0  1.0  1.0  1.0  1.0  1.0  \n",
       "..   ...  ...  ...  ...  ...  ...  ...  \n",
       "118  1.0  1.0  1.0  1.0  1.0  1.0  1.0  \n",
       "119  1.0  1.0  1.0  1.0  1.0  1.0  1.0  \n",
       "120  1.0  1.0  1.0  1.0  1.0  1.0  1.0  \n",
       "121  1.0  1.0  1.0  1.0  1.0  1.0  1.0  \n",
       "122  1.0  1.0  1.0  1.0  1.0  1.0  1.0  \n",
       "\n",
       "[123 rows x 30 columns]"
      ]
     },
     "execution_count": 64,
     "metadata": {},
     "output_type": "execute_result"
    }
   ],
   "source": [
    "pd.DataFrame(output_1st_review_without_pad)"
   ]
  },
  {
   "cell_type": "code",
   "execution_count": 65,
   "id": "0644458f-47cf-4e13-a7cd-162d1a87ecac",
   "metadata": {
    "execution": {
     "iopub.execute_input": "2022-11-25T06:10:03.469349Z",
     "iopub.status.busy": "2022-11-25T06:10:03.468882Z",
     "iopub.status.idle": "2022-11-25T06:10:05.827534Z",
     "shell.execute_reply": "2022-11-25T06:10:05.826578Z",
     "shell.execute_reply.started": "2022-11-25T06:10:03.469321Z"
    },
    "tags": []
   },
   "outputs": [],
   "source": [
    "model.add(LSTM(units=32, dropout=0.7, recurrent_dropout=0.7))\n",
    "model.add(Dense(1, activation='sigmoid'))"
   ]
  },
  {
   "cell_type": "code",
   "execution_count": 66,
   "id": "dba78f78-2041-4270-a9f8-2caecc05320e",
   "metadata": {
    "execution": {
     "iopub.execute_input": "2022-11-25T06:10:05.829292Z",
     "iopub.status.busy": "2022-11-25T06:10:05.828804Z",
     "iopub.status.idle": "2022-11-25T06:10:05.843261Z",
     "shell.execute_reply": "2022-11-25T06:10:05.842444Z",
     "shell.execute_reply.started": "2022-11-25T06:10:05.829264Z"
    },
    "tags": []
   },
   "outputs": [],
   "source": [
    "model.compile(optimizer='adam', \n",
    "              loss='binary_crossentropy', \n",
    "              metrics=['acc'])"
   ]
  },
  {
   "cell_type": "code",
   "execution_count": 67,
   "id": "a2689ea7-70e4-491b-ab4b-7d8ec25425b4",
   "metadata": {
    "execution": {
     "iopub.execute_input": "2022-11-25T06:10:05.846042Z",
     "iopub.status.busy": "2022-11-25T06:10:05.845772Z",
     "iopub.status.idle": "2022-11-25T06:10:05.883659Z",
     "shell.execute_reply": "2022-11-25T06:10:05.882634Z",
     "shell.execute_reply.started": "2022-11-25T06:10:05.846013Z"
    },
    "tags": []
   },
   "outputs": [
    {
     "name": "stdout",
     "output_type": "stream",
     "text": [
      "Model: \"sequential\"\n",
      "_________________________________________________________________\n",
      " Layer (type)                Output Shape              Param #   \n",
      "=================================================================\n",
      " embedding_5 (Embedding)     (None, 100, 30)           4680240   \n",
      "                                                                 \n",
      " lstm_2 (LSTM)               (None, 32)                8064      \n",
      "                                                                 \n",
      " dense_6 (Dense)             (None, 1)                 33        \n",
      "                                                                 \n",
      "=================================================================\n",
      "Total params: 4,688,337\n",
      "Trainable params: 4,688,337\n",
      "Non-trainable params: 0\n",
      "_________________________________________________________________\n",
      "None\n"
     ]
    }
   ],
   "source": [
    "print(model.summary())"
   ]
  },
  {
   "cell_type": "code",
   "execution_count": 68,
   "id": "77f5cfbb-5dfd-471d-b400-32e44496cf50",
   "metadata": {
    "execution": {
     "iopub.execute_input": "2022-11-25T06:10:05.885507Z",
     "iopub.status.busy": "2022-11-25T06:10:05.884918Z",
     "iopub.status.idle": "2022-11-25T06:24:54.729791Z",
     "shell.execute_reply": "2022-11-25T06:24:54.729038Z",
     "shell.execute_reply.started": "2022-11-25T06:10:05.885467Z"
    },
    "tags": []
   },
   "outputs": [
    {
     "name": "stdout",
     "output_type": "stream",
     "text": [
      "Epoch 1/20\n",
      "313/313 [==============================] - 45s 136ms/step - loss: 0.6982 - acc: 0.5041 - val_loss: 0.6932 - val_acc: 0.5043\n",
      "Epoch 2/20\n",
      "313/313 [==============================] - 45s 143ms/step - loss: 0.6943 - acc: 0.5037 - val_loss: 0.6925 - val_acc: 0.5044\n",
      "Epoch 3/20\n",
      "313/313 [==============================] - 44s 139ms/step - loss: 0.6935 - acc: 0.5063 - val_loss: 0.6923 - val_acc: 0.5043\n",
      "Epoch 4/20\n",
      "313/313 [==============================] - 43s 136ms/step - loss: 0.6927 - acc: 0.5138 - val_loss: 0.6926 - val_acc: 0.4957\n",
      "Epoch 5/20\n",
      "313/313 [==============================] - 43s 138ms/step - loss: 0.6918 - acc: 0.5167 - val_loss: 0.6896 - val_acc: 0.5190\n",
      "Epoch 6/20\n",
      "313/313 [==============================] - 43s 137ms/step - loss: 0.6839 - acc: 0.5501 - val_loss: 0.6331 - val_acc: 0.6175\n",
      "Epoch 7/20\n",
      "313/313 [==============================] - 43s 137ms/step - loss: 0.5775 - acc: 0.6995 - val_loss: 0.4154 - val_acc: 0.8291\n",
      "Epoch 8/20\n",
      "313/313 [==============================] - 43s 138ms/step - loss: 0.4460 - acc: 0.8019 - val_loss: 0.4185 - val_acc: 0.8288\n",
      "Epoch 9/20\n",
      "313/313 [==============================] - 42s 135ms/step - loss: 0.3907 - acc: 0.8316 - val_loss: 0.3931 - val_acc: 0.8450\n",
      "Epoch 10/20\n",
      "313/313 [==============================] - 43s 137ms/step - loss: 0.3481 - acc: 0.8519 - val_loss: 0.3722 - val_acc: 0.8608\n",
      "Epoch 11/20\n",
      "313/313 [==============================] - 43s 136ms/step - loss: 0.3314 - acc: 0.8579 - val_loss: 0.3710 - val_acc: 0.8644\n",
      "Epoch 12/20\n",
      "313/313 [==============================] - 43s 136ms/step - loss: 0.3068 - acc: 0.8724 - val_loss: 0.4451 - val_acc: 0.8468\n",
      "Epoch 13/20\n",
      "313/313 [==============================] - 43s 138ms/step - loss: 0.2848 - acc: 0.8834 - val_loss: 0.3843 - val_acc: 0.8683\n",
      "Epoch 14/20\n",
      "313/313 [==============================] - 45s 143ms/step - loss: 0.2753 - acc: 0.8878 - val_loss: 0.3910 - val_acc: 0.8677\n",
      "Epoch 15/20\n",
      "313/313 [==============================] - 50s 159ms/step - loss: 0.2602 - acc: 0.8943 - val_loss: 0.5351 - val_acc: 0.8304\n",
      "Epoch 16/20\n",
      "313/313 [==============================] - 45s 145ms/step - loss: 0.2486 - acc: 0.8990 - val_loss: 0.3878 - val_acc: 0.8659\n",
      "Epoch 17/20\n",
      "313/313 [==============================] - 47s 150ms/step - loss: 0.2400 - acc: 0.9047 - val_loss: 0.3611 - val_acc: 0.8731\n",
      "Epoch 18/20\n",
      "313/313 [==============================] - 49s 157ms/step - loss: 0.2268 - acc: 0.9104 - val_loss: 0.3622 - val_acc: 0.8786\n",
      "Epoch 19/20\n",
      "313/313 [==============================] - 46s 147ms/step - loss: 0.2157 - acc: 0.9153 - val_loss: 0.3744 - val_acc: 0.8770\n",
      "Epoch 20/20\n",
      "313/313 [==============================] - 45s 145ms/step - loss: 0.2128 - acc: 0.9151 - val_loss: 0.4150 - val_acc: 0.8738\n"
     ]
    },
    {
     "data": {
      "text/plain": [
       "<keras.callbacks.History at 0x1ae026c70>"
      ]
     },
     "execution_count": 68,
     "metadata": {},
     "output_type": "execute_result"
    }
   ],
   "source": [
    "model.fit(X_train_pad, y_train, \n",
    "          batch_size=128, \n",
    "          epochs=20, \n",
    "          verbose=1, \n",
    "          validation_data=(X_test_pad, y_test))"
   ]
  },
  {
   "cell_type": "code",
   "execution_count": 69,
   "id": "73af3a7b-0ead-4433-8127-6397e71a3133",
   "metadata": {
    "execution": {
     "iopub.execute_input": "2022-11-25T06:24:54.731273Z",
     "iopub.status.busy": "2022-11-25T06:24:54.730843Z",
     "iopub.status.idle": "2022-11-25T06:24:58.507811Z",
     "shell.execute_reply": "2022-11-25T06:24:58.507038Z",
     "shell.execute_reply.started": "2022-11-25T06:24:54.731241Z"
    },
    "tags": []
   },
   "outputs": [
    {
     "name": "stdout",
     "output_type": "stream",
     "text": [
      "313/313 [==============================] - 4s 11ms/step\n"
     ]
    }
   ],
   "source": [
    "y_hat = model.predict(X_test_pad)"
   ]
  },
  {
   "cell_type": "code",
   "execution_count": 70,
   "id": "dc3c360b-0742-4f8e-b54b-1bac83b8fe1a",
   "metadata": {
    "execution": {
     "iopub.execute_input": "2022-11-25T06:24:58.509393Z",
     "iopub.status.busy": "2022-11-25T06:24:58.509039Z",
     "iopub.status.idle": "2022-11-25T06:24:58.531765Z",
     "shell.execute_reply": "2022-11-25T06:24:58.530947Z",
     "shell.execute_reply.started": "2022-11-25T06:24:58.509364Z"
    },
    "tags": []
   },
   "outputs": [
    {
     "name": "stdout",
     "output_type": "stream",
     "text": [
      "Glove + LSTM {'0': {'precision': 0.5043, 'recall': 1.0, 'f1-score': 0.6704779631722395, 'support': 5043}, '1': {'precision': 0.0, 'recall': 0.0, 'f1-score': 0.0, 'support': 4957}, 'accuracy': 0.5043, 'macro avg': {'precision': 0.25215, 'recall': 0.5, 'f1-score': 0.33523898158611976, 'support': 10000}, 'weighted avg': {'precision': 0.25431848999999995, 'recall': 0.5043, 'f1-score': 0.3381220368277604, 'support': 10000}}\n"
     ]
    },
    {
     "name": "stderr",
     "output_type": "stream",
     "text": [
      "/usr/local/lib/python3.9/site-packages/sklearn/metrics/_classification.py:1334: UndefinedMetricWarning: Precision and F-score are ill-defined and being set to 0.0 in labels with no predicted samples. Use `zero_division` parameter to control this behavior.\n",
      "  _warn_prf(average, modifier, msg_start, len(result))\n",
      "/usr/local/lib/python3.9/site-packages/sklearn/metrics/_classification.py:1334: UndefinedMetricWarning: Precision and F-score are ill-defined and being set to 0.0 in labels with no predicted samples. Use `zero_division` parameter to control this behavior.\n",
      "  _warn_prf(average, modifier, msg_start, len(result))\n",
      "/usr/local/lib/python3.9/site-packages/sklearn/metrics/_classification.py:1334: UndefinedMetricWarning: Precision and F-score are ill-defined and being set to 0.0 in labels with no predicted samples. Use `zero_division` parameter to control this behavior.\n",
      "  _warn_prf(average, modifier, msg_start, len(result))\n"
     ]
    }
   ],
   "source": [
    "keras_embed_acc = classification_report(y_test, np.argmax(y_hat, axis=1), output_dict=True)\n",
    "print(\"keras embedding: \", keras_embed_acc)"
   ]
  },
  {
   "cell_type": "code",
   "execution_count": 71,
   "id": "6430beee-8042-4e88-ae87-74307cdda182",
   "metadata": {
    "execution": {
     "iopub.execute_input": "2022-11-25T06:24:58.534111Z",
     "iopub.status.busy": "2022-11-25T06:24:58.533696Z",
     "iopub.status.idle": "2022-11-25T06:24:58.562805Z",
     "shell.execute_reply": "2022-11-25T06:24:58.562082Z",
     "shell.execute_reply.started": "2022-11-25T06:24:58.534085Z"
    },
    "tags": []
   },
   "outputs": [],
   "source": [
    "word_embeddings = embedding_layer.get_weights()[0]"
   ]
  },
  {
   "cell_type": "code",
   "execution_count": 72,
   "id": "d8a8831d-8ef3-4971-bb01-efe6e69b5785",
   "metadata": {
    "execution": {
     "iopub.execute_input": "2022-11-25T06:24:58.564228Z",
     "iopub.status.busy": "2022-11-25T06:24:58.563821Z",
     "iopub.status.idle": "2022-11-25T06:24:58.657126Z",
     "shell.execute_reply": "2022-11-25T06:24:58.656401Z",
     "shell.execute_reply.started": "2022-11-25T06:24:58.564142Z"
    },
    "tags": []
   },
   "outputs": [],
   "source": [
    "# `word_to_index` is a mapping (i.e. dict) from words to their index, e.g. `love`: 69\n",
    "embedding_4_each_words = {w:word_embeddings[idx] for w, idx in word_index.items()}"
   ]
  },
  {
   "cell_type": "code",
   "execution_count": 73,
   "id": "ccc64934-2b75-4d3b-986a-fc79d811b58e",
   "metadata": {
    "execution": {
     "iopub.execute_input": "2022-11-25T06:24:58.658710Z",
     "iopub.status.busy": "2022-11-25T06:24:58.658193Z",
     "iopub.status.idle": "2022-11-25T06:24:58.685069Z",
     "shell.execute_reply": "2022-11-25T06:24:58.684455Z",
     "shell.execute_reply.started": "2022-11-25T06:24:58.658685Z"
    },
    "tags": []
   },
   "outputs": [],
   "source": [
    "simil = cosine_similarity(word_embeddings, embedding_4_each_words['good'].reshape(1, -1))"
   ]
  },
  {
   "cell_type": "code",
   "execution_count": 74,
   "id": "235bcbb5-1297-4170-958e-3df4abab2ef7",
   "metadata": {
    "execution": {
     "iopub.execute_input": "2022-11-25T06:24:58.686955Z",
     "iopub.status.busy": "2022-11-25T06:24:58.686593Z",
     "iopub.status.idle": "2022-11-25T06:25:00.085823Z",
     "shell.execute_reply": "2022-11-25T06:25:00.085120Z",
     "shell.execute_reply.started": "2022-11-25T06:24:58.686916Z"
    },
    "tags": []
   },
   "outputs": [],
   "source": [
    "n = 5\n",
    "top_n_similar = sorted(range(len(simil)), key=lambda i: simil[i])[-n-1:-1]"
   ]
  },
  {
   "cell_type": "code",
   "execution_count": 75,
   "id": "948c8004-4a54-4dc8-8aa3-5cd92e782711",
   "metadata": {
    "execution": {
     "iopub.execute_input": "2022-11-25T06:25:00.087192Z",
     "iopub.status.busy": "2022-11-25T06:25:00.086785Z",
     "iopub.status.idle": "2022-11-25T06:25:03.469425Z",
     "shell.execute_reply": "2022-11-25T06:25:03.467651Z",
     "shell.execute_reply.started": "2022-11-25T06:25:00.087165Z"
    },
    "tags": []
   },
   "outputs": [
    {
     "name": "stdout",
     "output_type": "stream",
     "text": [
      "jack [0.99675786]\n",
      "to [0.9965871]\n",
      "clairvoy [0.99651676]\n",
      "outstay [0.99675536]\n",
      "mceveeti [0.9965618]\n"
     ]
    }
   ],
   "source": [
    "for word, vector in embedding_4_each_words.items():  # for name, age in dictionary.iteritems():  (for Python 2.x)\n",
    "    for i in range (n):\n",
    "        if np.array_equal(vector,word_embeddings[top_n_similar[i]]):\n",
    "            print(word, simil[top_n_similar[i]])"
   ]
  },
  {
   "cell_type": "code",
   "execution_count": 76,
   "id": "7992b6b2-d25c-443c-b714-7cbee6bfb30c",
   "metadata": {
    "execution": {
     "iopub.execute_input": "2022-11-25T06:25:03.483554Z",
     "iopub.status.busy": "2022-11-25T06:25:03.483106Z",
     "iopub.status.idle": "2022-11-25T06:25:03.497499Z",
     "shell.execute_reply": "2022-11-25T06:25:03.493890Z",
     "shell.execute_reply.started": "2022-11-25T06:25:03.483523Z"
    },
    "tags": []
   },
   "outputs": [
    {
     "data": {
      "text/plain": [
       "[13501, 25496, 9603, 19848, 626]"
      ]
     },
     "execution_count": 76,
     "metadata": {},
     "output_type": "execute_result"
    }
   ],
   "source": [
    "top_n_similar"
   ]
  },
  {
   "cell_type": "code",
   "execution_count": 77,
   "id": "11fcfe1a-d472-4c45-835c-221cf1f96f7d",
   "metadata": {
    "execution": {
     "iopub.execute_input": "2022-11-25T06:25:03.499954Z",
     "iopub.status.busy": "2022-11-25T06:25:03.499320Z",
     "iopub.status.idle": "2022-11-25T06:25:03.514559Z",
     "shell.execute_reply": "2022-11-25T06:25:03.513012Z",
     "shell.execute_reply.started": "2022-11-25T06:25:03.499909Z"
    },
    "tags": []
   },
   "outputs": [
    {
     "data": {
      "text/plain": [
       "array([[0.9100807 ],\n",
       "       [0.95787895],\n",
       "       [0.97657   ],\n",
       "       ...,\n",
       "       [0.9235605 ],\n",
       "       [0.97154987],\n",
       "       [0.9812816 ]], dtype=float32)"
      ]
     },
     "execution_count": 77,
     "metadata": {},
     "output_type": "execute_result"
    }
   ],
   "source": [
    "simil"
   ]
  },
  {
   "cell_type": "code",
   "execution_count": null,
   "id": "d2d58cbe-2941-4ba8-a87c-2d0342744607",
   "metadata": {},
   "outputs": [],
   "source": []
  }
 ],
 "metadata": {
  "kernelspec": {
   "display_name": "Python 3 (ipykernel)",
   "language": "python",
   "name": "python3"
  },
  "language_info": {
   "codemirror_mode": {
    "name": "ipython",
    "version": 3
   },
   "file_extension": ".py",
   "mimetype": "text/x-python",
   "name": "python",
   "nbconvert_exporter": "python",
   "pygments_lexer": "ipython3",
   "version": "3.9.12"
  }
 },
 "nbformat": 4,
 "nbformat_minor": 5
}
